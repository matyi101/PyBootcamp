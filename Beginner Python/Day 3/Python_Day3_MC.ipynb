{
 "cells": [
  {
   "cell_type": "markdown",
   "metadata": {
    "colab_type": "text",
    "id": "B2dhxeZtp2me"
   },
   "source": [
    "<img src=\"../images/python-logo.png\" style=\"height: 100px;\" align=left>"
   ]
  },
  {
   "cell_type": "markdown",
   "metadata": {
    "colab_type": "text",
    "id": "xC6R1peEp2mf",
    "toc-hr-collapsed": false
   },
   "source": [
    "# Python Fundamentals Day 3\n",
    "\n",
    "Welcome to Python Fundamentals Day 3.\n",
    "\n",
    "So what is on the menu for today? \n",
    "\n",
    "We start with reading and writing from files, learn how to transport data objects in the JSON format and how to browse the filesystem.\n",
    "\n",
    "Then we move to Exception handling. We learn about the different types of Exceptions, what they mean and how to resolve them. Then we learn how to handle Exceptions in our code using the try-except statement.\n",
    "\n",
    "Last but not least, we learn about Object Oriented Programming including class inheritance and how to define and use your own classes in your coding.\n",
    "\n",
    "Let's go!"
   ]
  },
  {
   "cell_type": "markdown",
   "metadata": {
    "colab_type": "text",
    "id": "VpnxMNl5p2mg"
   },
   "source": [
    "## Table of Contents\n",
    "\n",
    "- [File I/O](#File-I/O)\n",
    "    - [Reading and writing lines with open](#Reading-and-writing-lines-with-open)\n",
    "    - [JSON](#JSON)\n",
    "    - [File browsing with glob](#File-browsing-with-glob)\n",
    "    - [Summary](#Summary)\n",
    "        - [open](#open)\n",
    "        - [JSON](#JSON)\n",
    "        - [import](#import)\n",
    "        - [glob](#glob)\n",
    "    - [RUN ME](#RUN-ME)\n",
    "    - [Exercises](#Exercises)\n",
    "        - [Exercise 1 - Read in stocks](#Exercise-1---Read-in-stocks)\n",
    "        - [Exercise 2 - First ten names](#Exercise-2---First-ten-names)\n",
    "        - [Exercise 3 - Inc only](#Exercise-3---Inc-only)\n",
    "        - [Exercise 4 - Average PE](#Exercise-4---Average-PE)\n",
    "- [Exception Handling](#Exception-Handling)\n",
    "    - [Exceptions](#Exceptions)\n",
    "    - [Try except](#Try-except)\n",
    "    - [Summary](#Summary)\n",
    "        - [try except](#try-except)\n",
    "        - [try except else finally](#try-except-else-finally)\n",
    "    - [RUN ME](#RUN-ME)\n",
    "    - [Exercises](#Exercises)\n",
    "        - [Exercise 1 - Fix it Multiply](#Exercise-1---Fix-it-Multiply)\n",
    "        - [Exercise 2 - Fix it Numbers](#Exercise-2---Fix-it-Numbers)\n",
    "        - [Exercise 3 - Fix it Open](#Exercise-3---Fix-it-Open)\n",
    "        - [Exercise 4 - Try salaries](#Exercise-4---Try-salaries)\n",
    "- [Object Oriented Programming](#Object-Oriented-Programming)\n",
    "    - [Summary](#Summary)\n",
    "        - [class](#class)\n",
    "    - [RUN ME](#RUN-ME)\n",
    "    - [Exercises](#Exercises)\n",
    "        - [Exercise 1 - Get pokemon info](#Exercise-1---Get-pokemon-info)\n",
    "        - [Exercise 2 - Create a pokemon class](#Exercise-2---Create-a-pokemon-class)\n",
    "        - [Exercise 3 -  Load all pokemons](#Exercise-3----Load-all-pokemons)\n",
    "        - [Exercise 4 - Provide insights](#Exercise-4---Provide-insights)"
   ]
  },
  {
   "cell_type": "markdown",
   "metadata": {
    "colab_type": "text",
    "id": "CdFHX19Sp2mh",
    "toc-hr-collapsed": false
   },
   "source": [
    "## File I/O"
   ]
  },
  {
   "cell_type": "markdown",
   "metadata": {
    "colab_type": "text",
    "id": "XfErctqlp2mi"
   },
   "source": [
    "### Reading and writing lines with open"
   ]
  },
  {
   "cell_type": "markdown",
   "metadata": {
    "colab_type": "text",
    "id": "WpUYWzBTp2mi"
   },
   "source": [
    "Communicating with files is quite useful in programming.\n",
    "\n",
    "With the open() built-in function we can read, write and append to files.\n",
    "\n",
    "First check what is your working directory. You will be able to find the file that we will read and write there."
   ]
  },
  {
   "cell_type": "code",
   "execution_count": 11,
   "metadata": {
    "colab": {},
    "colab_type": "code",
    "id": "wkHOh60Hp2mj"
   },
   "outputs": [
    {
     "data": {
      "text/plain": [
       "'/Users/tarun/Downloads/MC/Day 3'"
      ]
     },
     "execution_count": 11,
     "metadata": {},
     "output_type": "execute_result"
    }
   ],
   "source": [
    "# MC\n",
    "\n",
    "%pwd"
   ]
  },
  {
   "cell_type": "markdown",
   "metadata": {
    "colab_type": "text",
    "id": "3ThZTAqLp2mn"
   },
   "source": [
    "We now create a file object which we will use to write something to file."
   ]
  },
  {
   "cell_type": "code",
   "execution_count": 15,
   "metadata": {},
   "outputs": [
    {
     "name": "stdout",
     "output_type": "stream",
     "text": [
      "Help on built-in function write:\n",
      "\n",
      "write(text, /) method of _io.TextIOWrapper instance\n",
      "    Write string to stream.\n",
      "    Returns the number of characters written (which is always equal to\n",
      "    the length of the string).\n",
      "\n"
     ]
    }
   ],
   "source": [
    "help(f.write)"
   ]
  },
  {
   "cell_type": "code",
   "execution_count": 19,
   "metadata": {
    "colab": {},
    "colab_type": "code",
    "id": "Dx7_RcTXp2mo"
   },
   "outputs": [
    {
     "data": {
      "text/plain": [
       "8"
      ]
     },
     "execution_count": 19,
     "metadata": {},
     "output_type": "execute_result"
    }
   ],
   "source": [
    "# MC\n",
    "\n",
    "f = open('test.txt', 'a')\n",
    "f.write(\"Hey!\\n\")\n",
    "f.write(\"Bye Bye!\")"
   ]
  },
  {
   "cell_type": "markdown",
   "metadata": {
    "colab_type": "text",
    "id": "hZeNE2RIp2mr"
   },
   "source": [
    "Now check the file in your folder. Can you see Hey! in test.txt? \n",
    "\n",
    "No you cannot. Yet.."
   ]
  },
  {
   "cell_type": "code",
   "execution_count": 20,
   "metadata": {
    "colab": {},
    "colab_type": "code",
    "id": "YocWxfZ1p2ms"
   },
   "outputs": [],
   "source": [
    "# MC\n",
    "\n",
    "f.close()"
   ]
  },
  {
   "cell_type": "markdown",
   "metadata": {
    "colab_type": "text",
    "id": "-qiBe5xMp2mu"
   },
   "source": [
    "Check test.txt again. \n",
    "\n",
    "Now it is there.\n",
    "\n",
    "So it is important to <u>not forget to close</u> the file object.\n",
    "\n",
    "There is an elegant construct for this. Let's try it."
   ]
  },
  {
   "cell_type": "code",
   "execution_count": 21,
   "metadata": {
    "colab": {},
    "colab_type": "code",
    "id": "Ep-ZZ6Hap2mv"
   },
   "outputs": [],
   "source": [
    "# MC - a better version\n",
    "\n",
    "with open('test2.txt', 'w') as f:\n",
    "    f.write(\"Hello!\")"
   ]
  },
  {
   "cell_type": "markdown",
   "metadata": {
    "colab_type": "text",
    "id": "NpZ7yjzAp2mx"
   },
   "source": [
    "Check again. Test test2.txt file is there.\n",
    "\n",
    "So what did we do here?\n",
    "\n",
    "open() returns a file object and it is commonly used with two arguments: open(file, mode)\n",
    "\n",
    "- file is a string containing the filename\n",
    "- mode describes in which way the file will be used: writing, reading, appending.\n",
    "\n",
    "mode can be:\n",
    "- `'r'` read (by default)\n",
    "- `'w'` write\n",
    "- `'a'` append\n",
    "\n",
    "Notice the fat-green with as statement. Within the with statement the file object will be available as f. After the statement the file object will be closed. "
   ]
  },
  {
   "cell_type": "code",
   "execution_count": 24,
   "metadata": {
    "colab": {},
    "colab_type": "code",
    "id": "93W7y4Cnp2mx"
   },
   "outputs": [
    {
     "name": "stdout",
     "output_type": "stream",
     "text": [
      "Hello!\n",
      "Hello!\n"
     ]
    }
   ],
   "source": [
    "# MC\n",
    "\n",
    "with open('test2.txt', 'r') as f:\n",
    "    print(f.read())"
   ]
  },
  {
   "cell_type": "code",
   "execution_count": 23,
   "metadata": {
    "colab": {},
    "colab_type": "code",
    "id": "hUFHFJRDp2mz"
   },
   "outputs": [],
   "source": [
    "# MC\n",
    "\n",
    "with open('test2.txt', 'a') as f:\n",
    "    f.write(\"\\n\")\n",
    "    f.write(\"Hello!\")"
   ]
  },
  {
   "cell_type": "markdown",
   "metadata": {
    "colab_type": "text",
    "id": "zHvDenUop2m2"
   },
   "source": [
    "Now we can check the contents of the file using \n",
    "\n",
    "!cat -- for Mac / Linux users\n",
    "\n",
    "!type -- for Windows users"
   ]
  },
  {
   "cell_type": "code",
   "execution_count": 27,
   "metadata": {
    "colab": {},
    "colab_type": "code",
    "id": "6K_6jDhTp2m2"
   },
   "outputs": [
    {
     "name": "stdout",
     "output_type": "stream",
     "text": [
      "Python_Day3_MC.ipynb test.txt\n",
      "answers.py           test2.txt\n"
     ]
    }
   ],
   "source": [
    "!cat test2.txt"
   ]
  },
  {
   "cell_type": "markdown",
   "metadata": {},
   "source": [
    "Use **strip()** to remove all whitespace characters from the beginning and the end of the string."
   ]
  },
  {
   "cell_type": "code",
   "execution_count": 28,
   "metadata": {
    "colab": {},
    "colab_type": "code",
    "id": "Q_0RISXqp2m5"
   },
   "outputs": [
    {
     "data": {
      "text/plain": [
       "'The names are:\\n\\nJeremy\\nJan\\nAkmal'"
      ]
     },
     "execution_count": 28,
     "metadata": {},
     "output_type": "execute_result"
    }
   ],
   "source": [
    "text = \"\"\"\n",
    "The names are:\n",
    "\n",
    "Jeremy\n",
    "Jan\n",
    "Akmal\n",
    "\"\"\".strip()\n",
    "\n",
    "text"
   ]
  },
  {
   "cell_type": "code",
   "execution_count": 32,
   "metadata": {},
   "outputs": [
    {
     "name": "stdout",
     "output_type": "stream",
     "text": [
      "Help on function join in module posixpath:\n",
      "\n",
      "join(a, *p)\n",
      "    Join two or more pathname components, inserting '/' as needed.\n",
      "    If any component is an absolute path, all previous path components\n",
      "    will be discarded.  An empty last part will result in a path that\n",
      "    ends with a separator.\n",
      "\n"
     ]
    }
   ],
   "source": [
    "import os\n",
    "help(os.path.join)"
   ]
  },
  {
   "cell_type": "code",
   "execution_count": 33,
   "metadata": {
    "colab": {},
    "colab_type": "code",
    "id": "ts8kP-ZQp2m7"
   },
   "outputs": [
    {
     "data": {
      "text/plain": [
       "'../data/names_raw.txt'"
      ]
     },
     "execution_count": 33,
     "metadata": {},
     "output_type": "execute_result"
    }
   ],
   "source": [
    "# MC\n",
    "\n",
    "import os\n",
    "file_names = os.path.join(\"..\",\"data\", \"names_raw.txt\")\n",
    "file_names"
   ]
  },
  {
   "cell_type": "markdown",
   "metadata": {
    "colab_type": "text",
    "id": "ROQ5iA0op2m9"
   },
   "source": [
    "The import statement allows you to import libraries which you can use. \n",
    "\n",
    "Here we use os.path.join to safely join the paths of the data folder and the names_raw. txt file so that it works for any operating system (Windows/Mac).\n",
    "\n",
    "You can iterate over the file object and do something **line by line**."
   ]
  },
  {
   "cell_type": "code",
   "execution_count": 37,
   "metadata": {
    "colab": {},
    "colab_type": "code",
    "id": "uRLcnW3gp2m9"
   },
   "outputs": [
    {
     "name": "stdout",
     "output_type": "stream",
     "text": [
      "The names are:\n",
      "\n",
      "\n",
      "\n",
      "Jeremy\n",
      "\n",
      "Narjes\n",
      "\n",
      "Amin\n",
      "../data/names_raw.txt\n"
     ]
    }
   ],
   "source": [
    "# MC\n",
    "\n",
    "with open(file_names, 'r') as f:\n",
    "    for line in f:\n",
    "        print(line)\n",
    "    print(f.name)"
   ]
  },
  {
   "cell_type": "markdown",
   "metadata": {
    "colab_type": "text",
    "id": "9Yi2T3W5p2m_"
   },
   "source": [
    "Let's say now we want to transform this file into a list of names. "
   ]
  },
  {
   "cell_type": "markdown",
   "metadata": {
    "colab_type": "text",
    "id": "e4yWzf0sp2nA"
   },
   "source": [
    "**Question:** How can we transform this into a list of the names?\n",
    "<br> \n"
   ]
  },
  {
   "cell_type": "markdown",
   "metadata": {
    "colab_type": "text",
    "id": "om5NI1vIp2nB"
   },
   "source": [
    "Let's parse the contents of this file into a list of names."
   ]
  },
  {
   "cell_type": "code",
   "execution_count": 36,
   "metadata": {},
   "outputs": [
    {
     "data": {
      "text/plain": [
       "['_CHUNK_SIZE',\n",
       " '__class__',\n",
       " '__del__',\n",
       " '__delattr__',\n",
       " '__dict__',\n",
       " '__dir__',\n",
       " '__doc__',\n",
       " '__enter__',\n",
       " '__eq__',\n",
       " '__exit__',\n",
       " '__format__',\n",
       " '__ge__',\n",
       " '__getattribute__',\n",
       " '__getstate__',\n",
       " '__gt__',\n",
       " '__hash__',\n",
       " '__init__',\n",
       " '__init_subclass__',\n",
       " '__iter__',\n",
       " '__le__',\n",
       " '__lt__',\n",
       " '__ne__',\n",
       " '__new__',\n",
       " '__next__',\n",
       " '__reduce__',\n",
       " '__reduce_ex__',\n",
       " '__repr__',\n",
       " '__setattr__',\n",
       " '__sizeof__',\n",
       " '__str__',\n",
       " '__subclasshook__',\n",
       " '_checkClosed',\n",
       " '_checkReadable',\n",
       " '_checkSeekable',\n",
       " '_checkWritable',\n",
       " '_finalizing',\n",
       " 'buffer',\n",
       " 'close',\n",
       " 'closed',\n",
       " 'detach',\n",
       " 'encoding',\n",
       " 'errors',\n",
       " 'fileno',\n",
       " 'flush',\n",
       " 'isatty',\n",
       " 'line_buffering',\n",
       " 'mode',\n",
       " 'name',\n",
       " 'newlines',\n",
       " 'read',\n",
       " 'readable',\n",
       " 'readline',\n",
       " 'readlines',\n",
       " 'reconfigure',\n",
       " 'seek',\n",
       " 'seekable',\n",
       " 'tell',\n",
       " 'truncate',\n",
       " 'writable',\n",
       " 'write',\n",
       " 'write_through',\n",
       " 'writelines']"
      ]
     },
     "execution_count": 36,
     "metadata": {},
     "output_type": "execute_result"
    }
   ],
   "source": [
    "dir(f)"
   ]
  },
  {
   "cell_type": "code",
   "execution_count": 41,
   "metadata": {},
   "outputs": [
    {
     "data": {
      "text/plain": [
       "['Jeremy', 'Narjes', 'Amin']"
      ]
     },
     "execution_count": 41,
     "metadata": {},
     "output_type": "execute_result"
    }
   ],
   "source": [
    "# MC - str.strip()\n",
    "\n",
    "with open(file_names, 'r') as f:\n",
    "    lines_list = []\n",
    "    for line in f:\n",
    "        lines_list.append(line.strip())\n",
    "        \n",
    "lines_list[2:]"
   ]
  },
  {
   "cell_type": "markdown",
   "metadata": {
    "colab_type": "text",
    "id": "Y3yfJnajp2nF"
   },
   "source": [
    "### JSON"
   ]
  },
  {
   "cell_type": "markdown",
   "metadata": {
    "colab_type": "text",
    "id": "4FZNSap6p2nG"
   },
   "source": [
    "JSON (JavaScript Object Notation) is an open-standard format that uses human-readable text to transmit data objects consisting of attribute–value pairs. \n",
    "\n",
    "It is used often by API's (Application Programming Interface) to communicate data between programs or to commumnicate data between an applications and users.\n",
    "\n",
    "The notation is almost the same as the dictionary in Python except for:\n",
    "\n",
    "- JSON: true/false -- Python: True/False\n",
    "- JSON: null -- Python: None\n",
    "\n",
    "Here is an example JSON from [wikipedia](https://en.wikipedia.org/wiki/JSON#Data_types.2C_syntax_and_example)\n",
    "\n",
    "```json\n",
    "{\n",
    "  \"firstName\": \"John\",\n",
    "  \"lastName\": \"Smith\",\n",
    "  \"isAlive\": true,\n",
    "  \"age\": 25,\n",
    "  \"address\": {\n",
    "    \"streetAddress\": \"21 2nd Street\",\n",
    "    \"city\": \"New York\",\n",
    "    \"state\": \"NY\",\n",
    "    \"postalCode\": \"10021-3100\"\n",
    "  },\n",
    "  \"phoneNumbers\": [\n",
    "    {\n",
    "      \"type\": \"home\",\n",
    "      \"number\": \"212 555-1234\"\n",
    "    },\n",
    "    {\n",
    "      \"type\": \"office\",\n",
    "      \"number\": \"646 555-4567\"\n",
    "    },\n",
    "    {\n",
    "      \"type\": \"mobile\",\n",
    "      \"number\": \"123 456-7890\"\n",
    "    }\n",
    "  ],\n",
    "  \"children\": [],\n",
    "  \"spouse\": null\n",
    "}\n",
    "```"
   ]
  },
  {
   "cell_type": "markdown",
   "metadata": {
    "colab_type": "text",
    "id": "zZHT8UGmp2nG"
   },
   "source": [
    "First we import the json library to provide us with the functionality. "
   ]
  },
  {
   "cell_type": "code",
   "execution_count": 3,
   "metadata": {
    "colab": {},
    "colab_type": "code",
    "id": "T0htQs90p2nH"
   },
   "outputs": [],
   "source": [
    "# MC\n",
    "\n",
    "import json"
   ]
  },
  {
   "cell_type": "markdown",
   "metadata": {
    "colab_type": "text",
    "id": "ANgP1eYep2nJ"
   },
   "source": [
    "We can transform a data object into a **json string** and transform it back. "
   ]
  },
  {
   "cell_type": "code",
   "execution_count": 65,
   "metadata": {
    "colab": {},
    "colab_type": "code",
    "id": "cfFirpA4p2nJ"
   },
   "outputs": [
    {
     "data": {
      "text/plain": [
       "{'name': 'Jeremy', 'grades': [10, 15], 'teacher': True, 'complaints': None}"
      ]
     },
     "execution_count": 65,
     "metadata": {},
     "output_type": "execute_result"
    }
   ],
   "source": [
    "# Create a dictionary\n",
    "\n",
    "data = {\"name\": \"Jeremy\", \n",
    "        \"grades\": [10, 15], \n",
    "        \"teacher\": True, \n",
    "        \"complaints\": None}\n",
    "data"
   ]
  },
  {
   "cell_type": "code",
   "execution_count": 66,
   "metadata": {
    "colab": {},
    "colab_type": "code",
    "id": "mXiNLl46p2nM"
   },
   "outputs": [
    {
     "data": {
      "text/plain": [
       "'{\"name\": \"Jeremy\", \"grades\": [10, 15], \"teacher\": true, \"complaints\": null}'"
      ]
     },
     "execution_count": 66,
     "metadata": {},
     "output_type": "execute_result"
    }
   ],
   "source": [
    "# MC - use dumps to save dict into JSON format\n",
    "\n",
    "data_json = json.dumps(data)\n",
    "data_json"
   ]
  },
  {
   "cell_type": "markdown",
   "metadata": {
    "colab_type": "text",
    "id": "Ey7IuB7Zp2nQ"
   },
   "source": [
    "**Question:** Do you see the difference between a dictionary and a JSON?\n",
    "<br><br><br>\n",
    "**Notice the difference in <u>true</u> and <u>null</u>**. Also notice <u>the addidtional quotes at the start and the end as this is a string.</u>\n",
    "\n",
    "Now we del data. Then load it again from the JSON file."
   ]
  },
  {
   "cell_type": "code",
   "execution_count": 54,
   "metadata": {
    "colab": {},
    "colab_type": "code",
    "id": "iX5jc6dIp2nQ"
   },
   "outputs": [],
   "source": [
    "# MC\n",
    "\n",
    "del data"
   ]
  },
  {
   "cell_type": "code",
   "execution_count": 55,
   "metadata": {
    "colab": {},
    "colab_type": "code",
    "id": "HJDVICBxp2nS"
   },
   "outputs": [
    {
     "ename": "NameError",
     "evalue": "name 'data' is not defined",
     "output_type": "error",
     "traceback": [
      "\u001b[0;31m---------------------------------------------------------------------------\u001b[0m",
      "\u001b[0;31mNameError\u001b[0m                                 Traceback (most recent call last)",
      "\u001b[0;32m<ipython-input-55-22120f7c4617>\u001b[0m in \u001b[0;36m<module>\u001b[0;34m\u001b[0m\n\u001b[1;32m      1\u001b[0m \u001b[0;31m# MC - Stay calm\u001b[0m\u001b[0;34m\u001b[0m\u001b[0;34m\u001b[0m\u001b[0;34m\u001b[0m\u001b[0m\n\u001b[1;32m      2\u001b[0m \u001b[0;34m\u001b[0m\u001b[0m\n\u001b[0;32m----> 3\u001b[0;31m \u001b[0mdata\u001b[0m\u001b[0;34m\u001b[0m\u001b[0;34m\u001b[0m\u001b[0m\n\u001b[0m",
      "\u001b[0;31mNameError\u001b[0m: name 'data' is not defined"
     ]
    }
   ],
   "source": [
    "# MC - Stay calm\n",
    "\n",
    "data"
   ]
  },
  {
   "cell_type": "code",
   "execution_count": 56,
   "metadata": {
    "colab": {},
    "colab_type": "code",
    "id": "_42SVD_Ap2nW"
   },
   "outputs": [
    {
     "data": {
      "text/plain": [
       "{'name': 'Jeremy', 'grades': [10, 15], 'teacher': True, 'complaints': None}"
      ]
     },
     "execution_count": 56,
     "metadata": {},
     "output_type": "execute_result"
    }
   ],
   "source": [
    "# MC - use loads() to get JSON into dictionary \n",
    "\n",
    "data = json.loads(data_json)\n",
    "data"
   ]
  },
  {
   "cell_type": "code",
   "execution_count": 67,
   "metadata": {
    "colab": {},
    "colab_type": "code",
    "id": "kTcae_q4p2nX"
   },
   "outputs": [
    {
     "data": {
      "text/plain": [
       "4"
      ]
     },
     "execution_count": 67,
     "metadata": {},
     "output_type": "execute_result"
    }
   ],
   "source": [
    "# MC - access the keys of a dictionary\n",
    "\n",
    "data[\"grades\"]\n",
    "len(data)"
   ]
  },
  {
   "cell_type": "markdown",
   "metadata": {
    "colab_type": "text",
    "id": "L_ajOvXep2nY"
   },
   "source": [
    "Now we can dump and load data from text files that contain json directly."
   ]
  },
  {
   "cell_type": "code",
   "execution_count": 58,
   "metadata": {
    "colab": {},
    "colab_type": "code",
    "id": "5MJEq4Xwp2nZ"
   },
   "outputs": [],
   "source": [
    "data = [{'name': 'Jeremy', 'grades': [10, 15], 'teacher': True, 'complaints': None},\n",
    "        {'name': 'Akmal', 'grades': [3, 4], 'teacher': True, 'complaints': \"Many\"},\n",
    "        {'name': 'Jan', 'grades': [8, 13, 20], 'teacher': True, 'complaints': None},\n",
    "        {'name': 'Heng', 'grades': [5, 5, 5], 'teacher': False, 'complaints': \"Many, so many!\"}\n",
    "       ]"
   ]
  },
  {
   "cell_type": "code",
   "execution_count": 59,
   "metadata": {
    "colab": {},
    "colab_type": "code",
    "id": "BlrYpdcrp2nb"
   },
   "outputs": [],
   "source": [
    "# MC\n",
    "\n",
    "with open('cads.json', 'w') as f:\n",
    "    json.dump(data, f)"
   ]
  },
  {
   "cell_type": "markdown",
   "metadata": {
    "colab_type": "text",
    "id": "fyPNLgGKp2nc"
   },
   "source": [
    "Let's look at the resulting json file using !cat for Mac/Linux and !type for windows"
   ]
  },
  {
   "cell_type": "code",
   "execution_count": 64,
   "metadata": {},
   "outputs": [
    {
     "name": "stdout",
     "output_type": "stream",
     "text": [
      "Help on function dumps in module json:\n",
      "\n",
      "dumps(obj, *, skipkeys=False, ensure_ascii=True, check_circular=True, allow_nan=True, cls=None, indent=None, separators=None, default=None, sort_keys=False, **kw)\n",
      "    Serialize ``obj`` to a JSON formatted ``str``.\n",
      "    \n",
      "    If ``skipkeys`` is true then ``dict`` keys that are not basic types\n",
      "    (``str``, ``int``, ``float``, ``bool``, ``None``) will be skipped\n",
      "    instead of raising a ``TypeError``.\n",
      "    \n",
      "    If ``ensure_ascii`` is false, then the return value can contain non-ASCII\n",
      "    characters if they appear in strings contained in ``obj``. Otherwise, all\n",
      "    such characters are escaped in JSON strings.\n",
      "    \n",
      "    If ``check_circular`` is false, then the circular reference check\n",
      "    for container types will be skipped and a circular reference will\n",
      "    result in an ``OverflowError`` (or worse).\n",
      "    \n",
      "    If ``allow_nan`` is false, then it will be a ``ValueError`` to\n",
      "    serialize out of range ``float`` values (``nan``, ``inf``, ``-inf``) in\n",
      "    strict compliance of the JSON specification, instead of using the\n",
      "    JavaScript equivalents (``NaN``, ``Infinity``, ``-Infinity``).\n",
      "    \n",
      "    If ``indent`` is a non-negative integer, then JSON array elements and\n",
      "    object members will be pretty-printed with that indent level. An indent\n",
      "    level of 0 will only insert newlines. ``None`` is the most compact\n",
      "    representation.\n",
      "    \n",
      "    If specified, ``separators`` should be an ``(item_separator, key_separator)``\n",
      "    tuple.  The default is ``(', ', ': ')`` if *indent* is ``None`` and\n",
      "    ``(',', ': ')`` otherwise.  To get the most compact JSON representation,\n",
      "    you should specify ``(',', ':')`` to eliminate whitespace.\n",
      "    \n",
      "    ``default(obj)`` is a function that should return a serializable version\n",
      "    of obj or raise TypeError. The default simply raises TypeError.\n",
      "    \n",
      "    If *sort_keys* is true (default: ``False``), then the output of\n",
      "    dictionaries will be sorted by key.\n",
      "    \n",
      "    To use a custom ``JSONEncoder`` subclass (e.g. one that overrides the\n",
      "    ``.default()`` method to serialize additional types), specify it with\n",
      "    the ``cls`` kwarg; otherwise ``JSONEncoder`` is used.\n",
      "\n"
     ]
    }
   ],
   "source": [
    "help(json.dumps)"
   ]
  },
  {
   "cell_type": "code",
   "execution_count": 1,
   "metadata": {
    "colab": {},
    "colab_type": "code",
    "id": "zRq4tLMUp2nd"
   },
   "outputs": [
    {
     "name": "stdout",
     "output_type": "stream",
     "text": [
      "[{\"name\": \"Jeremy\", \"grades\": [10, 15], \"teacher\": true, \"complaints\": null}, {\"name\": \"Akmal\", \"grades\": [3, 4], \"teacher\": true, \"complaints\": \"Many\"}, {\"name\": \"Jan\", \"grades\": [8, 13, 20], \"teacher\": true, \"complaints\": null}, {\"name\": \"Heng\", \"grades\": [5, 5, 5], \"teacher\": false, \"complaints\": \"Many, so many!\"}]"
     ]
    }
   ],
   "source": [
    "!cat abundent.json"
   ]
  },
  {
   "cell_type": "markdown",
   "metadata": {
    "colab_type": "text",
    "id": "pZTpqs-Qp2nf"
   },
   "source": [
    "Now we can load that data back into a dictionary"
   ]
  },
  {
   "cell_type": "code",
   "execution_count": 2,
   "metadata": {
    "colab": {},
    "colab_type": "code",
    "id": "ovgxjCv_p2nf"
   },
   "outputs": [
    {
     "ename": "NameError",
     "evalue": "name 'json' is not defined",
     "output_type": "error",
     "traceback": [
      "\u001b[0;31m---------------------------------------------------------------------------\u001b[0m",
      "\u001b[0;31mNameError\u001b[0m                                 Traceback (most recent call last)",
      "\u001b[0;32m/var/folders/6h/t14zp0n565x67flc6n6dxm9c0000gn/T/ipykernel_2561/2445197334.py\u001b[0m in \u001b[0;36m<module>\u001b[0;34m\u001b[0m\n\u001b[1;32m      2\u001b[0m \u001b[0;34m\u001b[0m\u001b[0m\n\u001b[1;32m      3\u001b[0m \u001b[0;32mwith\u001b[0m \u001b[0mopen\u001b[0m\u001b[0;34m(\u001b[0m\u001b[0;34m'abundent.json'\u001b[0m\u001b[0;34m,\u001b[0m \u001b[0;34m'r'\u001b[0m\u001b[0;34m)\u001b[0m \u001b[0;32mas\u001b[0m \u001b[0mf\u001b[0m\u001b[0;34m:\u001b[0m\u001b[0;34m\u001b[0m\u001b[0;34m\u001b[0m\u001b[0m\n\u001b[0;32m----> 4\u001b[0;31m     \u001b[0mcads\u001b[0m \u001b[0;34m=\u001b[0m \u001b[0mjson\u001b[0m\u001b[0;34m.\u001b[0m\u001b[0mload\u001b[0m\u001b[0;34m(\u001b[0m\u001b[0mf\u001b[0m\u001b[0;34m)\u001b[0m\u001b[0;34m\u001b[0m\u001b[0;34m\u001b[0m\u001b[0m\n\u001b[0m\u001b[1;32m      5\u001b[0m \u001b[0;34m\u001b[0m\u001b[0m\n\u001b[1;32m      6\u001b[0m \u001b[0mcads\u001b[0m\u001b[0;34m\u001b[0m\u001b[0;34m\u001b[0m\u001b[0m\n",
      "\u001b[0;31mNameError\u001b[0m: name 'json' is not defined"
     ]
    }
   ],
   "source": [
    "# MC - try check the type of cads\n",
    "\n",
    "with open('abundent.json', 'r') as f:\n",
    "    cads = json.load(f)\n",
    "\n",
    "cads"
   ]
  },
  {
   "cell_type": "markdown",
   "metadata": {
    "colab_type": "text",
    "id": "xvyDHOIep2nk"
   },
   "source": [
    "### File browsing with glob\n",
    "\n",
    "With glob you can easily list files and folders in a directory"
   ]
  },
  {
   "cell_type": "code",
   "execution_count": 73,
   "metadata": {
    "colab": {},
    "colab_type": "code",
    "id": "YdQGPAvup2nk"
   },
   "outputs": [
    {
     "name": "stdout",
     "output_type": "stream",
     "text": [
      "../data/folders/base_one_file.txt\n",
      "../data/folders/base_two_file.txt\n"
     ]
    }
   ],
   "source": [
    "import glob\n",
    "\n",
    "folder = os.path.join(\"..\", \"data\", \"folders\")\n",
    "\n",
    "for filename in glob.glob('{}/*.txt'.format(folder)):\n",
    "    print(filename)"
   ]
  },
  {
   "cell_type": "markdown",
   "metadata": {
    "colab_type": "text",
    "id": "d4Z60e0Gp2nm"
   },
   "source": [
    "And recursively."
   ]
  },
  {
   "cell_type": "code",
   "execution_count": 74,
   "metadata": {
    "colab": {},
    "colab_type": "code",
    "id": "dfW5wdeip2nn"
   },
   "outputs": [
    {
     "name": "stdout",
     "output_type": "stream",
     "text": [
      "../data/folders/base_one_file.txt\n",
      "../data/folders/base_two_file.txt\n",
      "../data/folders/hello.rtf\n",
      "../data/folders/folder_2/three_file.txt\n",
      "../data/folders/folder_3/four_file.txt\n",
      "../data/folders/folder_3/five_file.txt\n",
      "../data/folders/folder_1/two_file.txt\n",
      "../data/folders/folder_1/one_file.txt\n"
     ]
    }
   ],
   "source": [
    "import glob\n",
    "\n",
    "folder = os.path.join(\"..\", \"data\", \"folders\")\n",
    "\n",
    "for filename in glob.glob('{}/**/*.*'.format(folder), recursive=True):\n",
    "    print(filename)"
   ]
  },
  {
   "cell_type": "markdown",
   "metadata": {
    "colab_type": "text",
    "id": "iSj3V3Uap2no"
   },
   "source": [
    "You can get the files in a list like this."
   ]
  },
  {
   "cell_type": "code",
   "execution_count": 75,
   "metadata": {},
   "outputs": [
    {
     "name": "stdout",
     "output_type": "stream",
     "text": [
      "Help on function glob in module glob:\n",
      "\n",
      "glob(pathname, *, recursive=False)\n",
      "    Return a list of paths matching a pathname pattern.\n",
      "    \n",
      "    The pattern may contain simple shell-style wildcards a la\n",
      "    fnmatch. However, unlike fnmatch, filenames starting with a\n",
      "    dot are special cases that are not matched by '*' and '?'\n",
      "    patterns.\n",
      "    \n",
      "    If recursive is true, the pattern '**' will match any files and\n",
      "    zero or more directories and subdirectories.\n",
      "\n"
     ]
    }
   ],
   "source": [
    "help(glob.glob)"
   ]
  },
  {
   "cell_type": "code",
   "execution_count": 76,
   "metadata": {
    "colab": {},
    "colab_type": "code",
    "id": "299eWNu_p2np"
   },
   "outputs": [
    {
     "data": {
      "text/plain": [
       "['../data/folders/base_one_file.txt',\n",
       " '../data/folders/base_two_file.txt',\n",
       " '../data/folders/folder_2/three_file.txt',\n",
       " '../data/folders/folder_3/four_file.txt',\n",
       " '../data/folders/folder_3/five_file.txt',\n",
       " '../data/folders/folder_1/two_file.txt',\n",
       " '../data/folders/folder_1/one_file.txt']"
      ]
     },
     "execution_count": 76,
     "metadata": {},
     "output_type": "execute_result"
    }
   ],
   "source": [
    "# MC - the output is a list\n",
    "\n",
    "files = list(glob.glob('{}/**/*.txt'.format(folder), recursive=True))\n",
    "files"
   ]
  },
  {
   "cell_type": "markdown",
   "metadata": {
    "colab_type": "text",
    "id": "jSA8MC_Xp2nq"
   },
   "source": [
    "### Summary"
   ]
  },
  {
   "cell_type": "markdown",
   "metadata": {
    "colab_type": "text",
    "id": "jkBzGN2Pp2nr"
   },
   "source": [
    "> #### open\n",
    "Built-in function to open a file object to read/write/append to a file.\n",
    "```python\n",
    "with open('test.txt', 'w') as f:\n",
    "    f.write(\"Hello\")\n",
    "with open('test2.txt', 'r') as f:\n",
    "    data = f.readlines()\n",
    "with open('test2.txt', 'r') as f:\n",
    "    f.readline()\n",
    "    data = []\n",
    "    for line in f:\n",
    "        data.append(line)\n",
    "```"
   ]
  },
  {
   "cell_type": "markdown",
   "metadata": {
    "colab_type": "text",
    "id": "rdqW8XYup2nr"
   },
   "source": [
    "> #### JSON\n",
    "JSON (JavaScript Object Notation) is an open-standard format that uses human-readable text to transmit data objects consisting of attribute–value pairs. Used often to communicate data with API's.\n",
    "```python\n",
    "import json\n",
    "json.dumps(data)\n",
    "json.loads(json_str)\n",
    "with open('data.json', 'w') as f:\n",
    "    json.dump(data, f)\n",
    "with open('data.json', 'r') as f:\n",
    "    data = json.load(f)\n",
    "```"
   ]
  },
  {
   "cell_type": "markdown",
   "metadata": {
    "colab_type": "text",
    "id": "54K_E5afp2nr"
   },
   "source": [
    "> #### import\n",
    "import libraries to use the functionality\n",
    "```python\n",
    "import json\n",
    "import os\n",
    "```"
   ]
  },
  {
   "cell_type": "markdown",
   "metadata": {
    "colab_type": "text",
    "id": "vrl4iGmBp2ns"
   },
   "source": [
    "> #### glob\n",
    "module that is used for file listing\n",
    "```python\n",
    "for filename in glob.glob('{}/*.txt'.format(folder_path)):\n",
    "    print(filename)\n",
    "for filename in glob.glob('{}/**/*.txt'.format(folder_path), recursive=True):\n",
    "    print(filename)\n",
    "```"
   ]
  },
  {
   "cell_type": "markdown",
   "metadata": {
    "colab_type": "text",
    "id": "DDCNTp1cp2ns",
    "toc-hr-collapsed": false
   },
   "source": [
    "### RUN ME\n",
    "\n",
    "Please run the below code snippet. It is required for running tests for your solution."
   ]
  },
  {
   "cell_type": "code",
   "execution_count": 83,
   "metadata": {},
   "outputs": [
    {
     "name": "stdout",
     "output_type": "stream",
     "text": [
      "[<class 'posix.DirEntry'>, <class 'os._wrap_close'>, <class 'OSError'>, <class 'os.stat_result'>, <class 'os.statvfs_result'>, <class 'os.terminal_size'>, <class 'posix.times_result'>, <class 'posix.uname_result'>]\n"
     ]
    }
   ],
   "source": [
    "import os\n",
    "classes = []\n",
    "for objname in dir(os):\n",
    "    obj = eval(\"os.\" + objname)\n",
    "    if type(obj) is type:\n",
    "        classes.append(obj)\n",
    "print(classes)"
   ]
  },
  {
   "cell_type": "code",
   "execution_count": 84,
   "metadata": {
    "colab": {},
    "colab_type": "code",
    "id": "MLDSy9Bhp2nt"
   },
   "outputs": [],
   "source": [
    "def test(got, expected):\n",
    "    max_width_print = min([int(79/3), \n",
    "                           len(repr(got)) + 10, \n",
    "                           len(repr(expected)) + 10])\n",
    "    \n",
    "    if got == expected:\n",
    "        prefix = ' OK '.center(max_width_print, '=')\n",
    "    else:\n",
    "        prefix = ' FAIL '.center(max_width_print, '=')\n",
    "    print(('%s\\n     got: %s \\nexpected: %s' % (prefix, repr(got), repr(expected))), \n",
    "          end = '\\n\\n')"
   ]
  },
  {
   "cell_type": "code",
   "execution_count": 85,
   "metadata": {
    "colab": {},
    "colab_type": "code",
    "id": "ZOkp5R52p2nv"
   },
   "outputs": [
    {
     "name": "stdout",
     "output_type": "stream",
     "text": [
      "==== FAIL ===\n",
      "     got: 'a' \n",
      "expected: 'ab'\n",
      "\n",
      "===== OK ====\n",
      "     got: 'a' \n",
      "expected: 'a'\n",
      "\n"
     ]
    }
   ],
   "source": [
    "test('a', 'ab')\n",
    "test('a', 'a')"
   ]
  },
  {
   "cell_type": "markdown",
   "metadata": {
    "colab_type": "text",
    "id": "EfZAZpbxp2nw"
   },
   "source": [
    "### Exercises"
   ]
  },
  {
   "cell_type": "markdown",
   "metadata": {
    "colab_type": "text",
    "id": "-YyxqfULp2nx"
   },
   "source": [
    "#### Exercise 1 - Read in stocks\n",
    "\n",
    "Read in stocks data in \"data/stocks.json\" and store it into stocks.\n",
    "\n",
    "Each line of this file is a json object, but the whole file content is not a valid json object since the jsons are no separated by a comma and there is no extra brackets surrounding the jsons.\n",
    "\n",
    "So you need to read the file line by line and transform those strings into dict using json.loads.\n",
    "\n",
    "Store the dictionaries into stocks.\n",
    "\n",
    "Hints: import os, os.path.join, import json, json.loads"
   ]
  },
  {
   "cell_type": "code",
   "execution_count": null,
   "metadata": {
    "colab": {},
    "colab_type": "code",
    "id": "wmWMEsXsp2nx"
   },
   "outputs": [],
   "source": [
    "## your code\n",
    "        \n",
    "# TEST\n",
    "print(\"read_in_stocks\")\n",
    "test(len(stocks), 6756)\n",
    "test(type(stocks[0]), dict)"
   ]
  },
  {
   "cell_type": "code",
   "execution_count": 88,
   "metadata": {
    "colab": {},
    "colab_type": "code",
    "id": "xg0egm_6p2nz"
   },
   "outputs": [
    {
     "name": "stdout",
     "output_type": "stream",
     "text": [
      "read_in_stocks\n",
      "===== OK =====\n",
      "     got: 6756 \n",
      "expected: 6756\n",
      "\n",
      "========== OK ==========\n",
      "     got: <class 'dict'> \n",
      "expected: <class 'dict'>\n",
      "\n",
      "========== OK ==========\n",
      "     got: <class 'dict'> \n",
      "expected: <class 'dict'>\n",
      "\n"
     ]
    },
    {
     "data": {
      "text/plain": [
       "{'_id': {'$oid': '52853800bb1177ca391c17ff'},\n",
       " 'Ticker': 'A',\n",
       " 'Profit Margin': 0.137,\n",
       " 'Institutional Ownership': 0.847,\n",
       " 'EPS growth past 5 years': 0.158,\n",
       " 'Total Debt/Equity': 0.56,\n",
       " 'Current Ratio': 3,\n",
       " 'Return on Assets': 0.089,\n",
       " 'Sector': 'Healthcare',\n",
       " 'P/S': 2.54,\n",
       " 'Change from Open': -0.0148,\n",
       " 'Performance (YTD)': 0.2605,\n",
       " 'Performance (Week)': 0.0031,\n",
       " 'Quick Ratio': 2.3,\n",
       " 'Insider Transactions': -0.1352,\n",
       " 'P/B': 3.63,\n",
       " 'EPS growth quarter over quarter': -0.29,\n",
       " 'Payout Ratio': 0.162,\n",
       " 'Performance (Quarter)': 0.0928,\n",
       " 'Forward P/E': 16.11,\n",
       " 'P/E': 19.1,\n",
       " '200-Day Simple Moving Average': 0.1062,\n",
       " 'Shares Outstanding': 339,\n",
       " 'Earnings Date': {'$date': 1384464600000},\n",
       " '52-Week High': -0.0544,\n",
       " 'P/Cash': 7.45,\n",
       " 'Change': -0.0148,\n",
       " 'Analyst Recom': 1.6,\n",
       " 'Volatility (Week)': 0.0177,\n",
       " 'Country': 'USA',\n",
       " 'Return on Equity': 0.182,\n",
       " '50-Day Low': 0.0728,\n",
       " 'Price': 50.44,\n",
       " '50-Day High': -0.0544,\n",
       " 'Return on Investment': 0.163,\n",
       " 'Shares Float': 330.21,\n",
       " 'Dividend Yield': 0.0094,\n",
       " 'EPS growth next 5 years': 0.0843,\n",
       " 'Industry': 'Medical Laboratories & Research',\n",
       " 'Beta': 1.5,\n",
       " 'Sales growth quarter over quarter': -0.041,\n",
       " 'Operating Margin': 0.187,\n",
       " 'EPS (ttm)': 2.68,\n",
       " 'PEG': 2.27,\n",
       " 'Float Short': 0.008,\n",
       " '52-Week Low': 0.4378,\n",
       " 'Average True Range': 0.86,\n",
       " 'EPS growth next year': 0.1194,\n",
       " 'Sales growth past 5 years': 0.048,\n",
       " 'Company': 'Agilent Technologies Inc.',\n",
       " 'Gap': 0,\n",
       " 'Relative Volume': 0.79,\n",
       " 'Volatility (Month)': 0.0168,\n",
       " 'Market Cap': 17356.8,\n",
       " 'Volume': 1847978,\n",
       " 'Gross Margin': 0.512,\n",
       " 'Short Ratio': 1.03,\n",
       " 'Performance (Half Year)': 0.1439,\n",
       " 'Relative Strength Index (14)': 46.51,\n",
       " 'Insider Ownership': 0.001,\n",
       " '20-Day Simple Moving Average': -0.0172,\n",
       " 'Performance (Month)': 0.0063,\n",
       " 'P/Free Cash Flow': 19.63,\n",
       " 'Institutional Transactions': -0.0074,\n",
       " 'Performance (Year)': 0.4242,\n",
       " 'LT Debt/Equity': 0.56,\n",
       " 'Average Volume': 2569.36,\n",
       " 'EPS growth this year': 0.147,\n",
       " '50-Day Simple Moving Average': -0.0055}"
      ]
     },
     "execution_count": 88,
     "metadata": {},
     "output_type": "execute_result"
    }
   ],
   "source": [
    "# MC\n",
    "\n",
    "import os\n",
    "import json\n",
    "\n",
    "stocks_file = os.path.join(\"..\", \"data\", \"stocks.json\")\n",
    "stocks = []\n",
    "\n",
    "with open(stocks_file, 'r') as f:\n",
    "    for line in f:\n",
    "        stocks.append(json.loads(line))\n",
    "        \n",
    "# TEST\n",
    "print(\"read_in_stocks\")\n",
    "test(len(stocks), 6756)\n",
    "test(type(stocks[0]), dict)\n",
    "test(type(stocks[-1]), dict)\n",
    "stocks[0]\n"
   ]
  },
  {
   "cell_type": "code",
   "execution_count": 89,
   "metadata": {},
   "outputs": [
    {
     "name": "stdout",
     "output_type": "stream",
     "text": [
      "read_in_stocks\n",
      "===== OK =====\n",
      "     got: 6756 \n",
      "expected: 6756\n",
      "\n",
      "========== OK ==========\n",
      "     got: <class 'dict'> \n",
      "expected: <class 'dict'>\n",
      "\n",
      "========== OK ==========\n",
      "     got: <class 'dict'> \n",
      "expected: <class 'dict'>\n",
      "\n"
     ]
    }
   ],
   "source": [
    "# MC\n",
    "# or \n",
    "\n",
    "import os\n",
    "import json\n",
    "\n",
    "stocks_file = os.path.join(\"..\", \"data\", \"stocks.json\")\n",
    "\n",
    "with open(stocks_file, 'r') as f:\n",
    "    stocks = [json.loads(line) for line in f]\n",
    "        \n",
    "# TEST\n",
    "print(\"read_in_stocks\")\n",
    "test(len(stocks), 6756)\n",
    "test(type(stocks[0]), dict)\n",
    "test(type(stocks[-1]), dict)"
   ]
  },
  {
   "cell_type": "markdown",
   "metadata": {
    "colab_type": "text",
    "id": "x5tMgOzjp2n1"
   },
   "source": [
    "#### Exercise 2 - First ten names\n",
    "\n",
    "What are the names of the first ten companies?\n",
    "\n",
    "Hints: inspect one dict to see which key contains the name."
   ]
  },
  {
   "cell_type": "code",
   "execution_count": 90,
   "metadata": {
    "colab": {},
    "colab_type": "code",
    "id": "W52G7-Wnp2n1"
   },
   "outputs": [
    {
     "name": "stdout",
     "output_type": "stream",
     "text": [
      "first_ten_names\n",
      "=========== OK ===========\n",
      "     got: ['Agilent Technologies Inc.', 'Alcoa, Inc.', 'WCM/BNY Mellon Focused Growth ADR ETF', 'iShares MSCI AC Asia Information Tech', 'Altisource Asset Management Corporation', 'Atlantic American Corp.', \"Aaron's, Inc.\", 'Applied Optoelectronics, Inc.', 'AAON Inc.', 'Advance Auto Parts Inc.'] \n",
      "expected: ['Agilent Technologies Inc.', 'Alcoa, Inc.', 'WCM/BNY Mellon Focused Growth ADR ETF', 'iShares MSCI AC Asia Information Tech', 'Altisource Asset Management Corporation', 'Atlantic American Corp.', \"Aaron's, Inc.\", 'Applied Optoelectronics, Inc.', 'AAON Inc.', 'Advance Auto Parts Inc.']\n",
      "\n"
     ]
    }
   ],
   "source": [
    "names = ### your code here\n",
    "\n",
    "# TEST\n",
    "print(\"first_ten_names\")\n",
    "from answers import ten_companies\n",
    "test(names, ten_companies)"
   ]
  },
  {
   "cell_type": "code",
   "execution_count": 92,
   "metadata": {
    "colab": {},
    "colab_type": "code",
    "id": "iV4VINv3p2n4"
   },
   "outputs": [
    {
     "name": "stdout",
     "output_type": "stream",
     "text": [
      "first_ten_names\n",
      "['Agilent Technologies Inc.', 'Alcoa, Inc.', 'WCM/BNY Mellon Focused Growth ADR ETF', 'iShares MSCI AC Asia Information Tech', 'Altisource Asset Management Corporation', 'Atlantic American Corp.', \"Aaron's, Inc.\", 'Applied Optoelectronics, Inc.', 'AAON Inc.', 'Advance Auto Parts Inc.']\n",
      "=========== OK ===========\n",
      "     got: ['Agilent Technologies Inc.', 'Alcoa, Inc.', 'WCM/BNY Mellon Focused Growth ADR ETF', 'iShares MSCI AC Asia Information Tech', 'Altisource Asset Management Corporation', 'Atlantic American Corp.', \"Aaron's, Inc.\", 'Applied Optoelectronics, Inc.', 'AAON Inc.', 'Advance Auto Parts Inc.'] \n",
      "expected: ['Agilent Technologies Inc.', 'Alcoa, Inc.', 'WCM/BNY Mellon Focused Growth ADR ETF', 'iShares MSCI AC Asia Information Tech', 'Altisource Asset Management Corporation', 'Atlantic American Corp.', \"Aaron's, Inc.\", 'Applied Optoelectronics, Inc.', 'AAON Inc.', 'Advance Auto Parts Inc.']\n",
      "\n"
     ]
    }
   ],
   "source": [
    "# MC\n",
    "\n",
    "names = [stock[\"Company\"] for stock in stocks[:10] ]\n",
    "\n",
    "# TEST\n",
    "print(\"first_ten_names\")\n",
    "print(names)\n",
    "\n",
    "from answers import ten_companies\n",
    "test(names, ten_companies)"
   ]
  },
  {
   "cell_type": "markdown",
   "metadata": {
    "colab_type": "text",
    "id": "4kuApCsYp2n9"
   },
   "source": [
    "#### Exercise 3 - Inc only\n",
    "\n",
    "From the top 10 companies, now only show the names that contain the word 'Inc.'"
   ]
  },
  {
   "cell_type": "code",
   "execution_count": null,
   "metadata": {
    "colab": {},
    "colab_type": "code",
    "id": "DraXvb_Np2n9"
   },
   "outputs": [],
   "source": [
    "names = ## your code\n",
    "\n",
    "# TEST\n",
    "from answers import inc_companies\n",
    "print(\"inc_only\")\n",
    "test(names, inc_companies)"
   ]
  },
  {
   "cell_type": "code",
   "execution_count": 93,
   "metadata": {
    "colab": {},
    "colab_type": "code",
    "id": "FC8Gvr9Pp2oA"
   },
   "outputs": [
    {
     "name": "stdout",
     "output_type": "stream",
     "text": [
      "inc_only\n",
      "=========== OK ===========\n",
      "     got: ['Agilent Technologies Inc.', 'Alcoa, Inc.', \"Aaron's, Inc.\", 'Applied Optoelectronics, Inc.', 'AAON Inc.', 'Advance Auto Parts Inc.'] \n",
      "expected: ['Agilent Technologies Inc.', 'Alcoa, Inc.', \"Aaron's, Inc.\", 'Applied Optoelectronics, Inc.', 'AAON Inc.', 'Advance Auto Parts Inc.']\n",
      "\n"
     ]
    }
   ],
   "source": [
    "# MC\n",
    "\n",
    "names = [n for n in names if 'Inc.' in n]\n",
    "\n",
    "# TEST\n",
    "from answers import inc_companies\n",
    "print(\"inc_only\")\n",
    "test(names, inc_companies)"
   ]
  },
  {
   "cell_type": "markdown",
   "metadata": {
    "colab_type": "text",
    "id": "DHaJxgtNp2oD"
   },
   "source": [
    "#### Exercise 4 - Average PE\n",
    "\n",
    "Now show the average P/E for all the data. Round it by 2.\n",
    "\n",
    "<u>Not all the stocks have the P/E reported</u>, so you need to handle that. \n",
    "\n",
    "What percentage of the stocks has P/E reported? Round it by 2."
   ]
  },
  {
   "cell_type": "code",
   "execution_count": 94,
   "metadata": {},
   "outputs": [
    {
     "data": {
      "text/plain": [
       "'A'"
      ]
     },
     "execution_count": 94,
     "metadata": {},
     "output_type": "execute_result"
    }
   ],
   "source": [
    "stocks[0]['Ticker']"
   ]
  },
  {
   "cell_type": "code",
   "execution_count": 98,
   "metadata": {},
   "outputs": [
    {
     "data": {
      "text/plain": [
       "[19.1, 35.96, 10.63, 17.11, 34.78, 18.03, 13.14, 640, 8.5, 15.82]"
      ]
     },
     "execution_count": 98,
     "metadata": {},
     "output_type": "execute_result"
    }
   ],
   "source": [
    "s_pe = [s['P/E'] for s in stocks if 'P/E' in s]\n",
    "s_pe[:10]\n"
   ]
  },
  {
   "cell_type": "code",
   "execution_count": null,
   "metadata": {
    "colab": {},
    "colab_type": "code",
    "id": "vR2s-lA5p2oE"
   },
   "outputs": [],
   "source": [
    "## your code\n",
    "\n",
    "pe =  \n",
    "avg_pe = ## your code\n",
    "perc_with_pe = ## your code\n",
    "\n",
    "# TEST\n",
    "print(\"average_pe\")\n",
    "test(avg_pe, 41.71)\n",
    "test(perc_with_pe, 0.5)"
   ]
  },
  {
   "cell_type": "code",
   "execution_count": null,
   "metadata": {
    "colab": {},
    "colab_type": "code",
    "id": "2YmI5xI7p2oF"
   },
   "outputs": [],
   "source": [
    "# MC\n",
    "\n",
    "pe = [s['P/E'] for s in stocks if 'P/E' in s]     # not all stock has 'P/E'\n",
    "avg_pe = round(sum(pe) / len(pe), 2)\n",
    "perc_with_pe = round(len(pe) / len(stocks), 2)\n",
    "\n",
    "# TEST\n",
    "print(\"average_pe\")\n",
    "test(avg_pe, 41.71)\n",
    "test(perc_with_pe, 0.5)"
   ]
  },
  {
   "cell_type": "markdown",
   "metadata": {
    "colab_type": "text",
    "id": "3LraZsRlp2oH"
   },
   "source": [
    "## Exception Handling"
   ]
  },
  {
   "cell_type": "markdown",
   "metadata": {
    "colab_type": "text",
    "id": "RXnNEJXdp2oH"
   },
   "source": [
    "### Exceptions\n",
    "\n",
    "Here is an example Exception."
   ]
  },
  {
   "cell_type": "code",
   "execution_count": 1,
   "metadata": {
    "colab": {},
    "colab_type": "code",
    "id": "v6CL2Weyp2oI",
    "slideshow": {
     "slide_type": "subslide"
    }
   },
   "outputs": [],
   "source": [
    "while False:\n",
    "    print('Hello world')"
   ]
  },
  {
   "cell_type": "markdown",
   "metadata": {
    "colab_type": "text",
    "id": "l_XIX_9xp2oK",
    "slideshow": {
     "slide_type": "subslide"
    }
   },
   "source": [
    "- Arrow ^ pointing at the earliest point in the line where the error was detected\n",
    "- The error is caused by the token preceding the arrow\n",
    "- File name and line number are printed"
   ]
  },
  {
   "cell_type": "markdown",
   "metadata": {
    "colab_type": "text",
    "id": "VwVfQE2_p2oL",
    "slideshow": {
     "slide_type": "fragment"
    }
   },
   "source": [
    "There are different types of Exceptions.\n",
    "\n",
    "Previous one was SyntaxError, other built-in exception types include:\n",
    "- ZeroDivisionError -- division by zero\n",
    "- NameError -- name not defined\n",
    "- TypeError -- incorrect type\n",
    "- KeyError -- key not found in dict\n",
    "- IndexError -- index greater than length in list\n",
    "\n",
    "The last line of the error message indicates what happened. Let's go over them.\n",
    "Find more information [here](https://docs.python.org/3/library/exceptions.html)."
   ]
  },
  {
   "cell_type": "code",
   "execution_count": 2,
   "metadata": {
    "colab": {},
    "colab_type": "code",
    "id": "uh9MTo99p2oM",
    "slideshow": {
     "slide_type": "subslide"
    }
   },
   "outputs": [
    {
     "ename": "ZeroDivisionError",
     "evalue": "division by zero",
     "output_type": "error",
     "traceback": [
      "\u001b[0;31m---------------------------------------------------------------------------\u001b[0m",
      "\u001b[0;31mZeroDivisionError\u001b[0m                         Traceback (most recent call last)",
      "\u001b[0;32m<ipython-input-2-0b280f36835c>\u001b[0m in \u001b[0;36m<module>\u001b[0;34m\u001b[0m\n\u001b[0;32m----> 1\u001b[0;31m \u001b[0;36m10\u001b[0m \u001b[0;34m*\u001b[0m \u001b[0;34m(\u001b[0m\u001b[0;36m1\u001b[0m\u001b[0;34m/\u001b[0m\u001b[0;36m0\u001b[0m\u001b[0;34m)\u001b[0m\u001b[0;34m\u001b[0m\u001b[0;34m\u001b[0m\u001b[0m\n\u001b[0m",
      "\u001b[0;31mZeroDivisionError\u001b[0m: division by zero"
     ]
    }
   ],
   "source": [
    "10 * (1/0)"
   ]
  },
  {
   "cell_type": "code",
   "execution_count": 3,
   "metadata": {
    "colab": {},
    "colab_type": "code",
    "id": "b0gfRESCp2oN",
    "scrolled": true,
    "slideshow": {
     "slide_type": "subslide"
    }
   },
   "outputs": [
    {
     "ename": "NameError",
     "evalue": "name 'result' is not defined",
     "output_type": "error",
     "traceback": [
      "\u001b[0;31m---------------------------------------------------------------------------\u001b[0m",
      "\u001b[0;31mNameError\u001b[0m                                 Traceback (most recent call last)",
      "\u001b[0;32m<ipython-input-3-668902554156>\u001b[0m in \u001b[0;36m<module>\u001b[0;34m\u001b[0m\n\u001b[0;32m----> 1\u001b[0;31m \u001b[0;36m4\u001b[0m \u001b[0;34m+\u001b[0m \u001b[0mresult\u001b[0m\u001b[0;34m*\u001b[0m\u001b[0;36m3\u001b[0m\u001b[0;34m\u001b[0m\u001b[0;34m\u001b[0m\u001b[0m\n\u001b[0m",
      "\u001b[0;31mNameError\u001b[0m: name 'result' is not defined"
     ]
    }
   ],
   "source": [
    "4 + result*3"
   ]
  },
  {
   "cell_type": "code",
   "execution_count": 4,
   "metadata": {
    "colab": {},
    "colab_type": "code",
    "id": "7QhYvg6jp2oP",
    "scrolled": true,
    "slideshow": {
     "slide_type": "subslide"
    }
   },
   "outputs": [
    {
     "ename": "TypeError",
     "evalue": "can only concatenate str (not \"int\") to str",
     "output_type": "error",
     "traceback": [
      "\u001b[0;31m---------------------------------------------------------------------------\u001b[0m",
      "\u001b[0;31mTypeError\u001b[0m                                 Traceback (most recent call last)",
      "\u001b[0;32m<ipython-input-4-cc892b1f57d5>\u001b[0m in \u001b[0;36m<module>\u001b[0;34m\u001b[0m\n\u001b[0;32m----> 1\u001b[0;31m \u001b[0;34m'1'\u001b[0m \u001b[0;34m+\u001b[0m \u001b[0;36m1\u001b[0m\u001b[0;34m\u001b[0m\u001b[0;34m\u001b[0m\u001b[0m\n\u001b[0m",
      "\u001b[0;31mTypeError\u001b[0m: can only concatenate str (not \"int\") to str"
     ]
    }
   ],
   "source": [
    "'1' + 1"
   ]
  },
  {
   "cell_type": "code",
   "execution_count": 5,
   "metadata": {
    "colab": {},
    "colab_type": "code",
    "id": "fw2F0yyPp2oR",
    "slideshow": {
     "slide_type": "subslide"
    }
   },
   "outputs": [
    {
     "ename": "KeyError",
     "evalue": "0",
     "output_type": "error",
     "traceback": [
      "\u001b[0;31m---------------------------------------------------------------------------\u001b[0m",
      "\u001b[0;31mKeyError\u001b[0m                                  Traceback (most recent call last)",
      "\u001b[0;32m<ipython-input-5-5928a7108b75>\u001b[0m in \u001b[0;36m<module>\u001b[0;34m\u001b[0m\n\u001b[1;32m      1\u001b[0m \u001b[0md\u001b[0m \u001b[0;34m=\u001b[0m \u001b[0;34m{\u001b[0m\u001b[0;34m}\u001b[0m\u001b[0;34m\u001b[0m\u001b[0;34m\u001b[0m\u001b[0m\n\u001b[0;32m----> 2\u001b[0;31m \u001b[0md\u001b[0m\u001b[0;34m[\u001b[0m\u001b[0;36m0\u001b[0m\u001b[0;34m]\u001b[0m\u001b[0;34m\u001b[0m\u001b[0;34m\u001b[0m\u001b[0m\n\u001b[0m",
      "\u001b[0;31mKeyError\u001b[0m: 0"
     ]
    }
   ],
   "source": [
    "d = {}\n",
    "d[0]"
   ]
  },
  {
   "cell_type": "code",
   "execution_count": 6,
   "metadata": {
    "colab": {},
    "colab_type": "code",
    "id": "ZyqTLobRp2oV",
    "slideshow": {
     "slide_type": "subslide"
    }
   },
   "outputs": [
    {
     "ename": "IndexError",
     "evalue": "list index out of range",
     "output_type": "error",
     "traceback": [
      "\u001b[0;31m---------------------------------------------------------------------------\u001b[0m",
      "\u001b[0;31mIndexError\u001b[0m                                Traceback (most recent call last)",
      "\u001b[0;32m<ipython-input-6-7985abb5df3c>\u001b[0m in \u001b[0;36m<module>\u001b[0;34m\u001b[0m\n\u001b[1;32m      1\u001b[0m \u001b[0ml\u001b[0m \u001b[0;34m=\u001b[0m \u001b[0;34m[\u001b[0m\u001b[0;34m]\u001b[0m\u001b[0;34m\u001b[0m\u001b[0;34m\u001b[0m\u001b[0m\n\u001b[0;32m----> 2\u001b[0;31m \u001b[0ml\u001b[0m\u001b[0;34m[\u001b[0m\u001b[0;36m0\u001b[0m\u001b[0;34m]\u001b[0m\u001b[0;34m\u001b[0m\u001b[0;34m\u001b[0m\u001b[0m\n\u001b[0m",
      "\u001b[0;31mIndexError\u001b[0m: list index out of range"
     ]
    }
   ],
   "source": [
    "l = []\n",
    "l[0]"
   ]
  },
  {
   "cell_type": "markdown",
   "metadata": {
    "colab_type": "text",
    "id": "zHFzF-_Xp2oX",
    "slideshow": {
     "slide_type": "slide"
    }
   },
   "source": [
    "The preceding part of the error message shows the context where the exception happened.\n",
    "\n",
    "It contains a stack traceback listing source lines.\n",
    "\n",
    "Here is an example."
   ]
  },
  {
   "cell_type": "code",
   "execution_count": 7,
   "metadata": {
    "colab": {},
    "colab_type": "code",
    "id": "glXpFjDQp2oX",
    "slideshow": {
     "slide_type": "subslide"
    }
   },
   "outputs": [
    {
     "ename": "ZeroDivisionError",
     "evalue": "division by zero",
     "output_type": "error",
     "traceback": [
      "\u001b[0;31m---------------------------------------------------------------------------\u001b[0m",
      "\u001b[0;31mZeroDivisionError\u001b[0m                         Traceback (most recent call last)",
      "\u001b[0;32m<ipython-input-7-70751ab1fe5a>\u001b[0m in \u001b[0;36m<module>\u001b[0;34m\u001b[0m\n\u001b[1;32m      8\u001b[0m     \u001b[0;32mreturn\u001b[0m \u001b[0mcall_divide\u001b[0m\u001b[0;34m(\u001b[0m\u001b[0mx\u001b[0m\u001b[0;34m,\u001b[0m \u001b[0my\u001b[0m\u001b[0;34m)\u001b[0m\u001b[0;34m\u001b[0m\u001b[0;34m\u001b[0m\u001b[0m\n\u001b[1;32m      9\u001b[0m \u001b[0;34m\u001b[0m\u001b[0m\n\u001b[0;32m---> 10\u001b[0;31m \u001b[0mf\u001b[0m\u001b[0;34m(\u001b[0m\u001b[0;36m1\u001b[0m\u001b[0;34m,\u001b[0m \u001b[0;36m0\u001b[0m\u001b[0;34m)\u001b[0m\u001b[0;34m\u001b[0m\u001b[0;34m\u001b[0m\u001b[0m\n\u001b[0m",
      "\u001b[0;32m<ipython-input-7-70751ab1fe5a>\u001b[0m in \u001b[0;36mf\u001b[0;34m(x, y)\u001b[0m\n\u001b[1;32m      6\u001b[0m \u001b[0;34m\u001b[0m\u001b[0m\n\u001b[1;32m      7\u001b[0m \u001b[0;32mdef\u001b[0m \u001b[0mf\u001b[0m\u001b[0;34m(\u001b[0m\u001b[0mx\u001b[0m\u001b[0;34m,\u001b[0m \u001b[0my\u001b[0m\u001b[0;34m)\u001b[0m\u001b[0;34m:\u001b[0m\u001b[0;34m\u001b[0m\u001b[0;34m\u001b[0m\u001b[0m\n\u001b[0;32m----> 8\u001b[0;31m     \u001b[0;32mreturn\u001b[0m \u001b[0mcall_divide\u001b[0m\u001b[0;34m(\u001b[0m\u001b[0mx\u001b[0m\u001b[0;34m,\u001b[0m \u001b[0my\u001b[0m\u001b[0;34m)\u001b[0m\u001b[0;34m\u001b[0m\u001b[0;34m\u001b[0m\u001b[0m\n\u001b[0m\u001b[1;32m      9\u001b[0m \u001b[0;34m\u001b[0m\u001b[0m\n\u001b[1;32m     10\u001b[0m \u001b[0mf\u001b[0m\u001b[0;34m(\u001b[0m\u001b[0;36m1\u001b[0m\u001b[0;34m,\u001b[0m \u001b[0;36m0\u001b[0m\u001b[0;34m)\u001b[0m\u001b[0;34m\u001b[0m\u001b[0;34m\u001b[0m\u001b[0m\n",
      "\u001b[0;32m<ipython-input-7-70751ab1fe5a>\u001b[0m in \u001b[0;36mcall_divide\u001b[0;34m(x, y)\u001b[0m\n\u001b[1;32m      3\u001b[0m \u001b[0;34m\u001b[0m\u001b[0m\n\u001b[1;32m      4\u001b[0m \u001b[0;32mdef\u001b[0m \u001b[0mcall_divide\u001b[0m\u001b[0;34m(\u001b[0m\u001b[0mx\u001b[0m\u001b[0;34m,\u001b[0m \u001b[0my\u001b[0m\u001b[0;34m)\u001b[0m\u001b[0;34m:\u001b[0m\u001b[0;34m\u001b[0m\u001b[0;34m\u001b[0m\u001b[0m\n\u001b[0;32m----> 5\u001b[0;31m     \u001b[0;32mreturn\u001b[0m \u001b[0mdivide\u001b[0m\u001b[0;34m(\u001b[0m\u001b[0mx\u001b[0m\u001b[0;34m,\u001b[0m \u001b[0my\u001b[0m\u001b[0;34m)\u001b[0m\u001b[0;34m\u001b[0m\u001b[0;34m\u001b[0m\u001b[0m\n\u001b[0m\u001b[1;32m      6\u001b[0m \u001b[0;34m\u001b[0m\u001b[0m\n\u001b[1;32m      7\u001b[0m \u001b[0;32mdef\u001b[0m \u001b[0mf\u001b[0m\u001b[0;34m(\u001b[0m\u001b[0mx\u001b[0m\u001b[0;34m,\u001b[0m \u001b[0my\u001b[0m\u001b[0;34m)\u001b[0m\u001b[0;34m:\u001b[0m\u001b[0;34m\u001b[0m\u001b[0;34m\u001b[0m\u001b[0m\n",
      "\u001b[0;32m<ipython-input-7-70751ab1fe5a>\u001b[0m in \u001b[0;36mdivide\u001b[0;34m(x, y)\u001b[0m\n\u001b[1;32m      1\u001b[0m \u001b[0;32mdef\u001b[0m \u001b[0mdivide\u001b[0m\u001b[0;34m(\u001b[0m\u001b[0mx\u001b[0m\u001b[0;34m,\u001b[0m \u001b[0my\u001b[0m\u001b[0;34m)\u001b[0m\u001b[0;34m:\u001b[0m\u001b[0;34m\u001b[0m\u001b[0;34m\u001b[0m\u001b[0m\n\u001b[0;32m----> 2\u001b[0;31m     \u001b[0;32mreturn\u001b[0m \u001b[0mx\u001b[0m\u001b[0;34m/\u001b[0m\u001b[0my\u001b[0m\u001b[0;34m\u001b[0m\u001b[0;34m\u001b[0m\u001b[0m\n\u001b[0m\u001b[1;32m      3\u001b[0m \u001b[0;34m\u001b[0m\u001b[0m\n\u001b[1;32m      4\u001b[0m \u001b[0;32mdef\u001b[0m \u001b[0mcall_divide\u001b[0m\u001b[0;34m(\u001b[0m\u001b[0mx\u001b[0m\u001b[0;34m,\u001b[0m \u001b[0my\u001b[0m\u001b[0;34m)\u001b[0m\u001b[0;34m:\u001b[0m\u001b[0;34m\u001b[0m\u001b[0;34m\u001b[0m\u001b[0m\n\u001b[1;32m      5\u001b[0m     \u001b[0;32mreturn\u001b[0m \u001b[0mdivide\u001b[0m\u001b[0;34m(\u001b[0m\u001b[0mx\u001b[0m\u001b[0;34m,\u001b[0m \u001b[0my\u001b[0m\u001b[0;34m)\u001b[0m\u001b[0;34m\u001b[0m\u001b[0;34m\u001b[0m\u001b[0m\n",
      "\u001b[0;31mZeroDivisionError\u001b[0m: division by zero"
     ]
    }
   ],
   "source": [
    "def divide(x, y):\n",
    "    return x/y\n",
    "\n",
    "def call_divide(x, y):\n",
    "    return divide(x, y)\n",
    "\n",
    "def f(x, y):\n",
    "    return call_divide(x, y)\n",
    "\n",
    "f(1, 0)"
   ]
  },
  {
   "cell_type": "markdown",
   "metadata": {
    "colab_type": "text",
    "id": "jsPupHf2p2oa"
   },
   "source": [
    "**Question:** What has caused the Error?\n",
    "<br><br><br><br>  \n",
    "**Answer:** We cannot divide by zero! 1/0 gives an Exception."
   ]
  },
  {
   "cell_type": "markdown",
   "metadata": {
    "colab_type": "text",
    "id": "Tw-u29lXp2oa"
   },
   "source": [
    "### Try except\n",
    "\n",
    "Sometimes exceptions are expected to happen and we want our code to handle those exceptions in a certain way. For this there is the try except statement.\n",
    "\n",
    "Let's try these inputs.\n",
    "\n",
    "- typing a number\n",
    "- typing a non-numeric string\n",
    "- typing a zero\n",
    "- ending the cell by intterupting the kernel"
   ]
  },
  {
   "cell_type": "code",
   "execution_count": 8,
   "metadata": {},
   "outputs": [
    {
     "name": "stdout",
     "output_type": "stream",
     "text": [
      "An exception occurred\n"
     ]
    }
   ],
   "source": [
    "try:\n",
    "    print(var)\n",
    "except:\n",
    "    print(\"An exception occurred\")"
   ]
  },
  {
   "cell_type": "code",
   "execution_count": 9,
   "metadata": {},
   "outputs": [
    {
     "name": "stdout",
     "output_type": "stream",
     "text": [
      "There was An exception.\n"
     ]
    }
   ],
   "source": [
    "x = [1,3,6,4,7,\"6\", 9,\"5\"]\n",
    "\n",
    "try:\n",
    "    print(sum(x))\n",
    "except:\n",
    "     print(\"There was An exception.\")"
   ]
  },
  {
   "cell_type": "code",
   "execution_count": 11,
   "metadata": {
    "colab": {},
    "colab_type": "code",
    "id": "5wLkEZcxp2ob"
   },
   "outputs": [
    {
     "name": "stdin",
     "output_type": "stream",
     "text": [
      "Please enter a number:  0\n"
     ]
    },
    {
     "name": "stdout",
     "output_type": "stream",
     "text": [
      "Oops!  That was no valid number.\n"
     ]
    }
   ],
   "source": [
    "try:\n",
    "    x = float(input(\"Please enter a number: \"))\n",
    "    print(\"inverse is:\",  1/x)\n",
    "except:\n",
    "    print(\"Oops!  That was no valid number.\")"
   ]
  },
  {
   "cell_type": "markdown",
   "metadata": {
    "colab_type": "text",
    "id": "keDAWdxmp2oc"
   },
   "source": [
    "The try statement.\n",
    "\n",
    "1. the __try clause__ (block under try:) is executed\n",
    "1. if __no exception__ occurs, __except clause is skipped__\n",
    "1. if __an exception occurs__, the rest of the try clause is skipped,\n",
    "    - and __the first except__ clause matching the exception __is executed__,\n",
    "    - if __no handler__ is found, execution stops, an error __Traceback is displayed__.\n",
    "    \n",
    "In this case we have used a bare except statement. This means all exception are catched including the KeyboardInterrupt.\n",
    "\n",
    "You can specifiy which exception you want to be catched and you want to handle them.\n",
    "\n",
    "Let's try typing an number, a non-numeric number, a zero and a keyboardintterup again.\n",
    "\n",
    "The **raise** statement allows the programmer to force a specified exception to occur. For example:\n",
    "<br>\n",
    "raise NameError('HiThere')"
   ]
  },
  {
   "cell_type": "code",
   "execution_count": 31,
   "metadata": {
    "colab": {},
    "colab_type": "code",
    "id": "b12pK8QYp2oc"
   },
   "outputs": [
    {
     "name": "stdin",
     "output_type": "stream",
     "text": [
      "Please enter a number:  5\n"
     ]
    },
    {
     "name": "stdout",
     "output_type": "stream",
     "text": [
      "inverse is: 0.2\n",
      "Error: 'Blah'\n"
     ]
    }
   ],
   "source": [
    "try:\n",
    "    x = float(input(\"Please enter a number: \"))\n",
    "    print(\"inverse is:\",  1/x)\n",
    "    if x == 5:\n",
    "        raise KeyError(\"Blah\")\n",
    "except ValueError:\n",
    "    print(\"Oops!  That was no valid number.  Try again...\")\n",
    "except ZeroDivisionError:\n",
    "    print(\"Oops! Cannot divide by 0!\")\n",
    "except BaseException as error:\n",
    "    print(\"Error: {}\".format(error))\n"
   ]
  },
  {
   "cell_type": "markdown",
   "metadata": {
    "colab_type": "text",
    "id": "_6WvIALSp2oe"
   },
   "source": [
    "else and finally are usefull to define clean-up action.\n",
    "- ```else``` statements are executed __only if__ no exceptions occur in ```try``` block.\n",
    "- ```finally``` statements are __always__ executed.\n",
    "\n",
    "else clause avoids accidentally catching an exception."
   ]
  },
  {
   "cell_type": "code",
   "execution_count": 26,
   "metadata": {
    "colab": {},
    "colab_type": "code",
    "id": "iFOrhifpp2oe"
   },
   "outputs": [
    {
     "name": "stdout",
     "output_type": "stream",
     "text": [
      "division by zero!\n",
      "executing finally clause\n"
     ]
    }
   ],
   "source": [
    "def divide(x, y):\n",
    "    try:\n",
    "        result = x / y\n",
    "    except ZeroDivisionError:\n",
    "        print(\"division by zero!\")\n",
    "    except:\n",
    "        print(\"Yipes!\")\n",
    "    else:\n",
    "        print(\"result is\", result)\n",
    "    finally:\n",
    "        print(\"executing finally clause\")\n",
    "        \n",
    "divide(2,0)"
   ]
  },
  {
   "cell_type": "code",
   "execution_count": 24,
   "metadata": {
    "colab": {},
    "colab_type": "code",
    "id": "8mxuiGZqp2of"
   },
   "outputs": [
    {
     "name": "stdout",
     "output_type": "stream",
     "text": [
      "result is 2.0\n",
      "executing finally clause\n"
     ]
    }
   ],
   "source": [
    "divide(2,1)"
   ]
  },
  {
   "cell_type": "code",
   "execution_count": 27,
   "metadata": {
    "colab": {},
    "colab_type": "code",
    "id": "EJYW-1hjp2oh"
   },
   "outputs": [
    {
     "name": "stdout",
     "output_type": "stream",
     "text": [
      "Yipes!\n",
      "executing finally clause\n"
     ]
    }
   ],
   "source": [
    "divide(\"a\",\"b\")"
   ]
  },
  {
   "cell_type": "markdown",
   "metadata": {
    "colab_type": "text",
    "id": "ogmk8JL8p2oi"
   },
   "source": [
    "Let's do another case."
   ]
  },
  {
   "cell_type": "code",
   "execution_count": 33,
   "metadata": {
    "colab": {},
    "colab_type": "code",
    "id": "fZsteasDp2oj"
   },
   "outputs": [
    {
     "ename": "TypeError",
     "evalue": "unsupported operand type(s) for +=: 'int' and 'str'",
     "output_type": "error",
     "traceback": [
      "\u001b[0;31m---------------------------------------------------------------------------\u001b[0m",
      "\u001b[0;31mTypeError\u001b[0m                                 Traceback (most recent call last)",
      "\u001b[0;32m<ipython-input-33-ba65e6c93eed>\u001b[0m in \u001b[0;36m<module>\u001b[0;34m\u001b[0m\n\u001b[1;32m      3\u001b[0m \u001b[0;34m\u001b[0m\u001b[0m\n\u001b[1;32m      4\u001b[0m \u001b[0;32mfor\u001b[0m \u001b[0mnumber\u001b[0m \u001b[0;32min\u001b[0m \u001b[0mnumbers\u001b[0m\u001b[0;34m:\u001b[0m\u001b[0;34m\u001b[0m\u001b[0;34m\u001b[0m\u001b[0m\n\u001b[0;32m----> 5\u001b[0;31m     \u001b[0mtotal\u001b[0m \u001b[0;34m+=\u001b[0m \u001b[0mnumber\u001b[0m\u001b[0;34m\u001b[0m\u001b[0;34m\u001b[0m\u001b[0m\n\u001b[0m\u001b[1;32m      6\u001b[0m \u001b[0;34m\u001b[0m\u001b[0m\n\u001b[1;32m      7\u001b[0m \u001b[0mtotal\u001b[0m\u001b[0;34m\u001b[0m\u001b[0;34m\u001b[0m\u001b[0m\n",
      "\u001b[0;31mTypeError\u001b[0m: unsupported operand type(s) for +=: 'int' and 'str'"
     ]
    }
   ],
   "source": [
    "total = 0\n",
    "numbers = [1,2,3,\"a\", \"b\", \"c\", 5, 6, 7]\n",
    "\n",
    "for number in numbers:\n",
    "    total += number\n",
    "    \n",
    "total"
   ]
  },
  {
   "cell_type": "markdown",
   "metadata": {
    "colab_type": "text",
    "id": "qrIW5aCop2om"
   },
   "source": [
    "We cannot add up strings to a number.\n",
    "\n",
    "If we want to have the total of the numbers in the list we can ignore the strings."
   ]
  },
  {
   "cell_type": "code",
   "execution_count": 29,
   "metadata": {},
   "outputs": [
    {
     "name": "stdout",
     "output_type": "stream",
     "text": [
      "Something went wrong\n",
      "Something went wrong\n",
      "Something went wrong\n"
     ]
    },
    {
     "data": {
      "text/plain": [
       "24"
      ]
     },
     "execution_count": 29,
     "metadata": {},
     "output_type": "execute_result"
    }
   ],
   "source": [
    "# MC - handel the Exception\n",
    "\n",
    "total = 0\n",
    "\n",
    "for number in numbers:\n",
    "    try:\n",
    "        total += number\n",
    "    except: \n",
    "        print(\"Something went wrong\")\n",
    "    \n",
    "total"
   ]
  },
  {
   "cell_type": "code",
   "execution_count": 30,
   "metadata": {
    "colab": {},
    "colab_type": "code",
    "id": "TksZrTjCp2om"
   },
   "outputs": [
    {
     "name": "stdout",
     "output_type": "stream",
     "text": [
      "Error: unsupported operand type(s) for +=: 'int' and 'str'\n",
      "Error: unsupported operand type(s) for +=: 'int' and 'str'\n",
      "Error: unsupported operand type(s) for +=: 'int' and 'str'\n"
     ]
    },
    {
     "data": {
      "text/plain": [
       "24"
      ]
     },
     "execution_count": 30,
     "metadata": {},
     "output_type": "execute_result"
    }
   ],
   "source": [
    "# MC\n",
    "\n",
    "total = 0\n",
    "\n",
    "for number in numbers:\n",
    "    try:\n",
    "        total += number\n",
    "    except TypeError  as e:\n",
    "        print(\"Error: {}\".format(e))\n",
    "    \n",
    "total"
   ]
  },
  {
   "cell_type": "markdown",
   "metadata": {
    "colab_type": "text",
    "id": "1n8mczJIp2on"
   },
   "source": [
    "You can use the bare except statement. As long as you are mindful about that it catches all exceptions it's fine. For a script you operate yourself it can be fine."
   ]
  },
  {
   "cell_type": "code",
   "execution_count": 34,
   "metadata": {
    "colab": {},
    "colab_type": "code",
    "id": "pF2NFFE5p2on"
   },
   "outputs": [
    {
     "data": {
      "text/plain": [
       "24"
      ]
     },
     "execution_count": 34,
     "metadata": {},
     "output_type": "execute_result"
    }
   ],
   "source": [
    "# MC\n",
    "\n",
    "total = 0\n",
    "\n",
    "for number in numbers:\n",
    "    try:\n",
    "        total += number\n",
    "    except:\n",
    "        pass\n",
    "total"
   ]
  },
  {
   "cell_type": "markdown",
   "metadata": {
    "colab_type": "text",
    "id": "hSKvos8Bp2op"
   },
   "source": [
    "### Summary"
   ]
  },
  {
   "cell_type": "markdown",
   "metadata": {
    "colab_type": "text",
    "id": "Az6Ajgofp2op"
   },
   "source": [
    "> #### try except\n",
    "If an error is encountered, a try block code execution is stopped and transferred\n",
    "down to the except block. \n",
    "```python\n",
    "try:\n",
    "    total += number\n",
    "except:\n",
    "    pass\n",
    "```"
   ]
  },
  {
   "cell_type": "markdown",
   "metadata": {
    "colab_type": "text",
    "id": "Z2AfcQg7p2op"
   },
   "source": [
    "> #### try except else finally\n",
    "In addition to using an except block after the try block, you can also use the\n",
    "finally block. The code in the finally block will be executed regardless of whether an exception\n",
    "occurs. The else code is executed in case the try statement was a succes.\n",
    "```python\n",
    "try:\n",
    "    result = x / y\n",
    "except ZeroDivisionError:\n",
    "    print(\"division by zero!\")\n",
    "else:\n",
    "    print(\"result is\", result)\n",
    "finally:\n",
    "    print(\"executing finally clause\")\n",
    "```"
   ]
  },
  {
   "cell_type": "markdown",
   "metadata": {
    "colab_type": "text",
    "id": "6rWObj8bp2oq",
    "toc-hr-collapsed": false
   },
   "source": [
    "### RUN ME\n",
    "\n",
    "Please run the below code snippet. It is required for running tests for your solution."
   ]
  },
  {
   "cell_type": "code",
   "execution_count": 10,
   "metadata": {
    "colab": {},
    "colab_type": "code",
    "id": "cTCD8wYzp2or"
   },
   "outputs": [],
   "source": [
    "def test(got, expected):\n",
    "    max_width_print = min([int(79/3), \n",
    "                           len(repr(got)) + 10, \n",
    "                           len(repr(expected)) + 10])\n",
    "    \n",
    "    if got == expected:\n",
    "        prefix = ' OK '.center(max_width_print, '=')\n",
    "    else:\n",
    "        prefix = ' FAIL '.center(max_width_print, '=')\n",
    "    print(('%s\\n     got: %s \\nexpected: %s' % (prefix, repr(got), repr(expected))), \n",
    "          end = '\\n\\n')"
   ]
  },
  {
   "cell_type": "code",
   "execution_count": 11,
   "metadata": {
    "colab": {},
    "colab_type": "code",
    "id": "jhZ5odKTp2os"
   },
   "outputs": [
    {
     "name": "stdout",
     "output_type": "stream",
     "text": [
      "==== FAIL ===\n",
      "     got: 'a' \n",
      "expected: 'ab'\n",
      "\n",
      "===== OK ====\n",
      "     got: 'a' \n",
      "expected: 'a'\n",
      "\n"
     ]
    }
   ],
   "source": [
    "test('a', 'ab')\n",
    "test('a', 'a')"
   ]
  },
  {
   "cell_type": "markdown",
   "metadata": {
    "colab_type": "text",
    "id": "ZuS3F1-1p2ot",
    "toc-hr-collapsed": false
   },
   "source": [
    "### Exercises"
   ]
  },
  {
   "cell_type": "markdown",
   "metadata": {
    "colab_type": "text",
    "id": "dbjbFN1Ap2ot"
   },
   "source": [
    "#### Exercise 1 - Fix it Multiply\n",
    "\n",
    "We want to multiple the values of a and b of the dictionary. \n",
    "\n",
    "Can you help?"
   ]
  },
  {
   "cell_type": "code",
   "execution_count": 46,
   "metadata": {
    "colab": {},
    "colab_type": "code",
    "id": "42NPgyiOp2ou"
   },
   "outputs": [
    {
     "name": "stdout",
     "output_type": "stream",
     "text": [
      "key is missing: name 'a' is not defined\n",
      "fix_it_1\n",
      "=== FAIL ==\n",
      "     got: 5 \n",
      "expected: 200\n",
      "\n"
     ]
    }
   ],
   "source": [
    "data = {\"a\": 10, \"b\": 20} # pretend some other code generated this data and you don't really know what's inside\n",
    "\n",
    "error = \"Blah\"\n",
    "\n",
    "try:\n",
    "    answer = data[a] * data[\"b\"] \n",
    "except BaseException as error:\n",
    "    print(\"key is missing:\", error)\n",
    "\n",
    "# TEST\n",
    "print(\"fix_it_1\")\n",
    "test(answer, 200)"
   ]
  },
  {
   "cell_type": "code",
   "execution_count": null,
   "metadata": {
    "colab": {},
    "colab_type": "code",
    "id": "Fw206Hlnp2ow"
   },
   "outputs": [],
   "source": [
    "# MC\n",
    "# \"a\" is the key, a is a variable that does not exist\n",
    "# data not dala\n",
    "\n",
    "data = {\"a\": 10, \"b\": 20}\n",
    "\n",
    "answer = data[\"a\"] * data[\"b\"]\n",
    "\n",
    "# TEST\n",
    "print(\"fix_it\")\n",
    "test(answer, 200)"
   ]
  },
  {
   "cell_type": "markdown",
   "metadata": {
    "colab_type": "text",
    "id": "NAKfPl8Ip2ox"
   },
   "source": [
    "#### Exercise 2 - Fix it Numbers\n",
    "\n",
    "We want to extend numbers with another list and then get the sum. \n",
    "\n",
    "Can you help?"
   ]
  },
  {
   "cell_type": "code",
   "execution_count": 49,
   "metadata": {
    "colab": {},
    "colab_type": "code",
    "id": "j_kFZSYLp2ox"
   },
   "outputs": [
    {
     "name": "stdout",
     "output_type": "stream",
     "text": [
      "fix_it_numbers\n",
      "==== OK ====\n",
      "     got: 36 \n",
      "expected: 36\n",
      "\n"
     ]
    }
   ],
   "source": [
    "numbers = [1,2,3,4]\n",
    "numbers.extend([5,6,7,8]) # is extend in-place?\n",
    "\n",
    "try:\n",
    "    answer = sum(numbers)\n",
    "except BaseException as error:\n",
    "    print(\"something is wrong!\", error)\n",
    "\n",
    "# TEST\n",
    "print(\"fix_it_numbers\")\n",
    "test(answer, 36)"
   ]
  },
  {
   "cell_type": "code",
   "execution_count": null,
   "metadata": {
    "colab": {},
    "colab_type": "code",
    "id": "Gf7k6vbJp2oz"
   },
   "outputs": [],
   "source": [
    "# MC\n",
    "# extend is an in-place operation!\n",
    "\n",
    "numbers = [1,2,3,4]\n",
    "numbers.extend([5,6,7,8])\n",
    "\n",
    "answer = sum(numbers)\n",
    "\n",
    "# TEST\n",
    "print(\"fix_it_numbers\")\n",
    "test(answer, 36)"
   ]
  },
  {
   "cell_type": "markdown",
   "metadata": {
    "colab_type": "text",
    "id": "OJyd0xeOp2o2"
   },
   "source": [
    "#### Exercise 3 - Fix it Open\n",
    "\n",
    "We try to read the contents of data/names_raw.txt into a string.\n",
    "\n",
    "Can you help?"
   ]
  },
  {
   "cell_type": "code",
   "execution_count": 2,
   "metadata": {
    "colab": {},
    "colab_type": "code",
    "id": "A2MjLyn7p2o2"
   },
   "outputs": [],
   "source": [
    "import os"
   ]
  },
  {
   "cell_type": "code",
   "execution_count": 54,
   "metadata": {
    "colab": {},
    "colab_type": "code",
    "id": "_R6FT2kHp2o3"
   },
   "outputs": [
    {
     "name": "stdout",
     "output_type": "stream",
     "text": [
      "{'a': 10, 'b': 20}\n",
      "fix_it_open\n",
      "=========== OK ===========\n",
      "     got: 'The names are:\\n\\nJeremy\\nNarjes\\nAmin' \n",
      "expected: 'The names are:\\n\\nJeremy\\nNarjes\\nAmin'\n",
      "\n"
     ]
    }
   ],
   "source": [
    "with open(os.path.join(\"..\",\"data\", \"names_raw.txt\"), 'r') as f:\n",
    "    content = f.read()\n",
    "    \n",
    "# TEST\n",
    "print(\"fix_it_open\")\n",
    "test(content, 'The names are:\\n\\nJeremy\\nNarjes\\nAmin')"
   ]
  },
  {
   "cell_type": "code",
   "execution_count": 56,
   "metadata": {
    "colab": {},
    "colab_type": "code",
    "id": "crAX9R6Hp2o4"
   },
   "outputs": [
    {
     "name": "stdout",
     "output_type": "stream",
     "text": [
      "fix_it_open\n",
      "=========== OK ===========\n",
      "     got: 'The names are:\\n\\nJeremy\\nNarjes\\nAmin' \n",
      "expected: 'The names are:\\n\\nJeremy\\nNarjes\\nAmin'\n",
      "\n"
     ]
    }
   ],
   "source": [
    "# MC\n",
    "# data is a string\n",
    "# read mode needs to be 'r' for reading\n",
    "\n",
    "with open(os.path.join(\"..\",\"data\", \"names_raw.txt\"), 'r') as f:\n",
    "    content = f.read()\n",
    "\n",
    "# TEST\n",
    "print(\"fix_it_open\")\n",
    "test(content, 'The names are:\\n\\nJeremy\\nNarjes\\nAmin')"
   ]
  },
  {
   "cell_type": "markdown",
   "metadata": {
    "colab_type": "text",
    "id": "lZDF24irp2o8"
   },
   "source": [
    "#### Exercise 4 - Try salaries\n",
    "\n",
    "Have a look at the data/salaries.txt file\n",
    "\n",
    "Load it into a list of dictionaries and use try catch to handle the non-dictionary lines."
   ]
  },
  {
   "cell_type": "code",
   "execution_count": 12,
   "metadata": {
    "colab": {},
    "colab_type": "code",
    "id": "fKzPoWsTp2o8"
   },
   "outputs": [
    {
     "ename": "SyntaxError",
     "evalue": "invalid syntax (<ipython-input-12-a83a572599a3>, line 1)",
     "output_type": "error",
     "traceback": [
      "\u001b[0;36m  File \u001b[0;32m\"<ipython-input-12-a83a572599a3>\"\u001b[0;36m, line \u001b[0;32m1\u001b[0m\n\u001b[0;31m    salaries = ## your code\u001b[0m\n\u001b[0m                           ^\u001b[0m\n\u001b[0;31mSyntaxError\u001b[0m\u001b[0;31m:\u001b[0m invalid syntax\n"
     ]
    }
   ],
   "source": [
    "salaries = ## your code\n",
    "        \n",
    "# TEST\n",
    "print(\"try_salaries\")\n",
    "from answers import the_salaries\n",
    "test(salaries, the_salaries)"
   ]
  },
  {
   "cell_type": "code",
   "execution_count": 13,
   "metadata": {},
   "outputs": [
    {
     "data": {
      "text/plain": [
       "[{'name': 'John', 'salary': 5000, 'years_employed': 4},\n",
       " {'name': 'Lee', 'salary': 4000, 'years_employed': 3},\n",
       " {'name': 'Alex', 'salary': 3000, 'years_employed': 7},\n",
       " {'name': 'John', 'salary': 3000, 'years_employed': 8},\n",
       " {'name': 'Lauren', 'salary': 6000, 'years_employed': 5}]"
      ]
     },
     "execution_count": 13,
     "metadata": {},
     "output_type": "execute_result"
    }
   ],
   "source": [
    "from answers import the_salaries\n",
    "the_salaries"
   ]
  },
  {
   "cell_type": "code",
   "execution_count": 25,
   "metadata": {
    "colab": {},
    "colab_type": "code",
    "id": "bC_L-OVUp2o-"
   },
   "outputs": [
    {
     "name": "stdout",
     "output_type": "stream",
     "text": [
      "[{'name': 'John', 'salary': 5000, 'years_employed': 4}, {'name': 'Lee', 'salary': 4000, 'years_employed': 3}, {'name': 'Alex', 'salary': 3000, 'years_employed': 7}, {'name': 'John', 'salary': 3000, 'years_employed': 8}, {'name': 'Lauren', 'salary': 6000, 'years_employed': 5}]\n",
      "try_salaries\n",
      "=========== OK ===========\n",
      "     got: [{'name': 'John', 'salary': 5000, 'years_employed': 4}, {'name': 'Lee', 'salary': 4000, 'years_employed': 3}, {'name': 'Alex', 'salary': 3000, 'years_employed': 7}, {'name': 'John', 'salary': 3000, 'years_employed': 8}, {'name': 'Lauren', 'salary': 6000, 'years_employed': 5}] \n",
      "expected: [{'name': 'John', 'salary': 5000, 'years_employed': 4}, {'name': 'Lee', 'salary': 4000, 'years_employed': 3}, {'name': 'Alex', 'salary': 3000, 'years_employed': 7}, {'name': 'John', 'salary': 3000, 'years_employed': 8}, {'name': 'Lauren', 'salary': 6000, 'years_employed': 5}]\n",
      "\n"
     ]
    }
   ],
   "source": [
    "# MC - remember to make sure the directory is correct - %pwd\n",
    "\n",
    "import ast\n",
    "\n",
    "salaries = []\n",
    "\n",
    "with open(os.path.join(\"..\",\"data\", \"salaries.txt\"), \"r\") as f:\n",
    "    for line in f:\n",
    "        try:\n",
    "            salaries.append(ast.literal_eval(line))\n",
    "        except:\n",
    "            pass\n",
    "        \n",
    "\n",
    "print(salaries)\n",
    "# TEST\n",
    "print(\"try_salaries\")\n",
    "from answers import the_salaries\n",
    "test(salaries, the_salaries) "
   ]
  },
  {
   "cell_type": "markdown",
   "metadata": {
    "colab_type": "text",
    "id": "O92pvzA6p2pA",
    "toc-hr-collapsed": false
   },
   "source": [
    "## Object Oriented Programming\n",
    "\n",
    "Object-oriented Programming, or OOP for short, is a programming paradigm in which properties and behaviours are bundled into objects.\n",
    "\n",
    "We will define a class <u>Student</u>. A class is a blue-print for an object. After defining the class Student there is only one Student class and you can create many Student objects out of that class.\n",
    "\n",
    "Then we create a child class PythonStudent. The child class inherits all the properties from its parent and has it's own functionalities additionally."
   ]
  },
  {
   "cell_type": "markdown",
   "metadata": {},
   "source": [
    "### How to create a class"
   ]
  },
  {
   "cell_type": "code",
   "execution_count": 26,
   "metadata": {
    "colab": {},
    "colab_type": "code",
    "id": "lA6YtTuxp2pB"
   },
   "outputs": [],
   "source": [
    "# MC\n",
    "\n",
    "class Student:\n",
    "    \n",
    "    # Constructor\n",
    "    def __init__(self, name, grades=[]):\n",
    "        self.name = name\n",
    "        self.grades = grades"
   ]
  },
  {
   "cell_type": "markdown",
   "metadata": {},
   "source": [
    "### Instantiating objects\n"
   ]
  },
  {
   "cell_type": "code",
   "execution_count": 27,
   "metadata": {
    "colab": {},
    "colab_type": "code",
    "id": "J0q3bjdWp2pC"
   },
   "outputs": [],
   "source": [
    "jeremy = Student(\"Jeremy\", [10,4,5]) # instantiate an object name 'jeremy'"
   ]
  },
  {
   "cell_type": "code",
   "execution_count": 28,
   "metadata": {
    "colab": {},
    "colab_type": "code",
    "id": "NlfqATaDp2pD"
   },
   "outputs": [
    {
     "name": "stdout",
     "output_type": "stream",
     "text": [
      "[10, 4, 5]\n",
      "Jeremy\n"
     ]
    }
   ],
   "source": [
    "print(jeremy.grades)\n",
    "print(jeremy.name)"
   ]
  },
  {
   "cell_type": "markdown",
   "metadata": {
    "colab_type": "text",
    "id": "cgEDg8Twp2pH"
   },
   "source": [
    "### Define methods in a class\n",
    "We will extend this class with an average methods the returns the average grade of the student.\n",
    "\n",
    "You can copy paste again and add the average function."
   ]
  },
  {
   "cell_type": "code",
   "execution_count": 30,
   "metadata": {
    "colab": {},
    "colab_type": "code",
    "id": "Z_9tfbpPp2pH"
   },
   "outputs": [],
   "source": [
    "# MC\n",
    "\n",
    "class Student:\n",
    "    \n",
    "    def __init__(self, name, grades=[]):\n",
    "        self.name = name\n",
    "        self.grades = grades\n",
    "        \n",
    "    def __repr__(self):\n",
    "        return \"{}:{}\".format(self.name, self.grades)\n",
    "    \n",
    "    def average(self):\n",
    "        return round(sum(self.grades) / len(self.grades), 2)"
   ]
  },
  {
   "cell_type": "code",
   "execution_count": 45,
   "metadata": {
    "colab": {},
    "colab_type": "code",
    "id": "mBwth3Zpp2pI"
   },
   "outputs": [
    {
     "data": {
      "text/plain": [
       "95.0"
      ]
     },
     "execution_count": 45,
     "metadata": {},
     "output_type": "execute_result"
    }
   ],
   "source": [
    "jeremy = Student(\"Jeremy\", [80,5,10])\n",
    "jeremy.average()\n",
    "tarun = PythonStudent(\"Tarun\", [90, 95, 100])\n",
    "tarun.average()"
   ]
  },
  {
   "cell_type": "markdown",
   "metadata": {
    "colab_type": "text",
    "id": "t572M_fcp2pL"
   },
   "source": [
    "In OOP there is the concept of inheritance. You can make a class that is the child of another class.\n",
    "\n",
    "We will define a class **PythonStudent**."
   ]
  },
  {
   "cell_type": "code",
   "execution_count": 44,
   "metadata": {
    "colab": {},
    "colab_type": "code",
    "id": "67dKxSBZp2pL"
   },
   "outputs": [],
   "source": [
    "# MC\n",
    "\n",
    "class PythonStudent(Student):\n",
    "    \n",
    "    def can_program(self):\n",
    "        return True\n",
    "    \n",
    "    def __repr__(self):\n",
    "        return \"{}:{}:{}\".format(self.name, self.grades, True)\n",
    "    "
   ]
  },
  {
   "cell_type": "code",
   "execution_count": 36,
   "metadata": {
    "colab": {},
    "colab_type": "code",
    "id": "xGl2BKWqp2pN"
   },
   "outputs": [
    {
     "data": {
      "text/plain": [
       "Narjes:[10, 20]"
      ]
     },
     "execution_count": 36,
     "metadata": {},
     "output_type": "execute_result"
    }
   ],
   "source": [
    "narjes = PythonStudent(\"Narjes\", [10, 20])\n",
    "narjes"
   ]
  },
  {
   "cell_type": "code",
   "execution_count": 37,
   "metadata": {
    "colab": {},
    "colab_type": "code",
    "id": "DXvjDQJqp2pQ"
   },
   "outputs": [
    {
     "data": {
      "text/plain": [
       "15.0"
      ]
     },
     "execution_count": 37,
     "metadata": {},
     "output_type": "execute_result"
    }
   ],
   "source": [
    "# MC\n",
    "\n",
    "narjes.average()"
   ]
  },
  {
   "cell_type": "code",
   "execution_count": 38,
   "metadata": {
    "colab": {},
    "colab_type": "code",
    "id": "YmOOA6QNp2pR"
   },
   "outputs": [
    {
     "data": {
      "text/plain": [
       "True"
      ]
     },
     "execution_count": 38,
     "metadata": {},
     "output_type": "execute_result"
    }
   ],
   "source": [
    "# MC\n",
    "\n",
    "narjes.can_program()"
   ]
  },
  {
   "cell_type": "code",
   "execution_count": 39,
   "metadata": {
    "colab": {},
    "colab_type": "code",
    "id": "20QVB5BQp2pT"
   },
   "outputs": [],
   "source": [
    "amin = PythonStudent(\"Amin\", [30,20,15])"
   ]
  },
  {
   "cell_type": "code",
   "execution_count": 40,
   "metadata": {
    "colab": {},
    "colab_type": "code",
    "id": "V6GAQS6Vp2pU"
   },
   "outputs": [
    {
     "name": "stdout",
     "output_type": "stream",
     "text": [
      "[Jeremy:[80, 5, 10], Amin:[30, 20, 15], Narjes:[10, 20]]\n"
     ]
    }
   ],
   "source": [
    "students = [jeremy, amin, narjes] # jeremy, amin, narjes are objects.\n",
    "print(students)"
   ]
  },
  {
   "cell_type": "markdown",
   "metadata": {
    "colab_type": "text",
    "id": "gNQxMVXmp2pY"
   },
   "source": [
    "We can filter ONLY the Python students."
   ]
  },
  {
   "cell_type": "code",
   "execution_count": 42,
   "metadata": {
    "colab": {},
    "colab_type": "code",
    "id": "56oDISWnp2pY"
   },
   "outputs": [
    {
     "data": {
      "text/plain": [
       "[Amin:[30, 20, 15], Narjes:[10, 20]]"
      ]
     },
     "execution_count": 42,
     "metadata": {},
     "output_type": "execute_result"
    }
   ],
   "source": [
    "# MC\n",
    "\n",
    "[n for n in students if isinstance(n, PythonStudent)]"
   ]
  },
  {
   "cell_type": "code",
   "execution_count": 47,
   "metadata": {},
   "outputs": [
    {
     "name": "stdout",
     "output_type": "stream",
     "text": [
      "Tarun:[90, 95, 100]:True\n",
      "Jeremy:[80, 5, 10]\n"
     ]
    }
   ],
   "source": [
    "print(tarun)\n",
    "print(jeremy)"
   ]
  },
  {
   "cell_type": "markdown",
   "metadata": {
    "colab_type": "text",
    "id": "KBSguwCAp2pZ"
   },
   "source": [
    "Well done!"
   ]
  },
  {
   "cell_type": "markdown",
   "metadata": {
    "colab_type": "text",
    "id": "ZPkdhUW0p2pa",
    "toc-hr-collapsed": false
   },
   "source": [
    "### Summary"
   ]
  },
  {
   "cell_type": "markdown",
   "metadata": {
    "colab_type": "text",
    "id": "iA3qSV49p2pa"
   },
   "source": [
    "> #### class \n",
    "Python is an Object Oriented Programming language (OOP). This means that almost all the code is implemented using a special construct called classes. Programmers use classes to keep related things together. When defining a child class it will inherit the methods from the parent class. \n",
    "\n",
    "```python\n",
    "class Student:\n",
    "    \n",
    "    def __init__(self, name, grades=[]):\n",
    "        self.name = name\n",
    "        self.grades = grades\n",
    "    \n",
    "    def average(self):\n",
    "        return round(sum(self.grades) / len(self.grades), 2)\n",
    "    \n",
    "\n",
    "class PythonStudent(Student):\n",
    "    \n",
    "    def can_program(self):\n",
    "        return True\n",
    "```"
   ]
  },
  {
   "cell_type": "markdown",
   "metadata": {
    "colab_type": "text",
    "id": "liCSYGEzp2pa",
    "toc-hr-collapsed": false
   },
   "source": [
    "### RUN ME\n",
    "\n",
    "Please run the below code snippet. It is required for running tests for your solution."
   ]
  },
  {
   "cell_type": "code",
   "execution_count": 48,
   "metadata": {
    "colab": {},
    "colab_type": "code",
    "id": "dOrQ12_sp2pb"
   },
   "outputs": [],
   "source": [
    "def test(got, expected):\n",
    "    max_width_print = min([int(79/3), \n",
    "                           len(repr(got)) + 10, \n",
    "                           len(repr(expected)) + 10])\n",
    "    \n",
    "    if got == expected:\n",
    "        prefix = ' OK '.center(max_width_print, '=')\n",
    "    else:\n",
    "        prefix = ' FAIL '.center(max_width_print, '=')\n",
    "    print(('%s\\n     got: %s \\nexpected: %s' % (prefix, repr(got), repr(expected))), \n",
    "          end = '\\n\\n')"
   ]
  },
  {
   "cell_type": "code",
   "execution_count": 49,
   "metadata": {
    "colab": {},
    "colab_type": "code",
    "id": "Cx6sgDKep2pb"
   },
   "outputs": [
    {
     "name": "stdout",
     "output_type": "stream",
     "text": [
      "==== FAIL ===\n",
      "     got: 'a' \n",
      "expected: 'ab'\n",
      "\n",
      "===== OK ====\n",
      "     got: 'a' \n",
      "expected: 'a'\n",
      "\n"
     ]
    }
   ],
   "source": [
    "test('a', 'ab')\n",
    "test('a', 'a')"
   ]
  },
  {
   "cell_type": "markdown",
   "metadata": {
    "colab_type": "text",
    "id": "OKwta_HEp2pc"
   },
   "source": [
    "### Exercises"
   ]
  },
  {
   "cell_type": "markdown",
   "metadata": {
    "colab_type": "text",
    "id": "-iqc7OC4p2pc"
   },
   "source": [
    "The CEO of your company happens to have a kid who is totally into Pokemon! For this reason he is very interested in finding out more about these Pokemon for himself. The thing is.. all these Pokemons are hidden away in files and spread out over different continents and countries folders. Oh no, what a bummer.\n",
    "\n",
    "Ambitious as you are and on the verge of locking down that next promotion you walk in and say: \n",
    "\n",
    "> _\"Calm down, I have just finished my Python-Fundamentals course, let me handle this.\"_\n",
    "\n",
    "Use your Python skills in browsing folder structure, lists, dictionaries, reading from csv and writing to Excel to provide those insights and totally save the day!\n",
    "\n",
    "Have a look the the pokeworld folder inside the data folder.\n",
    "\n",
    "The folder structure is like this: <u>continent/country/pokemon.txt</u>\n",
    "\n",
    "Each file represents a pokemon and inside the file is the description."
   ]
  },
  {
   "cell_type": "markdown",
   "metadata": {
    "colab_type": "text",
    "id": "LTwL7aelp2pd"
   },
   "source": [
    "#### Exercise 1 - Get pokemon info\n",
    "\n",
    "Get the continent, country, name and description for the pokemon in pokeworld/Asia/Malaysia/Wooper.txt\n",
    "\n",
    "Hints: help(str.split), with open()"
   ]
  },
  {
   "cell_type": "code",
   "execution_count": 56,
   "metadata": {
    "colab": {},
    "colab_type": "code",
    "id": "URAuxb4rp2pd"
   },
   "outputs": [
    {
     "data": {
      "text/plain": [
       "'../data/pokeworld/Asia/Malaysia/Wooper.txt'"
      ]
     },
     "execution_count": 56,
     "metadata": {},
     "output_type": "execute_result"
    }
   ],
   "source": [
    "import os\n",
    "pokefile = os.path.join(\"..\",\"data\", \"pokeworld\",\"Asia\",\"Malaysia\",\"Wooper.txt\")\n",
    "pokefile"
   ]
  },
  {
   "cell_type": "code",
   "execution_count": 55,
   "metadata": {},
   "outputs": [
    {
     "data": {
      "text/plain": [
       "'Wooper'"
      ]
     },
     "execution_count": 55,
     "metadata": {},
     "output_type": "execute_result"
    }
   ],
   "source": [
    "# MC\n",
    "\n",
    "lst = pokefile.split(\"/\")\n",
    "lst[-1].split('.')[0]"
   ]
  },
  {
   "cell_type": "code",
   "execution_count": null,
   "metadata": {
    "colab": {},
    "colab_type": "code",
    "id": "IWe6AYMKp2pe"
   },
   "outputs": [],
   "source": [
    "# MC\n",
    "\n",
    "continent = ## your code\n",
    "country = ## your code\n",
    "name = ## your code\n",
    "description = ## your code\n",
    "\n",
    "# TEST\n",
    "print(\"get_pokemon_info\")\n",
    "\n",
    "from answers import wooper_desc\n",
    "test(continent, 'Asia')\n",
    "test(country, 'Malaysia')\n",
    "test(name, 'Wooper')\n",
    "test(description, wooper_desc)"
   ]
  },
  {
   "cell_type": "code",
   "execution_count": 57,
   "metadata": {
    "colab": {},
    "colab_type": "code",
    "id": "ddpuMwLkp2pf"
   },
   "outputs": [
    {
     "name": "stdout",
     "output_type": "stream",
     "text": [
      "get_pokemon_info\n",
      "====== OK ======\n",
      "     got: 'Asia' \n",
      "expected: 'Asia'\n",
      "\n",
      "======== OK ========\n",
      "     got: 'Malaysia' \n",
      "expected: 'Malaysia'\n",
      "\n",
      "======= OK =======\n",
      "     got: 'Wooper' \n",
      "expected: 'Wooper'\n",
      "\n",
      "=========== OK ===========\n",
      "     got: 'Wooper usually lives in water. However, it occasionally comes\\nout onto land in search of food. On land, it coats its body with\\na gooey, toxic film.' \n",
      "expected: 'Wooper usually lives in water. However, it occasionally comes\\nout onto land in search of food. On land, it coats its body with\\na gooey, toxic film.'\n",
      "\n"
     ]
    }
   ],
   "source": [
    "# MC\n",
    "\n",
    "continent = pokefile.split(\"/\")[-3]\n",
    "country = pokefile.split(\"/\")[-2]\n",
    "name = pokefile.split(\"/\")[-1].split(\".\")[0]\n",
    "\n",
    "# this is for later test(description, wooper_desc) purpose\n",
    "with open(pokefile, 'r') as f:\n",
    "    description = f.read()\n",
    "\n",
    "# TEST\n",
    "print(\"get_pokemon_info\")\n",
    "\n",
    "from answers import wooper_desc\n",
    "\n",
    "test(continent, 'Asia')\n",
    "test(country, 'Malaysia')\n",
    "test(name, 'Wooper')\n",
    "test(description, wooper_desc)"
   ]
  },
  {
   "cell_type": "markdown",
   "metadata": {
    "colab_type": "text",
    "id": "2jRtbcyyp2pg"
   },
   "source": [
    "#### Exercise 2 - Create a pokemon class"
   ]
  },
  {
   "cell_type": "markdown",
   "metadata": {
    "colab_type": "text",
    "id": "Qq3CMjllp2ph"
   },
   "source": [
    "Create a pokemon class which has three methods:\n",
    "- \\_\\_init\\_\\_(self, pokefile) -- assign self.name, self.continent, self.country and self.description with contents from the file\n",
    "- \\_\\_repr\\_\\_(self) -- represent a pokemon like 'Wooper from Malaysia, Asia'\n",
    "- is_big_data(self) -- if there is 'Apache' or 'Hadoop' in self.description return True"
   ]
  },
  {
   "cell_type": "code",
   "execution_count": 58,
   "metadata": {
    "colab": {},
    "colab_type": "code",
    "id": "eqbnS0DSp2ph"
   },
   "outputs": [
    {
     "name": "stdout",
     "output_type": "stream",
     "text": [
      "create_pokemon_class\n"
     ]
    },
    {
     "ename": "NameError",
     "evalue": "name 'Pokemon' is not defined",
     "output_type": "error",
     "traceback": [
      "\u001b[0;31m---------------------------------------------------------------------------\u001b[0m",
      "\u001b[0;31mNameError\u001b[0m                                 Traceback (most recent call last)",
      "\u001b[0;32m<ipython-input-58-c12d59e77461>\u001b[0m in \u001b[0;36m<module>\u001b[0;34m\u001b[0m\n\u001b[1;32m      6\u001b[0m \u001b[0mpokefile2\u001b[0m \u001b[0;34m=\u001b[0m \u001b[0mos\u001b[0m\u001b[0;34m.\u001b[0m\u001b[0mpath\u001b[0m\u001b[0;34m.\u001b[0m\u001b[0mjoin\u001b[0m\u001b[0;34m(\u001b[0m\u001b[0;34m\"..\"\u001b[0m\u001b[0;34m,\u001b[0m\u001b[0;34m\"data\"\u001b[0m\u001b[0;34m,\u001b[0m \u001b[0;34m\"pokeworld/Asia/Thailand/Hive.txt\"\u001b[0m\u001b[0;34m)\u001b[0m\u001b[0;34m\u001b[0m\u001b[0;34m\u001b[0m\u001b[0m\n\u001b[1;32m      7\u001b[0m \u001b[0;34m\u001b[0m\u001b[0m\n\u001b[0;32m----> 8\u001b[0;31m \u001b[0mwooper\u001b[0m \u001b[0;34m=\u001b[0m \u001b[0mPokemon\u001b[0m\u001b[0;34m(\u001b[0m\u001b[0mpokefile\u001b[0m\u001b[0;34m)\u001b[0m\u001b[0;34m\u001b[0m\u001b[0;34m\u001b[0m\u001b[0m\n\u001b[0m\u001b[1;32m      9\u001b[0m \u001b[0mhive\u001b[0m \u001b[0;34m=\u001b[0m \u001b[0mPokemon\u001b[0m\u001b[0;34m(\u001b[0m\u001b[0mpokefile2\u001b[0m\u001b[0;34m)\u001b[0m\u001b[0;34m\u001b[0m\u001b[0;34m\u001b[0m\u001b[0m\n\u001b[1;32m     10\u001b[0m \u001b[0;34m\u001b[0m\u001b[0m\n",
      "\u001b[0;31mNameError\u001b[0m: name 'Pokemon' is not defined"
     ]
    }
   ],
   "source": [
    "## your code here\n",
    "    \n",
    "# TEST\n",
    "print(\"create_pokemon_class\")\n",
    "pokefile = os.path.join(\"..\",\"data\", \"pokeworld/Asia/Malaysia/Wooper.txt\")\n",
    "pokefile2 = os.path.join(\"..\",\"data\", \"pokeworld/Asia/Thailand/Hive.txt\")\n",
    "\n",
    "wooper = Pokemon(pokefile)\n",
    "hive = Pokemon(pokefile2)\n",
    "\n",
    "test(wooper.__repr__(), 'Wooper from Malaysia, Asia')\n",
    "test(hive.__repr__(), 'Hive from Thailand, Asia')\n",
    "test(wooper.is_big_data(), False)\n",
    "test(hive.is_big_data(), True)"
   ]
  },
  {
   "cell_type": "code",
   "execution_count": 61,
   "metadata": {
    "colab": {},
    "colab_type": "code",
    "id": "Bo5r2kt3p2pj"
   },
   "outputs": [
    {
     "name": "stdout",
     "output_type": "stream",
     "text": [
      "create_pokemon_class\n",
      "=========== OK ===========\n",
      "     got: 'Wooper from Malaysia, Asia' \n",
      "expected: 'Wooper from Malaysia, Asia'\n",
      "\n",
      "=========== OK ===========\n",
      "     got: 'Hive from Thailand, Asia' \n",
      "expected: 'Hive from Thailand, Asia'\n",
      "\n",
      "====== OK =====\n",
      "     got: False \n",
      "expected: False\n",
      "\n",
      "===== OK =====\n",
      "     got: True \n",
      "expected: True\n",
      "\n"
     ]
    }
   ],
   "source": [
    "# MC\n",
    "\n",
    "class Pokemon():\n",
    "    \n",
    "    def __init__(self, pokefile):\n",
    "        \n",
    "        self.continent = pokefile.split(\"/\")[-3]\n",
    "        self.country = pokefile.split(\"/\")[-2]\n",
    "        self.name = pokefile.split(\"/\")[-1].split(\".\")[0]\n",
    "\n",
    "        with open(pokefile, 'r') as f:\n",
    "            self.description = f.read()\n",
    "    \n",
    "    def is_big_data(self):\n",
    "        return 'Hadoop' in self.description or 'Apache' in self.description\n",
    "        \n",
    "    def __repr__(self):\n",
    "        return \"{} from {}, {}\".format(self.name, self.country, self.continent)\n",
    "    \n",
    "# TEST\n",
    "print(\"create_pokemon_class\")\n",
    "pokefile = os.path.join(\"..\",\"data\", \"pokeworld\",\"Asia\",\"Malaysia\",\"Wooper.txt\")\n",
    "pokefile2 = os.path.join(\"..\",\"data\", \"pokeworld\",\"Asia\",\"Thailand\",\"Hive.txt\")\n",
    "\n",
    "wooper = Pokemon(pokefile)\n",
    "hive = Pokemon(pokefile2)\n",
    "\n",
    "test(wooper.__repr__(), 'Wooper from Malaysia, Asia')\n",
    "test(hive.__repr__(), 'Hive from Thailand, Asia')\n",
    "test(wooper.is_big_data(), False)\n",
    "test(hive.is_big_data(), True)"
   ]
  },
  {
   "cell_type": "markdown",
   "metadata": {
    "colab_type": "text",
    "id": "f_cuY_ywp2pl"
   },
   "source": [
    "#### Exercise 3 -  Load all pokemons\n",
    "\n",
    "Now that we have defined the Pokemon class we can make a list of all the pokemon.\n",
    "\n",
    "Hints: glob.glob, Pokemon(pokefile)"
   ]
  },
  {
   "cell_type": "code",
   "execution_count": null,
   "metadata": {
    "colab": {},
    "colab_type": "code",
    "id": "iBmfTYHhp2pl"
   },
   "outputs": [],
   "source": [
    "## your code here\n",
    "\n",
    "pokemons = ## your code here\n",
    "\n",
    "# TEST\n",
    "print(\"load_all_pokemons\")\n",
    "test(len(pokemons), 750)\n",
    "test(type(pokemons[0]), Pokemon)"
   ]
  },
  {
   "cell_type": "code",
   "execution_count": 62,
   "metadata": {
    "colab": {},
    "colab_type": "code",
    "id": "clsqQnLQp2pm"
   },
   "outputs": [
    {
     "name": "stdout",
     "output_type": "stream",
     "text": [
      "load_all_pokemons\n",
      "==== FAIL ===\n",
      "     got: 293 \n",
      "expected: 750\n",
      "\n",
      "=========== OK ===========\n",
      "     got: <class '__main__.Pokemon'> \n",
      "expected: <class '__main__.Pokemon'>\n",
      "\n"
     ]
    }
   ],
   "source": [
    "# MC\n",
    "import glob\n",
    "import os\n",
    "\n",
    "folder = os.path.join(\"..\",\"data\", \"pokeworld\")\n",
    "pokefiles = glob.glob('{}/**/*.txt'.format(folder), recursive=True)\n",
    "pokemons = [Pokemon(f) for f in pokefiles] # remember that 'Pokemon' is a class defined above.\n",
    "\n",
    "# TEST\n",
    "print(\"load_all_pokemons\")\n",
    "test(len(pokemons), 750)  # pokemons is a list of 750 objects\n",
    "test(type(pokemons[0]), Pokemon) # check if the first item in 'pokemons' has the same characteristics as Pokemon class"
   ]
  },
  {
   "cell_type": "markdown",
   "metadata": {
    "colab_type": "text",
    "id": "7Eka0UX7p2pm"
   },
   "source": [
    "#### Exercise 4 - Provide insights\n",
    "\n",
    "Now that we have a list of pokemon, let's answer some questions!\n",
    "\n",
    "1. In which country is Pikachu?\n",
    "2. How many pokemons in Malaysia?\n",
    "3. How many pokemons in Asia?\n",
    "4. Which continent has the most pokemons?\n",
    "5. Which country has least pokemons?\n",
    "6. Which countries have bigdata?"
   ]
  },
  {
   "cell_type": "markdown",
   "metadata": {
    "colab_type": "text",
    "id": "ZaGU2wIyp2pn"
   },
   "source": [
    "4.1 In which country is Pikachu?"
   ]
  },
  {
   "cell_type": "code",
   "execution_count": 64,
   "metadata": {
    "colab": {},
    "colab_type": "code",
    "id": "Rn8ewFa5p2pn"
   },
   "outputs": [
    {
     "data": {
      "text/plain": [
       "'Malaysia'"
      ]
     },
     "execution_count": 64,
     "metadata": {},
     "output_type": "execute_result"
    }
   ],
   "source": [
    "# MC\n",
    "\n",
    "pikachu = [p for p in pokemons if p.name == \"Wooper\"][0]  # get the first item which is also a pokemon object from the list\n",
    "\n",
    "pikachu.country"
   ]
  },
  {
   "cell_type": "markdown",
   "metadata": {
    "colab_type": "text",
    "id": "eUAySkkVp2pn"
   },
   "source": [
    "4.2 How many pokemons in Malaysia?"
   ]
  },
  {
   "cell_type": "code",
   "execution_count": 65,
   "metadata": {
    "colab": {},
    "colab_type": "code",
    "id": "BdoMlgG7p2po"
   },
   "outputs": [
    {
     "data": {
      "text/plain": [
       "45"
      ]
     },
     "execution_count": 65,
     "metadata": {},
     "output_type": "execute_result"
    }
   ],
   "source": [
    "# MC\n",
    "\n",
    "malaysians = [p for p in pokemons if p.country == \"Malaysia\"] # remember that 'pokemons' are objects\n",
    "\n",
    "len(malaysians) "
   ]
  },
  {
   "cell_type": "markdown",
   "metadata": {
    "colab_type": "text",
    "id": "6iQ0mIzHp2po"
   },
   "source": [
    "4.3 How many pokemons in Asia?"
   ]
  },
  {
   "cell_type": "code",
   "execution_count": 66,
   "metadata": {
    "colab": {},
    "colab_type": "code",
    "id": "ZzZgMUEap2pp"
   },
   "outputs": [
    {
     "data": {
      "text/plain": [
       "155"
      ]
     },
     "execution_count": 66,
     "metadata": {},
     "output_type": "execute_result"
    }
   ],
   "source": [
    "# MC\n",
    "\n",
    "asians = [p for p in pokemons if p.continent == \"Asia\"]\n",
    "\n",
    "len(asians)"
   ]
  },
  {
   "cell_type": "markdown",
   "metadata": {
    "colab_type": "text",
    "id": "syvctrMRp2pq"
   },
   "source": [
    "4.4 Which continent has the most pokemons?\n",
    "\n",
    "Hints: \n",
    "- make a dictionary continents for the count\n",
    "- continents.setdefault\n",
    "- sorted(continens.items(), key=... , reverse=True)\n",
    "\n",
    "**setdefault() method returns the value of a key (if the key is in dictionary). If not, it inserts key with a value to the dictionary.**"
   ]
  },
  {
   "cell_type": "code",
   "execution_count": 68,
   "metadata": {
    "colab": {},
    "colab_type": "code",
    "id": "3gK4sbRIp2pr"
   },
   "outputs": [
    {
     "data": {
      "text/plain": [
       "[('Asia', 155), ('Europe', 118), ('Middle-East', 20)]"
      ]
     },
     "execution_count": 68,
     "metadata": {},
     "output_type": "execute_result"
    }
   ],
   "source": [
    "# MC\n",
    "\n",
    "continents = {}\n",
    "\n",
    "for p in pokemons:\n",
    "    continents.setdefault(p.continent, 0) # if p.continent not found, insert 0\n",
    "    continents[p.continent] += 1\n",
    "\n",
    "sorted(continents.items(), key=lambda x: x[-1], reverse=True)[0]"
   ]
  },
  {
   "cell_type": "markdown",
   "metadata": {
    "colab_type": "text",
    "id": "WybC94iMp2ps"
   },
   "source": [
    "4.5 Which country has the least pokemon?"
   ]
  },
  {
   "cell_type": "code",
   "execution_count": 69,
   "metadata": {
    "colab": {},
    "colab_type": "code",
    "id": "iRRH-lgSp2ps"
   },
   "outputs": [
    {
     "data": {
      "text/plain": [
       "('Germany', 8)"
      ]
     },
     "execution_count": 69,
     "metadata": {},
     "output_type": "execute_result"
    }
   ],
   "source": [
    "# MC\n",
    "\n",
    "countries = {}\n",
    "\n",
    "for p in pokemons:\n",
    "    countries.setdefault(p.country, 0)\n",
    "    countries[p.country] +=1\n",
    "    \n",
    "sorted(countries.items(), key=lambda x:x[-1])[0]"
   ]
  },
  {
   "cell_type": "markdown",
   "metadata": {
    "colab_type": "text",
    "id": "1a8jxdagp2pt"
   },
   "source": [
    "4.6 Which countries have big data?\n",
    "\n",
    "Hints: set() to get unique values of a list."
   ]
  },
  {
   "cell_type": "code",
   "execution_count": 70,
   "metadata": {
    "colab": {},
    "colab_type": "code",
    "id": "jBF1_Dq9p2pu"
   },
   "outputs": [
    {
     "data": {
      "text/plain": [
       "{'Germany', 'Japan', 'Thailand', 'The-Netherlands'}"
      ]
     },
     "execution_count": 70,
     "metadata": {},
     "output_type": "execute_result"
    }
   ],
   "source": [
    "# MC\n",
    "\n",
    "bigdata = set([p.country for p in pokemons if p.is_big_data()])\n",
    "bigdata"
   ]
  },
  {
   "cell_type": "code",
   "execution_count": 71,
   "metadata": {},
   "outputs": [
    {
     "data": {
      "text/plain": [
       "['Sukhani', ' Tarun']"
      ]
     },
     "execution_count": 71,
     "metadata": {},
     "output_type": "execute_result"
    }
   ],
   "source": [
    "name = \"Sukhani, Tarun\"\n",
    "split = name.split(\",\")\n",
    "split"
   ]
  },
  {
   "cell_type": "markdown",
   "metadata": {
    "colab_type": "text",
    "id": "FJPSpOuMp2pv"
   },
   "source": [
    "# Well done! Congrats on completing Python Fundamentals!"
   ]
  }
 ],
 "metadata": {
  "colab": {
   "name": "Python_Day3_MC.ipynb",
   "provenance": [],
   "version": "0.3.2"
  },
  "kernelspec": {
   "display_name": "Python 3 (ipykernel)",
   "language": "python",
   "name": "python3"
  },
  "language_info": {
   "codemirror_mode": {
    "name": "ipython",
    "version": 3
   },
   "file_extension": ".py",
   "mimetype": "text/x-python",
   "name": "python",
   "nbconvert_exporter": "python",
   "pygments_lexer": "ipython3",
   "version": "3.9.7"
  }
 },
 "nbformat": 4,
 "nbformat_minor": 4
}
