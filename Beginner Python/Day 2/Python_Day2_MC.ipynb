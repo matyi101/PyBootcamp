{
 "cells": [
  {
   "cell_type": "markdown",
   "metadata": {
    "colab_type": "text",
    "id": "gQ77gvXxpyN_"
   },
   "source": [
    "<img src=\"../images/python-logo.png\" style=\"height: 100px;\" align=left>"
   ]
  },
  {
   "cell_type": "markdown",
   "metadata": {
    "colab_type": "text",
    "id": "QQGj3v6epyOB"
   },
   "source": [
    "# Python Fundamentals Day 2\n",
    "\n",
    "Welcome to Python Fundamentals Day 2.\n",
    "\n",
    "So what is on the menu for today? \n",
    "\n",
    "We start with the While loop and provide you some additional useful tricks to apply in the For loop. We spend a bit of time on casting objects from one type to the other and explain you what these \\_\\_double\\_\\_ underscores are about.\n",
    "\n",
    "Then we go through the overviews of list and dictionary operations. There is quite a lot you can do with these 2 powerfull and common used objects. \n",
    "\n",
    "Then list comprehension. This is a very powerful construct that allows you to create a new list from another while applying a filter and an expression to each item. It is a for loop inside a list.\n",
    "\n",
    "And finally the nameless lambda function, which comes in very handy in numerous applications."
   ]
  },
  {
   "cell_type": "markdown",
   "metadata": {
    "colab_type": "text",
    "id": "7CL_ftW1pyOB"
   },
   "source": [
    "## Table of Contents\n",
    "\n",
    "- [More on loops](#More-on-loops)\n",
    "    - [While loop](#While-loop)\n",
    "    - [Range](#Range)\n",
    "    - [Enumerate](#Enumerate)\n",
    "    - [Casting](#Casting)\n",
    "    - [Dunder methods](#Dunder-methods)\n",
    "    - [Summary - More on loops](#Summary---More-on-loops)\n",
    "        - [while](#while)\n",
    "        - [range](#range)\n",
    "        - [enumerate](#enumerate)\n",
    "        - [casting](#casting)\n",
    "        - [dunder methods](#dunder-methods)\n",
    "- [List operations](#List-operations)\n",
    "    - [Summary - List operations](#Summary---List-operations)\n",
    "        - [list operations](#list-operations)\n",
    "    - [RUN ME](#RUN-ME)\n",
    "    - [Exercises - List operations](#Exercises---List-operations)\n",
    "        - [Exercise 1 - Month days](#Exercise-1---Month-days)\n",
    "        - [Exercise 2 - Get unevens](#Exercise-2---Get-unevens)\n",
    "        - [Exercise 3 - Sum top](#Exercise-3---Sum-top)\n",
    "        - [Exercise 4 - Match ends](#Exercise-4---Match-ends)\n",
    "- [Dictionary operations](#Dictionary-operations)\n",
    "    - [Summary - Dictionary operations](#Summary---Dictionary-operations)\n",
    "        - [dictionary operations](#dictionary-operations)\n",
    "    - [RUN ME](#RUN-ME)\n",
    "    - [Exercises - Dictionary operations](#Exercises---Dictionary-operations)\n",
    "        - [Exercise 1 - Numbers info](#Exercise-1---Numbers-info)\n",
    "        - [Exercice 2 - Cart checkout](#Exercice-2---Cart-checkout)\n",
    "        - [Exercise 3 - Student Marks](#Exercise-3---Students-Marks)\n",
    "- [List comprehension and lambda](#List-comprehension-and-lambda)\n",
    "    - [List Comprehensions](#List-Comprehensions)\n",
    "    - [Lambda](#Lambda)\n",
    "    - [Summary - List comprehension and lambda](#Summary---List-comprehension-and-lambda)\n",
    "        - [list comprehension](#list-comprehension)\n",
    "        - [lambda](#lambda)\n",
    "    - [RUN ME](#RUN-ME)\n",
    "    - [Exercises - List comprehension and lambda](#Exercises---List-comprehension-and-lambda)\n",
    "        - [Exercise 1 - Negative ints](#Exercise-1---Negative-ints)\n",
    "        - [Exercise 2 - Power odds](#Exercise-2---Power-odds)\n",
    "        - [Exercise 3 - Word lengths](#Exercise-3---Word-lengths)\n",
    "        - [Exercise 4 - Celsius to Fahrenheit](#Exercise-4---Celsius-to-Fahrenheit)\n",
    "        - [Exercise 5 - Square odds lambda](#Exercise-5---Square-odds-lambda)\n",
    "        - [Exercise 6 - Square odds lc](#-Exercise-6---Square-odds-lc)\n",
    "        - [Exercise 7 - Extract A names lambda](#Exercise-7---Extract-A-names-lambda)\n",
    "        - [Exercise 8 - Extract B names lc](#Exercise-8---Extract-B-names-lc)\n",
    "        - [Exercise 9 - Sort last](#Exercise-9---Sort-last)\n",
    "        - [Exercise 10 - Coordinates](#Exercise-10---Coordinates)\n"
   ]
  },
  {
   "cell_type": "markdown",
   "metadata": {
    "colab_type": "text",
    "id": "8lfTULvApyOC",
    "toc-hr-collapsed": false
   },
   "source": [
    "## More on loops"
   ]
  },
  {
   "cell_type": "markdown",
   "metadata": {
    "colab_type": "text",
    "id": "tN_dW2TZpyOD"
   },
   "source": [
    "### While loop"
   ]
  },
  {
   "cell_type": "markdown",
   "metadata": {
    "colab_type": "text",
    "id": "XqhTJ8dppyOD"
   },
   "source": [
    "Besides the <font style=\"font-family:courier\" color=green><strong>for</strong></font> loop there is also the <font style=\"font-family:courier\" color=green><strong>while</strong></font> loop.\n",
    "\n",
    "The <font style=\"font-family:courier\" color=green><strong>while</strong></font> loop <u>continues iterating until it's condition stops being <font style=\"font-family:courier\" color=green><strong>True</strong></font></u>.\n",
    "\n",
    "Let's see it."
   ]
  },
  {
   "cell_type": "code",
   "execution_count": 1,
   "metadata": {
    "colab": {},
    "colab_type": "code",
    "id": "hMjsRw6ypyOE"
   },
   "outputs": [
    {
     "name": "stdout",
     "output_type": "stream",
     "text": [
      "1\n",
      "2\n",
      "3\n",
      "4\n",
      "5\n",
      "6\n",
      "7\n",
      "8\n",
      "9\n",
      "10\n"
     ]
    }
   ],
   "source": [
    "# MC\n",
    "# THREE basic requirements in a loop: \n",
    "# 1) start point, \n",
    "# 2) end point, \n",
    "# 3) what keeps it going from start to end\n",
    "\n",
    "i = 0\n",
    "\n",
    "while i < 10:\n",
    "    i += 1\n",
    "    print(i)"
   ]
  },
  {
   "cell_type": "markdown",
   "metadata": {
    "colab_type": "text",
    "id": "84qRpQIPpyOH"
   },
   "source": [
    "Let's write a code that <i>asks the user</i> for integer numbers until the total is <font style=\"font-family:courier\" color=green>50</font>."
   ]
  },
  {
   "cell_type": "code",
   "execution_count": 3,
   "metadata": {
    "colab": {},
    "colab_type": "code",
    "id": "IUbiBiHfpyOI"
   },
   "outputs": [
    {
     "name": "stdin",
     "output_type": "stream",
     "text": [
      " 5\n"
     ]
    },
    {
     "name": "stdout",
     "output_type": "stream",
     "text": [
      "total: 5 x: 5\n"
     ]
    },
    {
     "name": "stdin",
     "output_type": "stream",
     "text": [
      " 10\n"
     ]
    },
    {
     "name": "stdout",
     "output_type": "stream",
     "text": [
      "total: 15 x: 10\n"
     ]
    },
    {
     "name": "stdin",
     "output_type": "stream",
     "text": [
      " 15\n"
     ]
    },
    {
     "name": "stdout",
     "output_type": "stream",
     "text": [
      "total: 30 x: 15\n"
     ]
    },
    {
     "name": "stdin",
     "output_type": "stream",
     "text": [
      " 20\n"
     ]
    },
    {
     "name": "stdout",
     "output_type": "stream",
     "text": [
      "total: 50 x: 20\n"
     ]
    }
   ],
   "source": [
    "#### MC\n",
    "\n",
    "total = 0\n",
    "\n",
    "\n",
    "while total < 50:\n",
    "    x = int(input())\n",
    "    total += x\n",
    "    print(\"total:\", total, \"x:\", x)"
   ]
  },
  {
   "cell_type": "markdown",
   "metadata": {
    "colab_type": "text",
    "id": "BADgim4fpyOK"
   },
   "source": [
    "What did we do here?\n",
    "\n",
    "Notice the condition \"`total` <font style=\"font-family:courier\"><font color=purple><strong>&lt;</strong></font> <font color=green>50</font></font>\". The loop keeps iterating until that condition stops being <font style=\"font-family:courier\" color=green><strong>True</strong></font>. The <font style=\"font-family:courier\"><font color=green>input</font>()</font> function asks the user for input. The <font style=\"font-family:courier\"><font color=green>int</font>()</font> function <i>casts</i> a string to a integer. This is called casting, we cast an object of one type to be of another type. Then we add the resulting number `x` to the `total`. We **repeat** until the total is <font style=\"font-family:courier\" color=green>50</font> or higher.\n",
    "\n",
    "Now we want to check if the input string is convertible to an integer. Let's use <font style=\"font-family:courier\"><font color=green>dir</font>(<font color=green>str</font>)</font> to see <u>which method</u> we could use for that."
   ]
  },
  {
   "cell_type": "code",
   "execution_count": 7,
   "metadata": {
    "colab": {},
    "colab_type": "code",
    "id": "_iae5ayepyOK"
   },
   "outputs": [
    {
     "data": {
      "text/plain": [
       "'00000Hello'"
      ]
     },
     "execution_count": 7,
     "metadata": {},
     "output_type": "execute_result"
    }
   ],
   "source": [
    "# MC\n",
    "\n",
    "# help(str.zfill)\n",
    "a = \"Hello\"\n",
    "a.zfill(10)"
   ]
  },
  {
   "cell_type": "code",
   "execution_count": 8,
   "metadata": {},
   "outputs": [
    {
     "data": {
      "text/plain": [
       "['__add__',\n",
       " '__class__',\n",
       " '__contains__',\n",
       " '__delattr__',\n",
       " '__dir__',\n",
       " '__doc__',\n",
       " '__eq__',\n",
       " '__format__',\n",
       " '__ge__',\n",
       " '__getattribute__',\n",
       " '__getitem__',\n",
       " '__getnewargs__',\n",
       " '__gt__',\n",
       " '__hash__',\n",
       " '__init__',\n",
       " '__init_subclass__',\n",
       " '__iter__',\n",
       " '__le__',\n",
       " '__len__',\n",
       " '__lt__',\n",
       " '__mod__',\n",
       " '__mul__',\n",
       " '__ne__',\n",
       " '__new__',\n",
       " '__reduce__',\n",
       " '__reduce_ex__',\n",
       " '__repr__',\n",
       " '__rmod__',\n",
       " '__rmul__',\n",
       " '__setattr__',\n",
       " '__sizeof__',\n",
       " '__str__',\n",
       " '__subclasshook__',\n",
       " 'capitalize',\n",
       " 'casefold',\n",
       " 'center',\n",
       " 'count',\n",
       " 'encode',\n",
       " 'endswith',\n",
       " 'expandtabs',\n",
       " 'find',\n",
       " 'format',\n",
       " 'format_map',\n",
       " 'index',\n",
       " 'isalnum',\n",
       " 'isalpha',\n",
       " 'isascii',\n",
       " 'isdecimal',\n",
       " 'isdigit',\n",
       " 'isidentifier',\n",
       " 'islower',\n",
       " 'isnumeric',\n",
       " 'isprintable',\n",
       " 'isspace',\n",
       " 'istitle',\n",
       " 'isupper',\n",
       " 'join',\n",
       " 'ljust',\n",
       " 'lower',\n",
       " 'lstrip',\n",
       " 'maketrans',\n",
       " 'partition',\n",
       " 'replace',\n",
       " 'rfind',\n",
       " 'rindex',\n",
       " 'rjust',\n",
       " 'rpartition',\n",
       " 'rsplit',\n",
       " 'rstrip',\n",
       " 'split',\n",
       " 'splitlines',\n",
       " 'startswith',\n",
       " 'strip',\n",
       " 'swapcase',\n",
       " 'title',\n",
       " 'translate',\n",
       " 'upper',\n",
       " 'zfill']"
      ]
     },
     "execution_count": 8,
     "metadata": {},
     "output_type": "execute_result"
    }
   ],
   "source": [
    "dir(str)"
   ]
  },
  {
   "cell_type": "markdown",
   "metadata": {
    "colab_type": "text",
    "id": "5XzoLYIMpyON"
   },
   "source": [
    "**Question:** Which string function can we use to check can cast a string (<font style=\"font-family:courier\" color=green>str</font>) to an integer (<font style=\"font-family:courier\" color=green>int</font>)?\n",
    "<br>\n",
    "<br>\n",
    "<br>\n",
    "<br>\n",
    "<br>\n",
    "<br>"
   ]
  },
  {
   "cell_type": "markdown",
   "metadata": {
    "colab_type": "text",
    "id": "5XzoLYIMpyON"
   },
   "source": [
    "**Answer**: <br><font style=\"font-family:courier\"><font color=green>str</font>.isnumeric</font>, <br><font style=\"font-family:courier\"><font color=green>str</font>.isdigit</font>, <br><font style=\"font-family:courier\"><font color=green>str</font>.isdecimal</font> \n",
    "<br>all work"
   ]
  },
  {
   "cell_type": "code",
   "execution_count": 9,
   "metadata": {
    "colab": {},
    "colab_type": "code",
    "id": "Sz1g0PQVpyON"
   },
   "outputs": [
    {
     "name": "stdout",
     "output_type": "stream",
     "text": [
      "Help on method_descriptor:\n",
      "\n",
      "isnumeric(self, /)\n",
      "    Return True if the string is a numeric string, False otherwise.\n",
      "    \n",
      "    A string is numeric if all characters in the string are numeric and there is at\n",
      "    least one character in the string.\n",
      "\n"
     ]
    }
   ],
   "source": [
    "# MC\n",
    "\n",
    "help(str.isnumeric)"
   ]
  },
  {
   "cell_type": "markdown",
   "metadata": {
    "colab_type": "text",
    "id": "6P2vDEPCpyOP"
   },
   "source": [
    "We can now add this <font style=\"font-family:courier\" color=green><strong>if</strong></font>-<font style=\"font-family:courier\" color=green><strong>else</strong></font> statement to make it more robust."
   ]
  },
  {
   "cell_type": "code",
   "execution_count": 10,
   "metadata": {
    "colab": {},
    "colab_type": "code",
    "id": "6pNCzjtGpyOQ"
   },
   "outputs": [
    {
     "name": "stdin",
     "output_type": "stream",
     "text": [
      " Hello\n"
     ]
    },
    {
     "name": "stdout",
     "output_type": "stream",
     "text": [
      "Hello is not a valid round number!\n",
      "total: 0 x: Hello\n"
     ]
    },
    {
     "name": "stdin",
     "output_type": "stream",
     "text": [
      " 10\n"
     ]
    },
    {
     "name": "stdout",
     "output_type": "stream",
     "text": [
      "total: 10 x: 10\n"
     ]
    },
    {
     "name": "stdin",
     "output_type": "stream",
     "text": [
      " Bye\n"
     ]
    },
    {
     "name": "stdout",
     "output_type": "stream",
     "text": [
      "Bye is not a valid round number!\n",
      "total: 10 x: Bye\n"
     ]
    },
    {
     "name": "stdin",
     "output_type": "stream",
     "text": [
      " 50\n"
     ]
    },
    {
     "name": "stdout",
     "output_type": "stream",
     "text": [
      "total: 60 x: 50\n"
     ]
    }
   ],
   "source": [
    "## MC\n",
    "\n",
    "total = 0\n",
    "\n",
    "while total < 50:\n",
    "    x = input()\n",
    "    if x.isnumeric():\n",
    "        total += int(x)\n",
    "    else:\n",
    "        print(\"{} is not a valid round number!\".format(x))\n",
    "    print(\"total:\", total, \"x:\", x)"
   ]
  },
  {
   "cell_type": "markdown",
   "metadata": {
    "colab_type": "text",
    "id": "eWpazMdVpyOR"
   },
   "source": [
    "What did we do here?\n",
    "\n",
    "Variable `x` is a string. If that string is numeric it can be casted to an integer. Else, we <font style=\"font-family:courier\" color=green>print</font> that it is not a valid round number. "
   ]
  },
  {
   "cell_type": "markdown",
   "metadata": {
    "colab_type": "text",
    "id": "pG-D-DcapyOS"
   },
   "source": [
    "### Range\n",
    "\n",
    "The <font style=\"font-family:courier\" color=green><strong>for</strong></font> loop is used often in combination with <font style=\"font-family:courier\"><font color=green>range</font>()</font>. Let's have a look."
   ]
  },
  {
   "cell_type": "code",
   "execution_count": 11,
   "metadata": {
    "colab": {},
    "colab_type": "code",
    "id": "fVRcFM6lpyOT"
   },
   "outputs": [
    {
     "name": "stdout",
     "output_type": "stream",
     "text": [
      "Help on class range in module builtins:\n",
      "\n",
      "class range(object)\n",
      " |  range(stop) -> range object\n",
      " |  range(start, stop[, step]) -> range object\n",
      " |  \n",
      " |  Return an object that produces a sequence of integers from start (inclusive)\n",
      " |  to stop (exclusive) by step.  range(i, j) produces i, i+1, i+2, ..., j-1.\n",
      " |  start defaults to 0, and stop is omitted!  range(4) produces 0, 1, 2, 3.\n",
      " |  These are exactly the valid indices for a list of 4 elements.\n",
      " |  When step is given, it specifies the increment (or decrement).\n",
      " |  \n",
      " |  Methods defined here:\n",
      " |  \n",
      " |  __bool__(self, /)\n",
      " |      self != 0\n",
      " |  \n",
      " |  __contains__(self, key, /)\n",
      " |      Return key in self.\n",
      " |  \n",
      " |  __eq__(self, value, /)\n",
      " |      Return self==value.\n",
      " |  \n",
      " |  __ge__(self, value, /)\n",
      " |      Return self>=value.\n",
      " |  \n",
      " |  __getattribute__(self, name, /)\n",
      " |      Return getattr(self, name).\n",
      " |  \n",
      " |  __getitem__(self, key, /)\n",
      " |      Return self[key].\n",
      " |  \n",
      " |  __gt__(self, value, /)\n",
      " |      Return self>value.\n",
      " |  \n",
      " |  __hash__(self, /)\n",
      " |      Return hash(self).\n",
      " |  \n",
      " |  __iter__(self, /)\n",
      " |      Implement iter(self).\n",
      " |  \n",
      " |  __le__(self, value, /)\n",
      " |      Return self<=value.\n",
      " |  \n",
      " |  __len__(self, /)\n",
      " |      Return len(self).\n",
      " |  \n",
      " |  __lt__(self, value, /)\n",
      " |      Return self<value.\n",
      " |  \n",
      " |  __ne__(self, value, /)\n",
      " |      Return self!=value.\n",
      " |  \n",
      " |  __reduce__(...)\n",
      " |      Helper for pickle.\n",
      " |  \n",
      " |  __repr__(self, /)\n",
      " |      Return repr(self).\n",
      " |  \n",
      " |  __reversed__(...)\n",
      " |      Return a reverse iterator.\n",
      " |  \n",
      " |  count(...)\n",
      " |      rangeobject.count(value) -> integer -- return number of occurrences of value\n",
      " |  \n",
      " |  index(...)\n",
      " |      rangeobject.index(value) -> integer -- return index of value.\n",
      " |      Raise ValueError if the value is not present.\n",
      " |  \n",
      " |  ----------------------------------------------------------------------\n",
      " |  Static methods defined here:\n",
      " |  \n",
      " |  __new__(*args, **kwargs) from builtins.type\n",
      " |      Create and return a new object.  See help(type) for accurate signature.\n",
      " |  \n",
      " |  ----------------------------------------------------------------------\n",
      " |  Data descriptors defined here:\n",
      " |  \n",
      " |  start\n",
      " |  \n",
      " |  step\n",
      " |  \n",
      " |  stop\n",
      "\n"
     ]
    }
   ],
   "source": [
    "# MC\n",
    "\n",
    "help(range)"
   ]
  },
  {
   "cell_type": "code",
   "execution_count": 12,
   "metadata": {
    "colab": {},
    "colab_type": "code",
    "id": "KAxPJrcdpyOV"
   },
   "outputs": [
    {
     "data": {
      "text/plain": [
       "range(0, 5)"
      ]
     },
     "execution_count": 12,
     "metadata": {},
     "output_type": "execute_result"
    }
   ],
   "source": [
    "# MC\n",
    "\n",
    "range(5)"
   ]
  },
  {
   "cell_type": "code",
   "execution_count": 13,
   "metadata": {
    "colab": {},
    "colab_type": "code",
    "id": "QsrRayQupyOX"
   },
   "outputs": [
    {
     "name": "stdout",
     "output_type": "stream",
     "text": [
      "0\n",
      "1\n",
      "2\n",
      "3\n",
      "4\n"
     ]
    }
   ],
   "source": [
    "# MC\n",
    "\n",
    "for i in range(5):\n",
    "    print(i)"
   ]
  },
  {
   "cell_type": "code",
   "execution_count": 14,
   "metadata": {
    "colab": {},
    "colab_type": "code",
    "id": "XX0RH9zwpyOY"
   },
   "outputs": [
    {
     "name": "stdout",
     "output_type": "stream",
     "text": [
      "0\n",
      "2\n",
      "4\n",
      "6\n",
      "8\n",
      "10\n"
     ]
    }
   ],
   "source": [
    "# MC\n",
    "\n",
    "for i in range(0, 11, 2):\n",
    "    print(i)"
   ]
  },
  {
   "cell_type": "markdown",
   "metadata": {
    "colab_type": "text",
    "id": "IQUJHtGIpyOa"
   },
   "source": [
    "### Enumerate\n",
    "\n",
    "Sometimes you want to loop over a list of items and also use the index numbers. For this we can use the <font style=\"font-family:courier\" color=green>enumerate</font> function."
   ]
  },
  {
   "cell_type": "code",
   "execution_count": 16,
   "metadata": {
    "colab": {},
    "colab_type": "code",
    "id": "14Kq427HpyOb"
   },
   "outputs": [],
   "source": [
    "# MC\n",
    "\n",
    "items = [\"banana\", \"orange\", \"apple\"]"
   ]
  },
  {
   "cell_type": "code",
   "execution_count": 18,
   "metadata": {
    "colab": {},
    "colab_type": "code",
    "id": "kc8FpgkdpyOc"
   },
   "outputs": [
    {
     "data": {
      "text/plain": [
       "[(0, 'banana'), (1, 'orange'), (2, 'apple')]"
      ]
     },
     "execution_count": 18,
     "metadata": {},
     "output_type": "execute_result"
    }
   ],
   "source": [
    "# MC\n",
    "list(enumerate(items)) # list of tuples"
   ]
  },
  {
   "cell_type": "code",
   "execution_count": 27,
   "metadata": {
    "colab": {},
    "colab_type": "code",
    "id": "CTW9ZxZ-pyOe"
   },
   "outputs": [
    {
     "data": {
      "text/plain": [
       "{1: 'banana', 2: 'orange', 3: 'apple'}"
      ]
     },
     "execution_count": 27,
     "metadata": {},
     "output_type": "execute_result"
    }
   ],
   "source": [
    "# MC\n",
    "a = enumerate(items, start=1)\n",
    "# list(a)\n",
    "dict(a)"
   ]
  },
  {
   "cell_type": "code",
   "execution_count": 4,
   "metadata": {
    "colab": {},
    "colab_type": "code",
    "id": "IUFBUXBWpyOg"
   },
   "outputs": [
    {
     "name": "stdout",
     "output_type": "stream",
     "text": [
      "1 banana\n",
      "2 orange\n",
      "3 apple\n"
     ]
    }
   ],
   "source": [
    "# MC\n",
    "\n",
    "for i, item in enumerate(items, start=1):\n",
    "    print(i, item)"
   ]
  },
  {
   "cell_type": "markdown",
   "metadata": {
    "colab_type": "text",
    "id": "a7gniGMGpyOh"
   },
   "source": [
    "### Casting"
   ]
  },
  {
   "cell_type": "markdown",
   "metadata": {
    "colab_type": "text",
    "id": "crzUk894pyOi"
   },
   "source": [
    "We casted a <font style=\"font-family:courier\" color=green>str</font> to an <font style=\"font-family:courier\" color=green>int</font>. We can do this for any of <font style=\"font-family:courier\" color=green>type</font>s. If the obj is not castable then we will get an <font style=\"font-family:courier\" color=red>Exception</font>.\n",
    "\n",
    "***Question:*** Which of these conversions will work?"
   ]
  },
  {
   "cell_type": "code",
   "execution_count": 20,
   "metadata": {
    "colab": {},
    "colab_type": "code",
    "id": "vMlrFkIxpyOi"
   },
   "outputs": [
    {
     "data": {
      "text/plain": [
       "'True'"
      ]
     },
     "execution_count": 20,
     "metadata": {},
     "output_type": "execute_result"
    }
   ],
   "source": [
    "# MC\n",
    "\n",
    "str(True)"
   ]
  },
  {
   "cell_type": "code",
   "execution_count": 21,
   "metadata": {
    "colab": {},
    "colab_type": "code",
    "id": "Kl9zKekzpyOk"
   },
   "outputs": [
    {
     "data": {
      "text/plain": [
       "10"
      ]
     },
     "execution_count": 21,
     "metadata": {},
     "output_type": "execute_result"
    }
   ],
   "source": [
    "# MC\n",
    "\n",
    "int(\"10\")"
   ]
  },
  {
   "cell_type": "code",
   "execution_count": 22,
   "metadata": {
    "colab": {},
    "colab_type": "code",
    "id": "vKNBF4QEpyOp"
   },
   "outputs": [
    {
     "data": {
      "text/plain": [
       "10.0"
      ]
     },
     "execution_count": 22,
     "metadata": {},
     "output_type": "execute_result"
    }
   ],
   "source": [
    "# MC\n",
    "\n",
    "float(\"10.0\")"
   ]
  },
  {
   "cell_type": "code",
   "execution_count": 23,
   "metadata": {
    "colab": {},
    "colab_type": "code",
    "id": "l2uUWOmapyOr"
   },
   "outputs": [
    {
     "data": {
      "text/plain": [
       "(1, 2, 3)"
      ]
     },
     "execution_count": 23,
     "metadata": {},
     "output_type": "execute_result"
    }
   ],
   "source": [
    "# MC\n",
    "\n",
    "tuple([1,2,3])"
   ]
  },
  {
   "cell_type": "code",
   "execution_count": 24,
   "metadata": {
    "colab": {},
    "colab_type": "code",
    "id": "saPHAJDZpyOt"
   },
   "outputs": [
    {
     "data": {
      "text/plain": [
       "[1, 2, 3]"
      ]
     },
     "execution_count": 24,
     "metadata": {},
     "output_type": "execute_result"
    }
   ],
   "source": [
    "# MC\n",
    "\n",
    "list((1,2,3))"
   ]
  },
  {
   "cell_type": "code",
   "execution_count": 25,
   "metadata": {
    "colab": {},
    "colab_type": "code",
    "id": "HJ4TYuJxpyOu"
   },
   "outputs": [
    {
     "ename": "TypeError",
     "evalue": "cannot convert dictionary update sequence element #0 to a sequence",
     "output_type": "error",
     "traceback": [
      "\u001b[0;31m---------------------------------------------------------------------------\u001b[0m",
      "\u001b[0;31mTypeError\u001b[0m                                 Traceback (most recent call last)",
      "\u001b[0;32m<ipython-input-25-3209d6bd107e>\u001b[0m in \u001b[0;36m<module>\u001b[0;34m\u001b[0m\n\u001b[1;32m      1\u001b[0m \u001b[0;31m# MC\u001b[0m\u001b[0;34m\u001b[0m\u001b[0;34m\u001b[0m\u001b[0;34m\u001b[0m\u001b[0m\n\u001b[1;32m      2\u001b[0m \u001b[0;34m\u001b[0m\u001b[0m\n\u001b[0;32m----> 3\u001b[0;31m \u001b[0mdict\u001b[0m\u001b[0;34m(\u001b[0m\u001b[0;34m[\u001b[0m\u001b[0;36m1\u001b[0m\u001b[0;34m,\u001b[0m\u001b[0;36m2\u001b[0m\u001b[0;34m,\u001b[0m\u001b[0;36m3\u001b[0m\u001b[0;34m]\u001b[0m\u001b[0;34m)\u001b[0m\u001b[0;34m\u001b[0m\u001b[0;34m\u001b[0m\u001b[0m\n\u001b[0m",
      "\u001b[0;31mTypeError\u001b[0m: cannot convert dictionary update sequence element #0 to a sequence"
     ]
    }
   ],
   "source": [
    "# MC\n",
    "\n",
    "dict([1,2,3])"
   ]
  },
  {
   "cell_type": "code",
   "execution_count": 26,
   "metadata": {
    "colab": {},
    "colab_type": "code",
    "id": "QjI0GUzlpyOw"
   },
   "outputs": [
    {
     "data": {
      "text/plain": [
       "{'a': 1, 'b': 2}"
      ]
     },
     "execution_count": 26,
     "metadata": {},
     "output_type": "execute_result"
    }
   ],
   "source": [
    "# MC\n",
    "\n",
    "dict([('a', 1), ('b', 2)])"
   ]
  },
  {
   "cell_type": "markdown",
   "metadata": {
    "colab_type": "text",
    "id": "r8cFLi1RpyOy"
   },
   "source": [
    "### Dunder methods\n",
    "\n",
    "So what's with all the '<font style=\"font-family:courier\">\\_\\_blah\\_\\_<font style=\"font-family:courier\">'?\n",
    "\n",
    "Object methods with two underscores are called \"dunder methods\". This stands for double underscore. These tell Python what to do in certain operations, for example <font style=\"font-family:courier\" color=green>\\_\\_eq\\_\\_</font> is a function to compare with another object and <font style=\"font-family:courier\" color=green>\\_\\_add\\_\\_</font> handles the <font style=\"font-family:courier\" color=purple><strong>+</strong></font> operation under the hood."
   ]
  },
  {
   "cell_type": "code",
   "execution_count": 28,
   "metadata": {
    "colab": {},
    "colab_type": "code",
    "id": "2J_HYFIepyOy"
   },
   "outputs": [
    {
     "data": {
      "text/plain": [
       "['__add__',\n",
       " '__class__',\n",
       " '__contains__',\n",
       " '__delattr__',\n",
       " '__delitem__',\n",
       " '__dir__',\n",
       " '__doc__',\n",
       " '__eq__',\n",
       " '__format__',\n",
       " '__ge__',\n",
       " '__getattribute__',\n",
       " '__getitem__',\n",
       " '__gt__',\n",
       " '__hash__',\n",
       " '__iadd__',\n",
       " '__imul__',\n",
       " '__init__',\n",
       " '__init_subclass__',\n",
       " '__iter__',\n",
       " '__le__',\n",
       " '__len__',\n",
       " '__lt__',\n",
       " '__mul__',\n",
       " '__ne__',\n",
       " '__new__',\n",
       " '__reduce__',\n",
       " '__reduce_ex__',\n",
       " '__repr__',\n",
       " '__reversed__',\n",
       " '__rmul__',\n",
       " '__setattr__',\n",
       " '__setitem__',\n",
       " '__sizeof__',\n",
       " '__str__',\n",
       " '__subclasshook__',\n",
       " 'append',\n",
       " 'clear',\n",
       " 'copy',\n",
       " 'count',\n",
       " 'extend',\n",
       " 'index',\n",
       " 'insert',\n",
       " 'pop',\n",
       " 'remove',\n",
       " 'reverse',\n",
       " 'sort']"
      ]
     },
     "execution_count": 28,
     "metadata": {},
     "output_type": "execute_result"
    }
   ],
   "source": [
    "# MC\n",
    "\n",
    "dir(list)"
   ]
  },
  {
   "cell_type": "markdown",
   "metadata": {
    "colab_type": "text",
    "id": "AmlqdLiNpyO0"
   },
   "source": [
    "We can get help on these methods as well."
   ]
  },
  {
   "cell_type": "code",
   "execution_count": 30,
   "metadata": {},
   "outputs": [
    {
     "data": {
      "text/plain": [
       "True"
      ]
     },
     "execution_count": 30,
     "metadata": {},
     "output_type": "execute_result"
    }
   ],
   "source": [
    "a = [1,2,3]\n",
    "b = [1,2,3]\n",
    "\n",
    "a.__eq__(b)"
   ]
  },
  {
   "cell_type": "code",
   "execution_count": 32,
   "metadata": {
    "colab": {},
    "colab_type": "code",
    "id": "lKaz8Q-RpyO0"
   },
   "outputs": [
    {
     "name": "stdout",
     "output_type": "stream",
     "text": [
      "Help on wrapper_descriptor:\n",
      "\n",
      "__mul__(self, value, /)\n",
      "    Return self*value.\n",
      "\n"
     ]
    }
   ],
   "source": [
    "# MC\n",
    "\n",
    "help(list.__mul__)"
   ]
  },
  {
   "cell_type": "code",
   "execution_count": 34,
   "metadata": {
    "colab": {},
    "colab_type": "code",
    "id": "EuwrMFKJpyO1"
   },
   "outputs": [
    {
     "data": {
      "text/plain": [
       "[1, 2, 3, 1, 2, 3, 1, 2, 3, 1, 2, 3, 1, 2, 3]"
      ]
     },
     "execution_count": 34,
     "metadata": {},
     "output_type": "execute_result"
    }
   ],
   "source": [
    "# MC\n",
    "\n",
    "list_1 = [1,2,3]\n",
    "list_2 = [4,5,6]\n",
    "\n",
    "list3 = list_1 * 5\n",
    "list3"
   ]
  },
  {
   "cell_type": "code",
   "execution_count": 4,
   "metadata": {
    "colab": {},
    "colab_type": "code",
    "id": "varG7TZ4pyO3"
   },
   "outputs": [
    {
     "data": {
      "text/plain": [
       "[1, 2, 3, 4, 5, 6]"
      ]
     },
     "execution_count": 4,
     "metadata": {},
     "output_type": "execute_result"
    }
   ],
   "source": [
    "# MC\n",
    "\n",
    "list_1.__add__(list_2)"
   ]
  },
  {
   "cell_type": "markdown",
   "metadata": {
    "colab_type": "text",
    "id": "fj5BpO9YpyO4"
   },
   "source": [
    "So dunder method <font style=\"font-family:courier\" color=green>\\_\\_add\\_\\_</font> implements what happens when the <font style=\"font-family:courier\" color=purple><strong>+</strong></font> operator is applied."
   ]
  },
  {
   "cell_type": "markdown",
   "metadata": {
    "colab_type": "text",
    "id": "od68p2nBpyO5"
   },
   "source": [
    "### Summary - More on loops"
   ]
  },
  {
   "cell_type": "markdown",
   "metadata": {
    "colab_type": "text",
    "id": "m04eEOi6pyO6"
   },
   "source": [
    "> #### while\n",
    "A <font style=\"font-family:courier\" color=green><strong>while</strong></font> loop statement in Python programming language repeatedly executes a target statement as long as a given condition is <font style=\"font-family:courier\" color=green><strong>True</strong></font>.\n",
    "```python\n",
    "while i < 5:\n",
    "    i+=1\n",
    "    print(i)\n",
    "```"
   ]
  },
  {
   "cell_type": "markdown",
   "metadata": {
    "colab_type": "text",
    "id": "07ds1GyQpyO6"
   },
   "source": [
    "> #### range\n",
    "A sequence of integers from start (inclusive) to stop (exclusive) by step.\n",
    "```python\n",
    "range(5)\n",
    "range(1,6)\n",
    "range(0,11,2)\n",
    "for i in range(5):\n",
    "    print(i)\n",
    "```\n"
   ]
  },
  {
   "cell_type": "markdown",
   "metadata": {
    "colab_type": "text",
    "id": "_XjnkkLTpyO7"
   },
   "source": [
    "> #### enumerate\n",
    "Returns a <font style=\"font-family:courier\" color=green>tuple</font> containing a count (default `start`s with <font style=\"font-family:courier\" color=green>0</font>) and the values obtained from iterating over iterable.\n",
    "```python\n",
    "items = ['orange','apple','mango']\n",
    "enumerate(items)\n",
    "for i,item in enumerate(items):\n",
    "    print(i,item)\n",
    "```"
   ]
  },
  {
   "cell_type": "markdown",
   "metadata": {
    "colab_type": "text",
    "id": "ODJq3hzVpyO7"
   },
   "source": [
    "> #### casting\n",
    "Specify a <font style=\"font-family:courier\" color=green>type</font> on to a variable.\n",
    "```python\n",
    "int(\"10\")\n",
    "float(\"10.2\")\n",
    "dict([('a',1), ('b', 2)])\n",
    "```"
   ]
  },
  {
   "cell_type": "markdown",
   "metadata": {
    "colab_type": "text",
    "id": "EBltvL5ApyO8"
   },
   "source": [
    "> #### dunder methods\n",
    "Double underscore methods. This is how Python operations as <font style=\"font-family:courier\" color=purple><strong>+</strong></font> and <font style=\"font-family:courier\" color=purple><strong>==</strong></font> or implemented for the object.\n",
    "```python\n",
    "str.__add__\n",
    "str.__eq__\n",
    "```"
   ]
  },
  {
   "cell_type": "markdown",
   "metadata": {
    "colab_type": "text",
    "id": "WpGI2WjPpyO8",
    "toc-hr-collapsed": false
   },
   "source": [
    "## List operations\n",
    "\n",
    "The <font style=\"font-family:courier\" color=green>list</font> is a very power object with many functionalities. \n",
    "\n",
    "Here is an overview of the most important functionality.\n",
    "\n",
    "- <font style=\"font-family:courier\"><font color=green>len</font>(`dict` or `list`)</font> – Gives the total length of the dictionary or list. This would be equal to the number of items in the dictionary or list.\n",
    "- <font style=\"font-family:courier\"><font color=green>list</font>.clear()</font> – Removes all elements of the list\n",
    "- <font style=\"font-family:courier\"><font color=green>list</font>.copy()</font> – Returns a shallow copy of the list\n",
    "- <font style=\"font-family:courier\"><font color=green>list</font>.append(`element`)</font> – adds a single element to the end of the list. Common error: does not <font style=\"font-family:courier\" color=green><strong>return</strong></font> the new list, just modifies the original.\n",
    "- <font style=\"font-family:courier\"><font color=green>list</font>.insert(`index`, `element`)</font> – inserts the element at the given index, shifting elements to the right.\n",
    "- <font style=\"font-family:courier\"><font color=green>list</font>.extend(`list2`)</font> adds the elements in `list2` to the end of the list. Using <font style=\"font-family:courier\" color=purple><strong>+</strong></font> or <font style=\"font-family:courier\" color=purple><strong>+=</strong></font> on a list is similar to using <font style=\"font-family:courier\">extend()</font>.\n",
    "- <font style=\"font-family:courier\"><font color=green>list</font>.index(`element`)</font> – searches for the given element from the start of the list and <font style=\"font-family:courier\" color=green><strong>return</strong></font>s its index. Throws a <font style=\"font-family:courier\" color=red>ValueError</font> if the element does not appear (use <font style=\"font-family:courier\" color=green><strong>in</strong></font> to check without a <font style=\"font-family:courier\" color=red>ValueError</font>).\n",
    "- `item` in `list` – check if the item is in the list\n",
    "- <font style=\"font-family:courier\"><font color=green>list</font>.remove(`element`)</font> – searches for the first instance of the given element and removes it (throws <font style=\"font-family:courier\" color=red>ValueError</font> if not present)\n",
    "- <font style=\"font-family:courier\"><font color=green>list</font>.sort()</font> – sorts the list in place (does not <font style=\"font-family:courier\" color=green><strong>return</strong></font> it).\n",
    "- <font style=\"font-family:courier\" color=green>sorted(`list`)</font> – <font style=\"font-family:courier\" color=green><strong>return</strong></font> sorted list but keeps the original order of the list\n",
    "- <font style=\"font-family:courier\"><font color=green>list</font>.reverse()</font> – reverses the list in place (does not <font style=\"font-family:courier\" color=green><strong>return</strong></font> it)\n",
    "- <font style=\"font-family:courier\"><font color=green>list</font>.pop(`index`)</font> – removes and <font style=\"font-family:courier\" color=green><strong>return</strong></font>s the element at the given index. <font style=\"font-family:courier\" color=green><strong>returns</strong></font> the rightmost element if index is omitted (roughly the opposite of <font style=\"font-family:courier\">append()</font>).\n",
    "\n",
    "This is to give a overview, so that you know of the existence of these functionalities. <br>Do you need to learn these by heart? __*No*__. Because you can always look it up using <font style=\"font-family:courier\"><font color=green>help</font>()</font> or <font style=\"font-family:courier\"><font color=green>dir</font>()</font> or the online python documentation."
   ]
  },
  {
   "cell_type": "markdown",
   "metadata": {
    "colab_type": "text",
    "id": "EWf0JuO9pyO9"
   },
   "source": [
    "Let's go through these functionalities. \n",
    "\n",
    "Create a list, show the size, clear it"
   ]
  },
  {
   "cell_type": "code",
   "execution_count": 35,
   "metadata": {
    "colab": {},
    "colab_type": "code",
    "id": "nbCB4mIopyO9"
   },
   "outputs": [
    {
     "data": {
      "text/plain": [
       "[1, 2, 3, 4]"
      ]
     },
     "execution_count": 35,
     "metadata": {},
     "output_type": "execute_result"
    }
   ],
   "source": [
    "# MC\n",
    "\n",
    "numbers = [1,2,3,4]\n",
    "numbers"
   ]
  },
  {
   "cell_type": "code",
   "execution_count": 36,
   "metadata": {
    "colab": {},
    "colab_type": "code",
    "id": "fl3GDhkCpyO-"
   },
   "outputs": [
    {
     "data": {
      "text/plain": [
       "4"
      ]
     },
     "execution_count": 36,
     "metadata": {},
     "output_type": "execute_result"
    }
   ],
   "source": [
    "# MC\n",
    "\n",
    "len(numbers)"
   ]
  },
  {
   "cell_type": "code",
   "execution_count": 37,
   "metadata": {
    "colab": {},
    "colab_type": "code",
    "id": "3ydo2q22pyPA"
   },
   "outputs": [
    {
     "data": {
      "text/plain": [
       "[]"
      ]
     },
     "execution_count": 37,
     "metadata": {},
     "output_type": "execute_result"
    }
   ],
   "source": [
    "# MC\n",
    "\n",
    "numbers.clear()\n",
    "numbers"
   ]
  },
  {
   "cell_type": "markdown",
   "metadata": {
    "colab_type": "text",
    "id": "V85AojSzpyPC"
   },
   "source": [
    "You can use the <font style=\"font-family:courier\"><font color=green>list</font>.copy()</font> method when you want to copy the list and make a new object out of it."
   ]
  },
  {
   "cell_type": "code",
   "execution_count": 38,
   "metadata": {
    "colab": {},
    "colab_type": "code",
    "id": "5ltwGMohpyPC"
   },
   "outputs": [],
   "source": [
    "# MC\n",
    "\n",
    "numbers = [1,2,3,4]\n",
    "numbers_2 = numbers\n",
    "numbers_3 = numbers.copy()"
   ]
  },
  {
   "cell_type": "code",
   "execution_count": 39,
   "metadata": {
    "colab": {},
    "colab_type": "code",
    "id": "5ltwGMohpyPC"
   },
   "outputs": [
    {
     "name": "stdout",
     "output_type": "stream",
     "text": [
      "140483416693408 4453610640\n",
      "140483416693408 4453610640\n",
      "140482749295184 4453610640\n"
     ]
    }
   ],
   "source": [
    "print(id(numbers), id(numbers[0]))\n",
    "print(id(numbers_2), id(numbers_2[0]))\n",
    "print(id(numbers_3), id(numbers_3[0]))"
   ]
  },
  {
   "cell_type": "markdown",
   "metadata": {
    "colab_type": "text",
    "id": "wiObGSZfpyPE"
   },
   "source": [
    "Append an item at the end."
   ]
  },
  {
   "cell_type": "code",
   "execution_count": 40,
   "metadata": {
    "colab": {},
    "colab_type": "code",
    "id": "1VgnKdyLpyPF"
   },
   "outputs": [],
   "source": [
    "# MC\n",
    "\n",
    "numbers.append(5)"
   ]
  },
  {
   "cell_type": "markdown",
   "metadata": {
    "colab_type": "text",
    "id": "bBLZuIAzpyPH"
   },
   "source": [
    "Notice this doesn't <font style=\"font-family:courier\" color=green><strong>return</strong></font> a object. This is an **in-place** operation. The original object is changed. Now <font style=\"font-family:courier\" color=green>5</font> is added to the list. Let's see what happened to variable `numbers_2` and variable `numbers_3`."
   ]
  },
  {
   "cell_type": "code",
   "execution_count": 41,
   "metadata": {
    "colab": {},
    "colab_type": "code",
    "id": "MeZn7ejApyPI"
   },
   "outputs": [
    {
     "name": "stdout",
     "output_type": "stream",
     "text": [
      "[1, 2, 3, 4, 5]\n",
      "[1, 2, 3, 4, 5]\n",
      "[1, 2, 3, 4]\n"
     ]
    }
   ],
   "source": [
    "# MC\n",
    "\n",
    "print(numbers)\n",
    "print(numbers_2)\n",
    "print(numbers_3)"
   ]
  },
  {
   "cell_type": "code",
   "execution_count": 17,
   "metadata": {
    "colab": {},
    "colab_type": "code",
    "id": "MeZn7ejApyPI"
   },
   "outputs": [
    {
     "name": "stdout",
     "output_type": "stream",
     "text": [
      "140628103166704\n",
      "140628103166704\n",
      "140628103165264\n"
     ]
    }
   ],
   "source": [
    "print(id(numbers))\n",
    "print(id(numbers_2))\n",
    "print(id(numbers_3))"
   ]
  },
  {
   "cell_type": "markdown",
   "metadata": {
    "colab_type": "text",
    "id": "6_oxqXvbpyPJ"
   },
   "source": [
    "**Be careful not to assign an <u>in-place</u> operation to a variable.**"
   ]
  },
  {
   "cell_type": "code",
   "execution_count": 42,
   "metadata": {
    "colab": {},
    "colab_type": "code",
    "id": "NnW9mIaQpyPJ"
   },
   "outputs": [
    {
     "name": "stdout",
     "output_type": "stream",
     "text": [
      "numbers [1, 2, 3, 4, 5, 6]\n",
      "new_numbers None\n"
     ]
    }
   ],
   "source": [
    "# MC\n",
    "## wrong way\n",
    "\n",
    "new_numbers = numbers.append(6)\n",
    "\n",
    "print(\"numbers\", numbers)\n",
    "print(\"new_numbers\", new_numbers)"
   ]
  },
  {
   "cell_type": "markdown",
   "metadata": {
    "colab_type": "text",
    "id": "W4-k7cuFpyPL"
   },
   "source": [
    "Notice that the value of `new_numbers` is <font style=\"font-family:courier\" color=green><strong>None</strong></font>. This is what happens when you assign an in-place operation to a variable."
   ]
  },
  {
   "cell_type": "code",
   "execution_count": 43,
   "metadata": {},
   "outputs": [
    {
     "name": "stdout",
     "output_type": "stream",
     "text": [
      "numbers [1, 2, 3, 4, 5, 6, 6]\n",
      "new_numbers [1, 2, 3, 4, 5, 6, 6]\n"
     ]
    }
   ],
   "source": [
    "# MC\n",
    "## correct way\n",
    "\n",
    "numbers.append(6)\n",
    "new_numbers = numbers\n",
    "\n",
    "print(\"numbers\", numbers)\n",
    "print(\"new_numbers\", new_numbers)"
   ]
  },
  {
   "cell_type": "markdown",
   "metadata": {
    "colab_type": "text",
    "id": "W4-k7cuFpyPL"
   },
   "source": [
    "We can also insert an item anywhere in the list. This is also an **in-place** operation."
   ]
  },
  {
   "cell_type": "code",
   "execution_count": 45,
   "metadata": {},
   "outputs": [
    {
     "data": {
      "text/plain": [
       "[1, 2, 3, 4, 5, 6, 6]"
      ]
     },
     "execution_count": 45,
     "metadata": {},
     "output_type": "execute_result"
    }
   ],
   "source": [
    "numbers"
   ]
  },
  {
   "cell_type": "code",
   "execution_count": 47,
   "metadata": {
    "colab": {},
    "colab_type": "code",
    "id": "ZmahI_SDpyPM"
   },
   "outputs": [
    {
     "data": {
      "text/plain": [
       "[1, 2, 100, 100, 3, 4, 5, 6, 6]"
      ]
     },
     "execution_count": 47,
     "metadata": {},
     "output_type": "execute_result"
    }
   ],
   "source": [
    "# MC\n",
    "\n",
    "numbers.insert(2, 100) # insert at index = 2\n",
    "numbers"
   ]
  },
  {
   "cell_type": "markdown",
   "metadata": {
    "colab_type": "text",
    "id": "lp4EgUeJpyPP"
   },
   "source": [
    "We can also extend a list with another list. Notice this in an in-place operation."
   ]
  },
  {
   "cell_type": "code",
   "execution_count": 48,
   "metadata": {
    "colab": {},
    "colab_type": "code",
    "id": "bq5odcampyPQ"
   },
   "outputs": [
    {
     "data": {
      "text/plain": [
       "[1, 2, 100, 100, 3, 4, 5, 6, 6, 10, 20, 30]"
      ]
     },
     "execution_count": 48,
     "metadata": {},
     "output_type": "execute_result"
    }
   ],
   "source": [
    "# MC\n",
    "\n",
    "numbers.extend([10, 20, 30])\n",
    "numbers"
   ]
  },
  {
   "cell_type": "markdown",
   "metadata": {
    "colab_type": "text",
    "id": "mr_mumQVpyPR"
   },
   "source": [
    "We can add two lists with the <font style=\"font-family:courier\" color=purple><strong>+</strong></font> operator."
   ]
  },
  {
   "cell_type": "code",
   "execution_count": 49,
   "metadata": {
    "colab": {},
    "colab_type": "code",
    "id": "025YfIW9pyPR"
   },
   "outputs": [
    {
     "data": {
      "text/plain": [
       "[1, 2, 3, 4, 5, 6]"
      ]
     },
     "execution_count": 49,
     "metadata": {},
     "output_type": "execute_result"
    }
   ],
   "source": [
    "# MC\n",
    "\n",
    "[1,2,3] + [4,5,6]"
   ]
  },
  {
   "cell_type": "code",
   "execution_count": 50,
   "metadata": {},
   "outputs": [
    {
     "data": {
      "text/plain": [
       "[1, 2, 100, 100, 3, 4, 5, 6, 6, 10, 20, 30, [10, 20, 30]]"
      ]
     },
     "execution_count": 50,
     "metadata": {},
     "output_type": "execute_result"
    }
   ],
   "source": [
    "# MC \n",
    "\n",
    "numbers.append([10, 20, 30])\n",
    "numbers"
   ]
  },
  {
   "cell_type": "markdown",
   "metadata": {
    "colab_type": "text",
    "id": "lKuBlcU6pyPT"
   },
   "source": [
    "We can get the index of the first occurence of an item."
   ]
  },
  {
   "cell_type": "code",
   "execution_count": 53,
   "metadata": {
    "colab": {},
    "colab_type": "code",
    "id": "Rb7MCvf_pyPU"
   },
   "outputs": [
    {
     "data": {
      "text/plain": [
       "9"
      ]
     },
     "execution_count": 53,
     "metadata": {},
     "output_type": "execute_result"
    }
   ],
   "source": [
    "# MC\n",
    "\n",
    "numbers.index(10)"
   ]
  },
  {
   "cell_type": "markdown",
   "metadata": {
    "colab_type": "text",
    "id": "wnomiWSzpyPW"
   },
   "source": [
    "And then get the list until the <font style=\"font-family:courier\" color=green>10</font> value."
   ]
  },
  {
   "cell_type": "code",
   "execution_count": 54,
   "metadata": {
    "colab": {},
    "colab_type": "code",
    "id": "Q4tm8ZPBpyPW"
   },
   "outputs": [
    {
     "name": "stdout",
     "output_type": "stream",
     "text": [
      "[1, 2, 100, 100, 3, 4, 5, 6, 6, 10, 20, 30, [10, 20, 30]]\n",
      "[1, 2, 100, 100, 3, 4, 5, 6, 6]\n"
     ]
    }
   ],
   "source": [
    "# MC\n",
    "\n",
    "print(numbers)\n",
    "print(numbers[0:numbers.index(10)])"
   ]
  },
  {
   "cell_type": "markdown",
   "metadata": {
    "colab_type": "text",
    "id": "ZmKwXosApyPY"
   },
   "source": [
    "Check if the list `numbers` holds <font style=\"font-family:courier\" color=green>200</font>."
   ]
  },
  {
   "cell_type": "code",
   "execution_count": 55,
   "metadata": {
    "colab": {},
    "colab_type": "code",
    "id": "02RloAmIpyPY"
   },
   "outputs": [
    {
     "data": {
      "text/plain": [
       "False"
      ]
     },
     "execution_count": 55,
     "metadata": {},
     "output_type": "execute_result"
    }
   ],
   "source": [
    "# MC\n",
    "\n",
    "200 in numbers"
   ]
  },
  {
   "cell_type": "markdown",
   "metadata": {
    "colab_type": "text",
    "id": "gI4qolRSpyPa"
   },
   "source": [
    "We can remove an item. It will remove the first occurence of that item."
   ]
  },
  {
   "cell_type": "code",
   "execution_count": 56,
   "metadata": {
    "colab": {},
    "colab_type": "code",
    "id": "oe1fA3wXpyPb"
   },
   "outputs": [
    {
     "name": "stdout",
     "output_type": "stream",
     "text": [
      "[1, 2, 100, 100, 3, 4, 5, 6, 6, 10, 20, 30, [10, 20, 30]]\n",
      "[1, 2, 100, 100, 3, 4, 5, 6, 10, 20, 30, [10, 20, 30]]\n"
     ]
    }
   ],
   "source": [
    "# MC\n",
    "\n",
    "print(numbers)\n",
    "numbers.remove(6)\n",
    "print(numbers)"
   ]
  },
  {
   "cell_type": "markdown",
   "metadata": {
    "colab_type": "text",
    "id": "VqueURXapyPe"
   },
   "source": [
    "We can sort the list in-place."
   ]
  },
  {
   "cell_type": "code",
   "execution_count": 58,
   "metadata": {
    "colab": {},
    "colab_type": "code",
    "id": "4YmClxnPpyPf"
   },
   "outputs": [
    {
     "name": "stdout",
     "output_type": "stream",
     "text": [
      "[1, 2, 200, 5]\n",
      "[1, 2, 5, 200]\n"
     ]
    }
   ],
   "source": [
    "# MC\n",
    "\n",
    "numbers = [1, 2, 200, 5]\n",
    "print(numbers)\n",
    "numbers.sort()\n",
    "print(numbers)"
   ]
  },
  {
   "cell_type": "markdown",
   "metadata": {
    "colab_type": "text",
    "id": "a5jysyNNpyPk"
   },
   "source": [
    "We can also sort reversed by adding keyword argument <font style=\"font-family:courier\">reverse <strong><font color=purple>=</font> <font color=green>True</font></strong></font>. The <font style=\"font-family:courier\"><font color=green>sorted</font>()</font> built-in function returns a sorted list but it does not affect the original."
   ]
  },
  {
   "cell_type": "code",
   "execution_count": 59,
   "metadata": {
    "colab": {},
    "colab_type": "code",
    "id": "61XlO8W6pyPk"
   },
   "outputs": [
    {
     "name": "stdout",
     "output_type": "stream",
     "text": [
      "[200, 5, 2, 1]\n"
     ]
    },
    {
     "data": {
      "text/plain": [
       "[1, 2, 5, 200]"
      ]
     },
     "execution_count": 59,
     "metadata": {},
     "output_type": "execute_result"
    }
   ],
   "source": [
    "# MC\n",
    "\n",
    "print(sorted(numbers, reverse=True))\n",
    "numbers"
   ]
  },
  {
   "cell_type": "markdown",
   "metadata": {
    "colab_type": "text",
    "id": "6Alvc1VFpyPn"
   },
   "source": [
    "We can reverse a list in place."
   ]
  },
  {
   "cell_type": "code",
   "execution_count": 60,
   "metadata": {
    "colab": {},
    "colab_type": "code",
    "id": "B_eE0uBSpyPn"
   },
   "outputs": [
    {
     "data": {
      "text/plain": [
       "[50, 60, 500, 20, 10]"
      ]
     },
     "execution_count": 60,
     "metadata": {},
     "output_type": "execute_result"
    }
   ],
   "source": [
    "# MC\n",
    "\n",
    "numbers = [10, 20, 500, 60, 50]\n",
    "numbers.reverse()\n",
    "numbers"
   ]
  },
  {
   "cell_type": "markdown",
   "metadata": {
    "colab_type": "text",
    "id": "A_yWQFbipyPq"
   },
   "source": [
    "The <font style=\"font-family:courier\">pop()</font> function returns the last items and removes it from the list."
   ]
  },
  {
   "cell_type": "code",
   "execution_count": 61,
   "metadata": {
    "colab": {},
    "colab_type": "code",
    "id": "qcZUfdxOpyPq"
   },
   "outputs": [
    {
     "name": "stdout",
     "output_type": "stream",
     "text": [
      "[50, 60, 500, 20] 10\n",
      "[50, 60, 500] 20\n",
      "[50, 60] 500\n",
      "[50] 60\n",
      "[] 50\n"
     ]
    }
   ],
   "source": [
    "# MC\n",
    "\n",
    "while numbers:\n",
    "    print(numbers, numbers.pop())"
   ]
  },
  {
   "cell_type": "markdown",
   "metadata": {
    "colab_type": "text",
    "id": "WbV9hby1pyPs"
   },
   "source": [
    "A <font style=\"font-family:courier\" color=green>list</font> can be casted to a <font style=\"font-family:courier\" color=green>bool</font>, which happens if a list is evaluated like here in the <font style=\"font-family:courier\" color=green><strong>while</strong></font> statement."
   ]
  },
  {
   "cell_type": "code",
   "execution_count": 62,
   "metadata": {
    "colab": {},
    "colab_type": "code",
    "id": "8w0xvOZYpyPs"
   },
   "outputs": [
    {
     "data": {
      "text/plain": [
       "True"
      ]
     },
     "execution_count": 62,
     "metadata": {},
     "output_type": "execute_result"
    }
   ],
   "source": [
    "# MC\n",
    "\n",
    "bool([1,2,3])"
   ]
  },
  {
   "cell_type": "code",
   "execution_count": 63,
   "metadata": {
    "colab": {},
    "colab_type": "code",
    "id": "mA2BqLyOpyPt"
   },
   "outputs": [
    {
     "data": {
      "text/plain": [
       "False"
      ]
     },
     "execution_count": 63,
     "metadata": {},
     "output_type": "execute_result"
    }
   ],
   "source": [
    "# MC\n",
    "\n",
    "bool([])\n",
    "\n",
    "## check whether list is not empty or list is empty"
   ]
  },
  {
   "cell_type": "code",
   "execution_count": 64,
   "metadata": {},
   "outputs": [
    {
     "name": "stdout",
     "output_type": "stream",
     "text": [
      "kit: ['medic', 'hotdog', 'soap', 555]\n",
      "\n",
      "I consumed 555\n",
      "I consumed soap\n",
      "I consumed hotdog\n",
      "I consumed medic\n",
      "\n",
      "kit: []\n"
     ]
    }
   ],
   "source": [
    "kit = ['medic', 'hotdog', 'soap', 555]\n",
    "\n",
    "print('kit:', kit, end = '\\n\\n')\n",
    "\n",
    "while kit: \n",
    "    print('I consumed', kit.pop())\n",
    "\n",
    "print('\\nkit:', kit)"
   ]
  },
  {
   "cell_type": "markdown",
   "metadata": {
    "colab_type": "text",
    "id": "ypx2mkp6pyPv",
    "toc-hr-collapsed": false
   },
   "source": [
    "### Summary - List operations"
   ]
  },
  {
   "cell_type": "markdown",
   "metadata": {
    "colab_type": "text",
    "id": "OURNwi66pyPw"
   },
   "source": [
    "> #### list operations\n",
    "The <font style=\"font-family:courier\" color=green>list</font> is a powerful object with many functionalities. The <font style=\"font-family:courier\" color=green>list</font> is a mutable object.\n",
    "```python\n",
    "numbers = []\n",
    "numbers = [1,2,3,4]\n",
    "numbers[0]\n",
    "numbers[0] == 100\n",
    "numbers.append(0)\n",
    "numbers.insert(1, 100) # insert at index 1\n",
    "numbers.extend([5,6,7])\n",
    "numbers.remove(5)\n",
    "numbers.copy()\n",
    "numbers.clear()\n",
    "numbers.index(5)\n",
    "numbers.sort()\n",
    "numbers.sort(reverse=True)\n",
    "item = numbers.pop()\n",
    "sorted(numbers, reverse=True)\n",
    "5 in numbers\n",
    "len(numbers)\n",
    "```"
   ]
  },
  {
   "cell_type": "markdown",
   "metadata": {
    "colab_type": "text",
    "id": "vk5DodHBpyPw",
    "toc-hr-collapsed": false
   },
   "source": [
    "### RUN ME\n",
    "\n",
    "Please run the below code snippet. It is required for running tests for your solution."
   ]
  },
  {
   "cell_type": "code",
   "execution_count": 65,
   "metadata": {},
   "outputs": [],
   "source": [
    "def test(got, expected):\n",
    "    if got == expected:\n",
    "        prefix = ' OK '\n",
    "    else:\n",
    "        prefix = '  FAIL '\n",
    "    print((f' {prefix} got: {got} expected: {expected}'))"
   ]
  },
  {
   "cell_type": "code",
   "execution_count": 66,
   "metadata": {
    "colab": {},
    "colab_type": "code",
    "id": "XMM7g9IupyPw"
   },
   "outputs": [],
   "source": [
    "def test(got, expected):\n",
    "    max_width_print = min([int(79/3), \n",
    "                           len(repr(got)) + 10, \n",
    "                           len(repr(expected)) + 10])\n",
    "    \n",
    "    if got == expected:\n",
    "        prefix = ' OK '.center(max_width_print, '=')\n",
    "    else:\n",
    "        prefix = ' FAIL '.center(max_width_print, '=')\n",
    "    print(('%s\\n     got: %s \\nexpected: %s' % (prefix, repr(got), repr(expected))), \n",
    "          end = '\\n\\n')"
   ]
  },
  {
   "cell_type": "code",
   "execution_count": 67,
   "metadata": {
    "colab": {},
    "colab_type": "code",
    "id": "dlrwxeVXpyPy"
   },
   "outputs": [
    {
     "name": "stdout",
     "output_type": "stream",
     "text": [
      "==== FAIL ===\n",
      "     got: 'a' \n",
      "expected: 'ab'\n",
      "\n",
      "===== OK ====\n",
      "     got: 'a' \n",
      "expected: 'a'\n",
      "\n"
     ]
    }
   ],
   "source": [
    "test('a', 'ab')\n",
    "test('a', 'a')"
   ]
  },
  {
   "cell_type": "markdown",
   "metadata": {
    "colab_type": "text",
    "id": "Zs2PtMcBpyPz"
   },
   "source": [
    "### Exercises - List operations"
   ]
  },
  {
   "cell_type": "markdown",
   "metadata": {
    "colab_type": "text",
    "id": "0wvLOXoIpyP0"
   },
   "source": [
    "#### Exercise 1 - Month days\n",
    "\n",
    "<font style=\"font-family:courier\" color=green><strong>def</strong></font>ine a <font style=\"font-family:courier\" color=blue>function</font> that inputs a string and <font style=\"font-family:courier\" color=green><strong>return</strong></font>s the **numbers of days in that month**.\n",
    "\n",
    "Hints: <br><font style=\"font-family:courier\">help(<font color=green>str</font>.index)</font>"
   ]
  },
  {
   "cell_type": "code",
   "execution_count": 71,
   "metadata": {
    "colab": {},
    "colab_type": "code",
    "id": "QnkcGN7KpyP0"
   },
   "outputs": [
    {
     "name": "stdout",
     "output_type": "stream",
     "text": [
      "month_days\n",
      "\n",
      "==== OK ====\n",
      "     got: 31 \n",
      "expected: 31\n",
      "\n",
      "==== OK ====\n",
      "     got: 28 \n",
      "expected: 28\n",
      "\n",
      "==== OK ====\n",
      "     got: 30 \n",
      "expected: 30\n",
      "\n",
      "==== OK ====\n",
      "     got: 31 \n",
      "expected: 31\n",
      "\n"
     ]
    }
   ],
   "source": [
    "months = [\"January\", \"February\", \"March\", \"April\", \"May\", \"June\", \"July\",\n",
    "          \"August\", \"September\", \"October\", \"November\", \"December\"]\n",
    "days = [31, 28, 31, 30, 31, 30, 31, 31, 30, 31, 30, 31]\n",
    "\n",
    "month_days_dict = {\"January\": 31, \"February\": 28, \"September\": 30, \"December\":31}\n",
    "\n",
    "def month_days(month):\n",
    "    return month_days_dict[month]\n",
    "\n",
    "print(\"month_days\", end = '\\n\\n')\n",
    "test(month_days(\"January\"), 31)\n",
    "test(month_days(\"February\"), 28)\n",
    "test(month_days(\"September\"), 30)\n",
    "test(month_days(\"December\"), 31)"
   ]
  },
  {
   "cell_type": "code",
   "execution_count": null,
   "metadata": {
    "colab": {},
    "colab_type": "code",
    "id": "yGWXloZFpyP1"
   },
   "outputs": [],
   "source": [
    "# MC\n",
    "\n",
    "def month_days(month):\n",
    "    months = [\"January\", \"February\", \"March\", \"April\", \"May\", \"June\", \"July\",\n",
    "              \"August\", \"September\", \"October\", \"November\", \"December\"]\n",
    "    days = [31, 28, 31, 30, 31, 30, 31, 31, 30, 31, 30, 31]\n",
    "    \n",
    "    i = months.index(month)\n",
    "    return days[i]\n",
    "\n",
    "print(\"month_days\", end = '\\n\\n')\n",
    "test(month_days(\"January\"), 31)\n",
    "test(month_days(\"February\"), 28)\n",
    "test(month_days(\"September\"), 30)\n",
    "test(month_days(\"December\"), 31)"
   ]
  },
  {
   "cell_type": "markdown",
   "metadata": {
    "colab_type": "text",
    "id": "X77nWmbVpyP7"
   },
   "source": [
    "#### Exercise 2 - Get unevens\n",
    "\n",
    "<font style=\"font-family:courier\" color=green><strong>def</strong></font>ine a function called <font style=\"font-family:courier\" color=blue>remove_even</font> that <font style=\"font-family:courier\" color=green><strong>return</strong></font>s a list after removing the even numbers from it.\n",
    "\n",
    "Hints: define a new list, <br><font style=\"font-family:courier\">help(<font color=green>str</font>.append)</font>"
   ]
  },
  {
   "cell_type": "code",
   "execution_count": null,
   "metadata": {
    "colab": {},
    "colab_type": "code",
    "id": "Pj_crCumpyP7"
   },
   "outputs": [],
   "source": [
    "num = [7, 8, 120, 25, 44, 20, 27]\n",
    "\n",
    "def remove_even(numbers_list):\n",
    "    \n",
    "\n",
    "print(\"get_unevens\", end = '\\n\\n')\n",
    "test(remove_even(num), [7,25,27])"
   ]
  },
  {
   "cell_type": "code",
   "execution_count": 72,
   "metadata": {
    "colab": {},
    "colab_type": "code",
    "id": "QulN24ZxpyP8"
   },
   "outputs": [
    {
     "name": "stdout",
     "output_type": "stream",
     "text": [
      "get_unevens\n",
      "\n",
      "========= OK ========\n",
      "     got: [7, 25, 27] \n",
      "expected: [7, 25, 27]\n",
      "\n"
     ]
    }
   ],
   "source": [
    "# MC\n",
    "\n",
    "num = [7, 8, 120, 25, 44, 20, 27]\n",
    "def remove_even(numbers_list):\n",
    "    new_numbers = []\n",
    "    for n in numbers_list:\n",
    "        if n % 2 != 0:\n",
    "            new_numbers.append(n)\n",
    "    return new_numbers\n",
    "\n",
    "print(\"get_unevens\", end = '\\n\\n')\n",
    "test(remove_even(num), [7, 25, 27])"
   ]
  },
  {
   "cell_type": "code",
   "execution_count": 73,
   "metadata": {},
   "outputs": [
    {
     "name": "stdout",
     "output_type": "stream",
     "text": [
      "get_unevens\n",
      "========= OK ========\n",
      "     got: [7, 25, 27] \n",
      "expected: [7, 25, 27]\n",
      "\n"
     ]
    }
   ],
   "source": [
    "# MC\n",
    "num = [7,8, 120, 25, 44, 20, 27]\n",
    "\n",
    "def remove_even(number_list):\n",
    "    num1 = number_list.copy()\n",
    "    for i in number_list:\n",
    "        if i%2 == 0:\n",
    "            num1.remove(i)\n",
    "    return num1\n",
    "\n",
    "print(\"get_unevens\")\n",
    "test(remove_even(num), [7,25,27])"
   ]
  },
  {
   "cell_type": "markdown",
   "metadata": {
    "colab_type": "text",
    "id": "o4F10aEwpyP9"
   },
   "source": [
    "#### Exercise 3 - Sum top\n",
    "\n",
    "What is the **total** of the <u>3 highest numbers</u> in this list?\n",
    "\n",
    "Hints: <br><font style=\"font-family:courier\"><font color=green>sorted</font>(<font style=\"font-family:courier\" color=purple><strong>...</strong></font>)[:<font style=\"font-family:courier\" color=green>3</font>]</font>"
   ]
  },
  {
   "cell_type": "code",
   "execution_count": 74,
   "metadata": {
    "colab": {},
    "colab_type": "code",
    "id": "BHY62qaYpyP-"
   },
   "outputs": [
    {
     "name": "stdout",
     "output_type": "stream",
     "text": [
      "sum_top\n",
      "\n",
      "===== OK ====\n",
      "     got: 505 \n",
      "expected: 505\n",
      "\n"
     ]
    }
   ],
   "source": [
    "numbers = [50, 23, 1, -50, 4, 400, 55, 32]\n",
    "\n",
    "def sum_top(numbers_list):\n",
    "    return sum(sorted(numbers_list)[-3:])\n",
    "\n",
    "print(\"sum_top\", end = '\\n\\n')\n",
    "test(sum_top(numbers), 505)"
   ]
  },
  {
   "cell_type": "code",
   "execution_count": null,
   "metadata": {
    "colab": {},
    "colab_type": "code",
    "id": "xkRWBGcCpyP_"
   },
   "outputs": [],
   "source": [
    "# MC\n",
    "numbers = [50, 23, 1, -50, 4, 400, 55, 32]\n",
    "\n",
    "def sum_top(numbers_list):\n",
    "    return sum(sorted(numbers_list, reverse = True)[:3])\n",
    "\n",
    "print(\"sum_top\", end = '\\n\\n')\n",
    "test(sum_top(numbers), 505)"
   ]
  },
  {
   "cell_type": "markdown",
   "metadata": {
    "colab_type": "text",
    "id": "J9vWaJ3ypyQB"
   },
   "source": [
    "#### Exercise 4 - Match ends \n",
    "\n",
    "Given a list of strings, <font style=\"font-family:courier\" color=green><strong>return</strong></font> the count of strings which the string length is <u>2 or more</u> and the first and last chars of the string are the same."
   ]
  },
  {
   "cell_type": "code",
   "execution_count": null,
   "metadata": {
    "colab": {},
    "colab_type": "code",
    "id": "9IVnt2tYpyQB"
   },
   "outputs": [],
   "source": [
    "text1 = (['aba', 'xyz', 'aa', 'x', 'bbb']) #3\n",
    "text2 = (['', 'x', 'xy', 'xyx', 'xx']) #2\n",
    "text3 = (['aaa', 'be', 'abc', 'hello']) #1\n",
    "\n",
    "def match_ends(words):\n",
    "    counter = 0\n",
    "    for word in words:\n",
    "        \n",
    "    return counter\n",
    "\n",
    "print('match ends', end = '\\n\\n')\n",
    "test(match_ends(text1), 3)\n",
    "test(match_ends(text2), 2)\n",
    "test(match_ends(text3), 1)"
   ]
  },
  {
   "cell_type": "code",
   "execution_count": null,
   "metadata": {
    "colab": {},
    "colab_type": "code",
    "id": "xa8DK5N_pyQC"
   },
   "outputs": [],
   "source": [
    "# MC\n",
    "\n",
    "text1 = (['aba', 'xyz', 'aa', 'x', 'bbb']) #3\n",
    "text2 = (['', 'x', 'xy', 'xyx', 'xx']) #2\n",
    "text3 = (['aaa', 'be', 'abc', 'hello']) #1\n",
    "\n",
    "def match_ends(words):\n",
    "    counter = 0\n",
    "    for word in words:\n",
    "        if len(word) >= 2 and word[0] == word[-1]:\n",
    "            counter += 1\n",
    "    return counter\n",
    "\n",
    "print('match ends', end = '\\n\\n')\n",
    "test(match_ends(text1), 3)\n",
    "test(match_ends(text2), 2)\n",
    "test(match_ends(text3), 1)"
   ]
  },
  {
   "cell_type": "code",
   "execution_count": null,
   "metadata": {
    "colab": {},
    "colab_type": "code",
    "id": "xa8DK5N_pyQC"
   },
   "outputs": [],
   "source": [
    "# MC\n",
    "## alternative\n",
    "\n",
    "text1 = (['aba', 'xyz', 'aa', 'x', 'bbb'])\n",
    "text2 = (['', 'x', 'xy', 'xyx', 'xx'])\n",
    "text3 = (['aaa', 'be', 'abc', 'hello'])\n",
    "\n",
    "def match_ends(words):\n",
    "    return len([word for word in words if (len(word) >= 2 and word.startswith(word[-1]))])\n",
    "\n",
    "print('match_ends', end = '\\n\\n')\n",
    "test(match_ends(text1), 3)\n",
    "test(match_ends(text2), 2)\n",
    "test(match_ends(text3), 1)"
   ]
  },
  {
   "cell_type": "markdown",
   "metadata": {
    "colab_type": "text",
    "id": "WngIZz4ipyQD",
    "toc-hr-collapsed": false
   },
   "source": [
    "## Dictionary operations\n",
    "\n",
    "A dictionary is a collection of key-value pairs. It is used to look up things and a very common used type. Notice the { } curly brackets and the \"key\": \"value\" notation. Notice the squared bracket for looking up.\n",
    "\n",
    "- <font style=\"font-family:courier\"><font color=green>len</font>(<font color=green>dict</font>)</font> – Gives the total length of the dictionary. This would be equal to the number of items in the dictionary.\n",
    "- <font style=\"font-family:courier\"><font color=green>dict</font>.clear()</font> -- Removes all elements of dictionary dict\n",
    "- <font style=\"font-family:courier\"><font color=green>dict</font>.copy()</font> – Returns a shallow copy of dictionary dict\n",
    "- <font style=\"font-family:courier\"><font color=green>dict</font>.update(dict2)</font> – Adds dictionary dict2's key-values pairs to dict\n",
    "- <font style=\"font-family:courier\"><font color=green>dict</font>.fromkeys()</font> – Create a new dictionary with keys from seq and values set to value.\n",
    "- <font style=\"font-family:courier\"><font color=green>dict</font>.get(key, default<strong><font color=purple>=</font><font color=green>None</font></strong>)</font> – For key key, returns value or default if key not in dictionary\n",
    "- <font style=\"font-family:courier\"><font color=green>dict</font>.setdefault(key, default<strong><font color=purple>=</font><font color=green>None</font></strong>)</font> – Similar to get(), but will set dict[key]=default if key is not already in dict\n",
    "- <font style=\"font-family:courier\"><font color=green>dict</font>.items()</font> – Returns an iterator of dict's (key, value) tuple pairs\n",
    "- <font style=\"font-family:courier\"><font color=green>dict</font>.keys()</font> – Returns iterator of dictionary dict's keys\n",
    "- <font style=\"font-family:courier\"><font color=green>dict</font>.values()</font> – Returns list of dictionary dict's values"
   ]
  },
  {
   "cell_type": "markdown",
   "metadata": {
    "colab_type": "text",
    "id": "qkd7EEmOpyQE"
   },
   "source": [
    "Let's create a dictionary to go try out these functionalities."
   ]
  },
  {
   "cell_type": "code",
   "execution_count": 103,
   "metadata": {},
   "outputs": [
    {
     "name": "stdout",
     "output_type": "stream",
     "text": [
      "Help on method_descriptor:\n",
      "\n",
      "popitem(...)\n",
      "    D.popitem() -> (k, v), remove and return some (key, value) pair as a\n",
      "    2-tuple; but raise KeyError if D is empty.\n",
      "\n"
     ]
    }
   ],
   "source": [
    "help(dict.popitem)"
   ]
  },
  {
   "cell_type": "code",
   "execution_count": 75,
   "metadata": {
    "colab": {},
    "colab_type": "code",
    "id": "BHiuWhtTpyQE"
   },
   "outputs": [
    {
     "data": {
      "text/plain": [
       "1.5"
      ]
     },
     "execution_count": 75,
     "metadata": {},
     "output_type": "execute_result"
    }
   ],
   "source": [
    "# MC\n",
    "\n",
    "prices = {\"apple\": 1.5, \"orange\": 3.25}\n",
    "prices[\"apple\"]"
   ]
  },
  {
   "cell_type": "markdown",
   "metadata": {
    "colab_type": "text",
    "id": "_9jT5HRkpyQF"
   },
   "source": [
    "The dictionary has now 2 items."
   ]
  },
  {
   "cell_type": "code",
   "execution_count": 76,
   "metadata": {
    "colab": {},
    "colab_type": "code",
    "id": "yWMqNCCTpyQG"
   },
   "outputs": [
    {
     "data": {
      "text/plain": [
       "2"
      ]
     },
     "execution_count": 76,
     "metadata": {},
     "output_type": "execute_result"
    }
   ],
   "source": [
    "# MC\n",
    "\n",
    "len(prices)"
   ]
  },
  {
   "cell_type": "markdown",
   "metadata": {
    "colab_type": "text",
    "id": "0GGOdX5GpyQI"
   },
   "source": [
    "We can copy and clear similar as a list."
   ]
  },
  {
   "cell_type": "code",
   "execution_count": 100,
   "metadata": {
    "colab": {},
    "colab_type": "code",
    "id": "CILLOD0QpyQJ"
   },
   "outputs": [
    {
     "name": "stdout",
     "output_type": "stream",
     "text": [
      "before dict.clear()\n",
      "{'apple': 1.75, 'orange': 3.25, 'pineapple': 1.0}\n",
      "{'apple': 1.75, 'orange': 3.25, 'pineapple': 1.0}\n",
      "{'apple': 1.5, 'orange': 3.25, 'pineapple': 1.0}\n",
      "140483150343696 140483150343696 140482613388544\n"
     ]
    }
   ],
   "source": [
    "# MC\n",
    "\n",
    "prices_2 = prices\n",
    "prices_3 = prices.copy()\n",
    "\n",
    "print('before dict.clear()')\n",
    "prices.update({\"apple\":1.75})\n",
    "print(prices)\n",
    "print(prices_2)\n",
    "print(prices_3)\n",
    "\n",
    "print(id(prices), id(prices_2), id(prices_3))"
   ]
  },
  {
   "cell_type": "code",
   "execution_count": 78,
   "metadata": {
    "colab": {},
    "colab_type": "code",
    "id": "CILLOD0QpyQJ"
   },
   "outputs": [
    {
     "name": "stdout",
     "output_type": "stream",
     "text": [
      "after dict.clear()\n",
      "{}\n",
      "{}\n",
      "{'apple': 1.5, 'orange': 3.25}\n"
     ]
    }
   ],
   "source": [
    "# MC \n",
    "\n",
    "prices.clear()\n",
    "\n",
    "print('after dict.clear()')\n",
    "print(prices)\n",
    "print(prices_2)\n",
    "print(prices_3)"
   ]
  },
  {
   "cell_type": "code",
   "execution_count": 79,
   "metadata": {
    "colab": {},
    "colab_type": "code",
    "id": "Nzy90FuypyQK"
   },
   "outputs": [],
   "source": [
    "# MC\n",
    "\n",
    "prices = prices_3"
   ]
  },
  {
   "cell_type": "markdown",
   "metadata": {
    "colab_type": "text",
    "id": "SrJDYCVXpyQM"
   },
   "source": [
    "The dictionary is  mutable like a list. This is how we can update the dictionary with a new value."
   ]
  },
  {
   "cell_type": "code",
   "execution_count": 80,
   "metadata": {
    "colab": {},
    "colab_type": "code",
    "id": "-MJWqcy5pyQN"
   },
   "outputs": [
    {
     "data": {
      "text/plain": [
       "{'apple': 1.5, 'orange': 3.25, 'banana': 2.3}"
      ]
     },
     "execution_count": 80,
     "metadata": {},
     "output_type": "execute_result"
    }
   ],
   "source": [
    "# MC\n",
    "prices = {\"apple\": 1.5, \"orange\": 3.25}\n",
    "\n",
    "# MC - something that does not exist can be directly input\n",
    "\n",
    "prices[\"banana\"] = 2.30\n",
    "prices"
   ]
  },
  {
   "cell_type": "markdown",
   "metadata": {
    "colab_type": "text",
    "id": "-k4FV_14pyQQ"
   },
   "source": [
    "To update one dictionary with the another dictionary we can use **update** method. Notice this is an **in-place** operation."
   ]
  },
  {
   "cell_type": "code",
   "execution_count": 81,
   "metadata": {
    "colab": {},
    "colab_type": "code",
    "id": "BLrJ-AOJpyQQ"
   },
   "outputs": [
    {
     "data": {
      "text/plain": [
       "{'apple': 1.5, 'orange': 3.25, 'banana': 2.3, 'mango': 1.22, 'durian': 5.6}"
      ]
     },
     "execution_count": 81,
     "metadata": {},
     "output_type": "execute_result"
    }
   ],
   "source": [
    "# MC\n",
    "\n",
    "prices.update({\"mango\":1.22, \"durian\":5.60})\n",
    "prices"
   ]
  },
  {
   "cell_type": "markdown",
   "metadata": {
    "colab_type": "text",
    "id": "sGg9_d13pyQS"
   },
   "source": [
    "You can **initiate a dictionary** with a list of keys."
   ]
  },
  {
   "cell_type": "code",
   "execution_count": 82,
   "metadata": {
    "colab": {},
    "colab_type": "code",
    "id": "eSHKf_qHpyQS"
   },
   "outputs": [
    {
     "name": "stdout",
     "output_type": "stream",
     "text": [
      "Help on built-in function fromkeys:\n",
      "\n",
      "fromkeys(iterable, value=None, /) method of builtins.type instance\n",
      "    Create a new dictionary with keys from iterable and values set to value.\n",
      "\n"
     ]
    }
   ],
   "source": [
    "# MC\n",
    "\n",
    "help(dict.fromkeys)"
   ]
  },
  {
   "cell_type": "code",
   "execution_count": 83,
   "metadata": {
    "colab": {},
    "colab_type": "code",
    "id": "ieKp75gXpyQT"
   },
   "outputs": [
    {
     "data": {
      "text/plain": [
       "{'Jeremy': [], 'Narjes': [], 'Amin': []}"
      ]
     },
     "execution_count": 83,
     "metadata": {},
     "output_type": "execute_result"
    }
   ],
   "source": [
    "# MC\n",
    "\n",
    "keys = [\"Jeremy\", \"Narjes\", \"Amin\"]\n",
    "dict.fromkeys(keys, [])"
   ]
  },
  {
   "cell_type": "markdown",
   "metadata": {
    "colab_type": "text",
    "id": "hJUpIj8PpyQV"
   },
   "source": [
    "**We can get values out of the dictionary in these 3 ways.**\n",
    "\n",
    "1. prices[\"orange\"] -- simple. throws error when \"orange\" is not in the dict.\n",
    "2. prices.get(\"orange\") -- returns None or a default when \"orange\" is not in the dict.\n",
    "3. prices.setdefault(\"orange\", 1) -- returns None or a default when \"orange\" is not in the dict and updates the dictionary with the default."
   ]
  },
  {
   "cell_type": "code",
   "execution_count": 106,
   "metadata": {
    "colab": {},
    "colab_type": "code",
    "id": "pSa5c4GDpyQV"
   },
   "outputs": [
    {
     "data": {
      "text/plain": [
       "tuple"
      ]
     },
     "execution_count": 106,
     "metadata": {},
     "output_type": "execute_result"
    }
   ],
   "source": [
    "# MC\n",
    "prices = {\"apple\": 1.5, \"orange\": 3.25}\n",
    "prices[\"orange\"]\n",
    "\n",
    "type(prices.popitem())"
   ]
  },
  {
   "cell_type": "markdown",
   "metadata": {
    "colab_type": "text",
    "id": "G4Qe04KspyQW"
   },
   "source": [
    "Stay calm."
   ]
  },
  {
   "cell_type": "code",
   "execution_count": 85,
   "metadata": {
    "colab": {},
    "colab_type": "code",
    "id": "amLL4CAhpyQW"
   },
   "outputs": [
    {
     "ename": "KeyError",
     "evalue": "'pineapple'",
     "output_type": "error",
     "traceback": [
      "\u001b[0;31m---------------------------------------------------------------------------\u001b[0m",
      "\u001b[0;31mKeyError\u001b[0m                                  Traceback (most recent call last)",
      "\u001b[0;32m<ipython-input-85-0c393f83f436>\u001b[0m in \u001b[0;36m<module>\u001b[0;34m\u001b[0m\n\u001b[1;32m      1\u001b[0m \u001b[0;31m# MC\u001b[0m\u001b[0;34m\u001b[0m\u001b[0;34m\u001b[0m\u001b[0;34m\u001b[0m\u001b[0m\n\u001b[1;32m      2\u001b[0m \u001b[0;34m\u001b[0m\u001b[0m\n\u001b[0;32m----> 3\u001b[0;31m \u001b[0mprices\u001b[0m\u001b[0;34m[\u001b[0m\u001b[0;34m\"pineapple\"\u001b[0m\u001b[0;34m]\u001b[0m\u001b[0;34m\u001b[0m\u001b[0;34m\u001b[0m\u001b[0m\n\u001b[0m",
      "\u001b[0;31mKeyError\u001b[0m: 'pineapple'"
     ]
    }
   ],
   "source": [
    "# MC\n",
    "\n",
    "prices[\"pineapple\"]"
   ]
  },
  {
   "cell_type": "markdown",
   "metadata": {
    "colab_type": "text",
    "id": "6kLxYqNJpyQX"
   },
   "source": [
    "Since 'pineapple' is not in the dictionary this throws a KeyError."
   ]
  },
  {
   "cell_type": "code",
   "execution_count": 86,
   "metadata": {
    "colab": {},
    "colab_type": "code",
    "id": "RZjp1VdZpyQX"
   },
   "outputs": [],
   "source": [
    "# MC\n",
    "\n",
    "prices.get('pineapple')"
   ]
  },
  {
   "cell_type": "code",
   "execution_count": 87,
   "metadata": {
    "colab": {},
    "colab_type": "code",
    "id": "wIoU6R-JpyQZ"
   },
   "outputs": [
    {
     "data": {
      "text/plain": [
       "1.0"
      ]
     },
     "execution_count": 87,
     "metadata": {},
     "output_type": "execute_result"
    }
   ],
   "source": [
    "# MC\n",
    "\n",
    "prices.get('pineapple', 1.0)"
   ]
  },
  {
   "cell_type": "code",
   "execution_count": 88,
   "metadata": {},
   "outputs": [
    {
     "data": {
      "text/plain": [
       "{'apple': 1.5, 'orange': 3.25}"
      ]
     },
     "execution_count": 88,
     "metadata": {},
     "output_type": "execute_result"
    }
   ],
   "source": [
    "prices"
   ]
  },
  {
   "cell_type": "code",
   "execution_count": 89,
   "metadata": {
    "colab": {},
    "colab_type": "code",
    "id": "YNAtK4YLpyQa"
   },
   "outputs": [
    {
     "name": "stdout",
     "output_type": "stream",
     "text": [
      "{'apple': 1.5, 'orange': 3.25}\n",
      "1.0\n",
      "{'apple': 1.5, 'orange': 3.25, 'pineapple': 1.0}\n"
     ]
    }
   ],
   "source": [
    "# MC\n",
    "\n",
    "print(prices)\n",
    "print(prices.setdefault('pineapple', 1.0))\n",
    "print(prices)"
   ]
  },
  {
   "cell_type": "markdown",
   "metadata": {
    "colab_type": "text",
    "id": "0THMhIyTpyQd"
   },
   "source": [
    "Let's say we have a dictionary of lists. We can use setdefault and append in one go."
   ]
  },
  {
   "cell_type": "code",
   "execution_count": 90,
   "metadata": {
    "colab": {},
    "colab_type": "code",
    "id": "ecAbwpYapyQd"
   },
   "outputs": [
    {
     "data": {
      "text/plain": [
       "{'pineapple': [10]}"
      ]
     },
     "execution_count": 90,
     "metadata": {},
     "output_type": "execute_result"
    }
   ],
   "source": [
    "# MC\n",
    "\n",
    "fruits = {}\n",
    "\n",
    "fruits.setdefault('pineapple', []).append(10)\n",
    "fruits"
   ]
  },
  {
   "cell_type": "markdown",
   "metadata": {
    "colab_type": "text",
    "id": "jLAQQXgqpyQf"
   },
   "source": [
    "Back to the fruit prices.\n",
    "\n",
    "**These 3 methods can be used for looping over dictionaries.**\n",
    "\n",
    "1. prices.keys() -- the keys\n",
    "2. prices.values() -- the values\n",
    "3. prices.items() -- the key-value pairs"
   ]
  },
  {
   "cell_type": "code",
   "execution_count": 91,
   "metadata": {
    "colab": {},
    "colab_type": "code",
    "id": "kasFY007pyQf"
   },
   "outputs": [
    {
     "data": {
      "text/plain": [
       "dict_keys(['apple', 'orange', 'pineapple'])"
      ]
     },
     "execution_count": 91,
     "metadata": {},
     "output_type": "execute_result"
    }
   ],
   "source": [
    "# MC\n",
    "\n",
    "prices.keys()"
   ]
  },
  {
   "cell_type": "code",
   "execution_count": 92,
   "metadata": {
    "colab": {},
    "colab_type": "code",
    "id": "iJFTF9qzpyQg"
   },
   "outputs": [
    {
     "data": {
      "text/plain": [
       "dict_values([1.5, 3.25, 1.0])"
      ]
     },
     "execution_count": 92,
     "metadata": {},
     "output_type": "execute_result"
    }
   ],
   "source": [
    "# MC\n",
    "\n",
    "prices.values()"
   ]
  },
  {
   "cell_type": "code",
   "execution_count": 93,
   "metadata": {
    "colab": {},
    "colab_type": "code",
    "id": "nkjrb1ZJpyQh"
   },
   "outputs": [
    {
     "data": {
      "text/plain": [
       "dict_items([('apple', 1.5), ('orange', 3.25), ('pineapple', 1.0)])"
      ]
     },
     "execution_count": 93,
     "metadata": {},
     "output_type": "execute_result"
    }
   ],
   "source": [
    "# MC\n",
    "\n",
    "prices.items()"
   ]
  },
  {
   "cell_type": "markdown",
   "metadata": {
    "colab_type": "text",
    "id": "v9qJNzQYpyQk"
   },
   "source": [
    "By default looping over a dictionary <u>gives you the keys</u>."
   ]
  },
  {
   "cell_type": "code",
   "execution_count": 96,
   "metadata": {
    "colab": {},
    "colab_type": "code",
    "id": "q67yrGkfpyQk"
   },
   "outputs": [
    {
     "name": "stdout",
     "output_type": "stream",
     "text": [
      "apple 1.5\n",
      "orange 3.25\n",
      "pineapple 1.0\n"
     ]
    }
   ],
   "source": [
    "# MC\n",
    "# By default, looping over a dict returns the keys\n",
    "for fruit in prices:\n",
    "    print(fruit, prices.get(fruit))"
   ]
  },
  {
   "cell_type": "markdown",
   "metadata": {
    "colab_type": "text",
    "id": "A1YPN0ZHpyQl"
   },
   "source": [
    "The best way to loop over the key-value pairs is using **prices.items()**"
   ]
  },
  {
   "cell_type": "code",
   "execution_count": 97,
   "metadata": {
    "colab": {},
    "colab_type": "code",
    "id": "fWDm6uMypyQl"
   },
   "outputs": [
    {
     "name": "stdout",
     "output_type": "stream",
     "text": [
      "apple 1.5\n",
      "orange 3.25\n",
      "pineapple 1.0\n"
     ]
    }
   ],
   "source": [
    "# MC\n",
    "\n",
    "for a,b in prices.items():\n",
    "    print(a,b)"
   ]
  },
  {
   "cell_type": "markdown",
   "metadata": {
    "colab_type": "text",
    "id": "TaauY9c8pyQm"
   },
   "source": [
    "### Summary - Dictionary operations"
   ]
  },
  {
   "cell_type": "markdown",
   "metadata": {
    "colab_type": "text",
    "id": "AADj_6CJpyQm"
   },
   "source": [
    "> #### dictionary operations\n",
    "Dictionary. A collection of key-value pairs. Used to look up things. The dict class provides many functionalities. The dict is a mutable object.\n",
    "```python\n",
    "prices = {}\n",
    "prices = {\"apple\": 1.5, \"orange\":3.5, \"banana\":2.5}\n",
    "prices[\"mango\"] = 2.0\n",
    "prices.update({\"strawberry\":4.0, \"melon\":10.0})\n",
    "prices[\"orange\"]\n",
    "prices.get(\"pineapple\", 1.0)\n",
    "prices.setdefault(\"pineapple\", 1.0)\n",
    "prices.keys()\n",
    "prices.values()\n",
    "prices.items()\n",
    "for k in price:\n",
    "    print(k)\n",
    "for k,v in prices.items():\n",
    "    print(k,v)\n",
    "prices.clear()\n",
    "prices.copy()\n",
    "prices.fromkeys([\"apple\", \"orange\", \"banana\"], 1.0)\n",
    "len(prices)\n",
    "```"
   ]
  },
  {
   "cell_type": "markdown",
   "metadata": {
    "colab_type": "text",
    "id": "6THPm330pyQm",
    "toc-hr-collapsed": false
   },
   "source": [
    "### RUN ME\n",
    "\n",
    "Please run the below code snippet. It is required for running tests for your solution."
   ]
  },
  {
   "cell_type": "code",
   "execution_count": 107,
   "metadata": {
    "colab": {},
    "colab_type": "code",
    "id": "7Ph8z_V0pyQn"
   },
   "outputs": [],
   "source": [
    "def test(got, expected):\n",
    "    max_width_print = min([int(79/3), \n",
    "                           len(repr(got)) + 10, \n",
    "                           len(repr(expected)) + 10])\n",
    "    \n",
    "    if got == expected:\n",
    "        prefix = ' OK '.center(max_width_print, '=')\n",
    "    else:\n",
    "        prefix = ' FAIL '.center(max_width_print, '=')\n",
    "    print(('%s\\n     got: %s \\nexpected: %s' % (prefix, repr(got), repr(expected))), \n",
    "          end = '\\n\\n')"
   ]
  },
  {
   "cell_type": "code",
   "execution_count": 108,
   "metadata": {
    "colab": {},
    "colab_type": "code",
    "id": "viEgrQtcpyQo"
   },
   "outputs": [
    {
     "name": "stdout",
     "output_type": "stream",
     "text": [
      "==== FAIL ===\n",
      "     got: 'a' \n",
      "expected: 'ab'\n",
      "\n",
      "===== OK ====\n",
      "     got: 'a' \n",
      "expected: 'a'\n",
      "\n"
     ]
    }
   ],
   "source": [
    "test('a', 'ab')\n",
    "test('a', 'a')"
   ]
  },
  {
   "cell_type": "markdown",
   "metadata": {
    "colab_type": "text",
    "id": "OUWrkFPepyQp"
   },
   "source": [
    "### Exercises - Dictionary operations"
   ]
  },
  {
   "cell_type": "markdown",
   "metadata": {
    "colab_type": "text",
    "id": "LnB1LjIGpyQp"
   },
   "source": [
    "#### Exercise 1 - Numbers info\n",
    "\n",
    "Given a list of numbers return a dictionary with info about the numbers. The dictionary should contain keys \"len\", \"max\", \"min\", \"sum\", \"avg\" with those measures as the respective values. Round avg to 2 decimals.\n",
    "\n",
    "Hints: sum()/len()"
   ]
  },
  {
   "cell_type": "code",
   "execution_count": null,
   "metadata": {
    "colab": {},
    "colab_type": "code",
    "id": "X47P4ufzpyQp"
   },
   "outputs": [],
   "source": [
    "numbers = [1, 4, 9, 16, 25]\n",
    "\n",
    "def info(numbers):\n",
    "    ## your code\n",
    "    \n",
    "print(\"numbers_info\")\n",
    "test(info(numbers), {'avg': 11.0, 'len': 5, 'max': 25, 'min': 1, 'sum': 55})"
   ]
  },
  {
   "cell_type": "code",
   "execution_count": 111,
   "metadata": {
    "colab": {},
    "colab_type": "code",
    "id": "x9x5HVChpyQq"
   },
   "outputs": [
    {
     "name": "stdout",
     "output_type": "stream",
     "text": [
      "numbers_info\n",
      "=========== OK ===========\n",
      "     got: {'len': 5, 'max': 25, 'min': 1, 'sum': 55, 'avg': 11} \n",
      "expected: {'avg': 11.0, 'len': 5, 'max': 25, 'min': 1, 'sum': 55}\n",
      "\n"
     ]
    }
   ],
   "source": [
    "# MC\n",
    "import statistics\n",
    "numbers = [1, 4, 9, 16, 25]\n",
    "\n",
    "def info(numbers):\n",
    "    result = {\"len\": len(numbers),\n",
    "              \"max\": max(numbers),\n",
    "              \"min\": min(numbers),\n",
    "              \"sum\": sum(numbers),\n",
    "              \"avg\": round(statistics.mean(numbers),2)}\n",
    "    return result\n",
    "\n",
    "print(\"numbers_info\")\n",
    "test(info(numbers), {'avg': 11.0, 'len': 5, 'max': 25, 'min': 1, 'sum': 55})"
   ]
  },
  {
   "cell_type": "markdown",
   "metadata": {
    "colab_type": "text",
    "id": "r2w0W4NMpyQr"
   },
   "source": [
    "#### Exercise 2 - Cart checkout\n",
    "Compute the total price of this cart. <u>By default everything cost RM 1</u>, except when prices are written.\n",
    "\n",
    "Hints: dict.get(), dict.items()"
   ]
  },
  {
   "cell_type": "code",
   "execution_count": 113,
   "metadata": {
    "colab": {},
    "colab_type": "code",
    "id": "CT2V9mK8pyQr"
   },
   "outputs": [],
   "source": [
    "cart = {'apple':12, \n",
    "       'banana': 1,\n",
    "       'orange': 2,\n",
    "       'pear':10}\n",
    "\n",
    "prices = {'mango':12,\n",
    "         'apple':2.5,\n",
    "         'orange':5.5,\n",
    "         'banana':3}"
   ]
  },
  {
   "cell_type": "code",
   "execution_count": 114,
   "metadata": {},
   "outputs": [
    {
     "name": "stdout",
     "output_type": "stream",
     "text": [
      "pear\n"
     ]
    }
   ],
   "source": [
    "for k in cart:\n",
    "    if k not in prices.keys():\n",
    "        print(k)"
   ]
  },
  {
   "cell_type": "code",
   "execution_count": 118,
   "metadata": {
    "colab": {},
    "colab_type": "code",
    "id": "e3YHxs0HpyQs"
   },
   "outputs": [
    {
     "name": "stdout",
     "output_type": "stream",
     "text": [
      "cart_checkout\n",
      "===== OK =====\n",
      "     got: 54.0 \n",
      "expected: 54.0\n",
      "\n"
     ]
    }
   ],
   "source": [
    "total=0\n",
    "\n",
    "## your code\n",
    "for item, quantity in cart.items():\n",
    "    price = prices.get(item,1)\n",
    "    total += quantity * price\n",
    "\n",
    "print(\"cart_checkout\")\n",
    "test(total, 54.0)"
   ]
  },
  {
   "cell_type": "code",
   "execution_count": 119,
   "metadata": {},
   "outputs": [
    {
     "name": "stdout",
     "output_type": "stream",
     "text": [
      "Help on method_descriptor:\n",
      "\n",
      "setdefault(self, key, default=None, /)\n",
      "    Insert key with a value of default if key is not in the dictionary.\n",
      "    \n",
      "    Return the value for key if key is in the dictionary, else default.\n",
      "\n"
     ]
    }
   ],
   "source": [
    "help(dict.setdefault)"
   ]
  },
  {
   "cell_type": "code",
   "execution_count": null,
   "metadata": {
    "colab": {},
    "colab_type": "code",
    "id": "9s8NfFSepyQt"
   },
   "outputs": [],
   "source": [
    "# MC\n",
    "\n",
    "total=0\n",
    "\n",
    "for k,v in cart.items():\n",
    "    print(k, v)\n",
    "    total += v * prices.get(k, 1)\n",
    "\n",
    "print(\"cart_checkout\")\n",
    "test(total, 54.0)"
   ]
  },
  {
   "cell_type": "markdown",
   "metadata": {
    "colab_type": "text",
    "id": "ENh0p-fNpyQu"
   },
   "source": [
    "#### Exercise 3 - Student Marks\n",
    "1. Write a function that add a mark to a student. Make sure the function can handle new students!\n",
    "1. Add 20 to Narjes, add 11 to Jeremy and add 5 to Darren\n",
    "1. Compute the average mark of Jeremy. Round it to 2 decimals\n",
    "\n",
    "Hints: dict.setdefault, sum()/len()"
   ]
  },
  {
   "cell_type": "code",
   "execution_count": null,
   "metadata": {
    "colab": {},
    "colab_type": "code",
    "id": "vgqx3QM-pyQu"
   },
   "outputs": [],
   "source": [
    "grades = {\n",
    "    'Amin':[12, 14, 20],\n",
    "    'Jeremy':[5, 12],\n",
    "    'Narjes':[10]\n",
    "}\n",
    "\n",
    "# 1. Write a function that adds a grade to a student.\n",
    "\n",
    "def add_grade(student_name, grade):\n",
    "    ## your code here\n",
    "    \n",
    "# 2. Add 20 to Narjes, add 11 to Jeremy and add 5 to Darren\n",
    "\n",
    "\n",
    "## your code here\n",
    "\n",
    "# 3. Compute the average grade of Jeremy\n",
    "\n",
    "average_jeremy = ## your code here\n",
    "\n",
    "# TEST\n",
    "print(\"grade_students\")\n",
    "test(grades, {'Amin': [12, 14, 20], 'Jeremy': [5, 12, 11], 'Narjes': [10, 20], 'Darren': [5]})\n",
    "test(average_jeremy, 9.33)"
   ]
  },
  {
   "cell_type": "code",
   "execution_count": 120,
   "metadata": {
    "colab": {},
    "colab_type": "code",
    "id": "SACP1J96pyQw"
   },
   "outputs": [
    {
     "name": "stdout",
     "output_type": "stream",
     "text": [
      "grade_students\n",
      "=========== OK ===========\n",
      "     got: {'Amin': [12, 14, 20], 'Jeremy': [5, 12, 11], 'Narjes': [10, 20], 'Darren': [5]} \n",
      "expected: {'Amin': [12, 14, 20], 'Jeremy': [5, 12, 11], 'Narjes': [10, 20], 'Darren': [5]}\n",
      "\n",
      "===== OK =====\n",
      "     got: 9.33 \n",
      "expected: 9.33\n",
      "\n"
     ]
    }
   ],
   "source": [
    "# MC\n",
    "\n",
    "grades = {\n",
    "    'Amin':[12, 14, 20],\n",
    "    'Jeremy':[5, 12],\n",
    "    'Narjes':[10]\n",
    "}\n",
    "\n",
    "# 1. Write a function that adds a grade to a student.\n",
    "\n",
    "def add_grade(student_name, grade):\n",
    "    grades.setdefault(student_name, []).append(grade)\n",
    "    \n",
    "# 2. Add 20 to Narjes, add 11 to Jeremy and add 5 to Darren\n",
    "\n",
    "add_grade(\"Narjes\", 20)\n",
    "add_grade(\"Jeremy\", 11)\n",
    "add_grade(\"Darren\", 5)\n",
    "\n",
    "# 3. Compute the average grade of Jeremy\n",
    "\n",
    "gj = grades[\"Jeremy\"]\n",
    "average_jeremy = round(sum(gj)/len(gj), 2)\n",
    "\n",
    "# TEST\n",
    "print(\"grade_students\")\n",
    "test(grades, {'Amin': [12, 14, 20], 'Jeremy': [5, 12, 11], 'Narjes': [10, 20], 'Darren': [5]})\n",
    "test(average_jeremy, 9.33)"
   ]
  },
  {
   "cell_type": "markdown",
   "metadata": {
    "colab_type": "text",
    "id": "HgD9TjQrpyQx",
    "toc-hr-collapsed": false
   },
   "source": [
    "## List comprehension and lambda"
   ]
  },
  {
   "cell_type": "markdown",
   "metadata": {
    "colab_type": "text",
    "id": "SlOh2kOWpyQx"
   },
   "source": [
    "### List Comprehensions\n",
    "\n",
    "A list comprehension is a compact expression to create a new list out of another list while applying filters and expressions. All in one line!\n",
    "\n",
    "We have a list of numbers: 1, 2, 3, 4, 5, 6, 7, 8, 9, 10\n",
    "\n",
    "We want to create a new list with these numbers, but we only want the odd numbers and we want to square those.\n",
    "\n",
    "This will give us: 1, 9, 25, 49, 81\n",
    "\n",
    "Let's try."
   ]
  },
  {
   "cell_type": "code",
   "execution_count": 123,
   "metadata": {
    "colab": {},
    "colab_type": "code",
    "id": "RV3vrTscpyQx"
   },
   "outputs": [],
   "source": [
    "numbers = [1,2,3,4,5,6,7,8,9,10]"
   ]
  },
  {
   "cell_type": "code",
   "execution_count": 124,
   "metadata": {
    "colab": {},
    "colab_type": "code",
    "id": "KzowoA8UpyQy"
   },
   "outputs": [
    {
     "data": {
      "text/plain": [
       "[1, 9, 25, 49, 81]"
      ]
     },
     "execution_count": 124,
     "metadata": {},
     "output_type": "execute_result"
    }
   ],
   "source": [
    "# MC\n",
    "\n",
    "newlist = [n**2 for n in numbers if n%2!=0]\n",
    "newlist\n",
    "\n",
    "newlist = []\n",
    "for n in numbers:\n",
    "    if n%2 != 0:\n",
    "        newlist.append(n**2)\n",
    "\n",
    "newlist"
   ]
  },
  {
   "cell_type": "markdown",
   "metadata": {
    "colab_type": "text",
    "id": "2cUL5Z8npyQz"
   },
   "source": [
    "Now we have a new list with the same items.\n",
    "\n",
    "Let's filter so that we keep the uneven numbers."
   ]
  },
  {
   "cell_type": "code",
   "execution_count": null,
   "metadata": {},
   "outputs": [],
   "source": [
    "numbers = [1,2,3,4,5,6,7,8,9,10]\n",
    "ans =[]\n",
    "\n",
    "for n in numbers:\n",
    "    if n%2!=0:\n",
    "        ans.append(n)"
   ]
  },
  {
   "cell_type": "code",
   "execution_count": null,
   "metadata": {
    "colab": {},
    "colab_type": "code",
    "id": "S1uoD7YCpyQ0"
   },
   "outputs": [],
   "source": [
    "# MC\n",
    "\n",
    "newlist = [n for n in numbers if n%2!=0]\n",
    "newlist"
   ]
  },
  {
   "cell_type": "markdown",
   "metadata": {
    "colab_type": "text",
    "id": "RCvKb9r8pyQ1"
   },
   "source": [
    "Now let's square those odd numbers"
   ]
  },
  {
   "cell_type": "code",
   "execution_count": null,
   "metadata": {
    "colab": {},
    "colab_type": "code",
    "id": "ZDhb1l3ypyQ1"
   },
   "outputs": [],
   "source": [
    "# MC\n",
    "\n",
    "newlist = [n**2 for n in numbers if n%2!=0]\n",
    "newlist"
   ]
  },
  {
   "cell_type": "markdown",
   "metadata": {
    "colab_type": "text",
    "id": "CTrHnHDApyQ2"
   },
   "source": [
    "Done! All in one line.\n",
    "\n",
    "So what did we do here?\n",
    "\n",
    "We looped over the numbers, applied a filter and applied an expression on each item n.\n",
    "- iterable: numbers\n",
    "- element: n\n",
    "- condition: n%2!=0\n",
    "- expression: n**2\n",
    "\n",
    "```python\n",
    "[ expression(element) for element in iterable if condition(element) ]\n",
    "```"
   ]
  },
  {
   "cell_type": "markdown",
   "metadata": {
    "colab_type": "text",
    "id": "CavOa0fCpyQ3"
   },
   "source": [
    "### Lambda\n",
    "\n",
    "The lambda is a **nameless function**. \n",
    "\n",
    "Sometimes your want to define a function for a single time usage. In that case a lambda function is more elegant than predefining a whole named function, that you will only use once.\n",
    "\n",
    "Lambda functions are mainly used in combination with the functions sort(), filter() and map()."
   ]
  },
  {
   "cell_type": "code",
   "execution_count": 144,
   "metadata": {},
   "outputs": [
    {
     "name": "stdout",
     "output_type": "stream",
     "text": [
      "[3, 4, 5]\n",
      "['positive', 'positive', 'positive']\n"
     ]
    }
   ],
   "source": [
    "def name(x):\n",
    "    return x+2\n",
    "\n",
    "# print(name(2))\n",
    "\n",
    "f = lambda x: x+2\n",
    "\n",
    "print(list(map(f, [1,2,3])))\n",
    "\n",
    "def sentiment(x):\n",
    "    return \"positive\"\n",
    "\n",
    "\n",
    "reviews = [\"This sucks\", \"It's great!\", \"blah\"]\n",
    "\n",
    "f = lambda x: sentiment(x)\n",
    "\n",
    "print(list(map(f, reviews)))"
   ]
  },
  {
   "cell_type": "code",
   "execution_count": 129,
   "metadata": {
    "colab": {},
    "colab_type": "code",
    "id": "dJNHWidopyQ3"
   },
   "outputs": [],
   "source": [
    "tuples = [(40,1,1), (1,2,3,4), (1000,2), (-1,5,5,5,5,55,5,5)]"
   ]
  },
  {
   "cell_type": "markdown",
   "metadata": {
    "colab_type": "text",
    "id": "_4Q3knZopyQ4"
   },
   "source": [
    "Let's say we want to sort this list of tuples based in the total value of the tuple."
   ]
  },
  {
   "cell_type": "code",
   "execution_count": 130,
   "metadata": {
    "colab": {},
    "colab_type": "code",
    "id": "7H9_EgTEpyQ4"
   },
   "outputs": [
    {
     "data": {
      "text/plain": [
       "[(-1, 5, 5, 5, 5, 55, 5, 5), (1, 2, 3, 4), (40, 1, 1), (1000, 2)]"
      ]
     },
     "execution_count": 130,
     "metadata": {},
     "output_type": "execute_result"
    }
   ],
   "source": [
    "# MC\n",
    "\n",
    "sorted(tuples)"
   ]
  },
  {
   "cell_type": "markdown",
   "metadata": {
    "colab_type": "text",
    "id": "fu7jafL1pyQ5"
   },
   "source": [
    "By default it is sorted based on the first value."
   ]
  },
  {
   "cell_type": "code",
   "execution_count": 134,
   "metadata": {
    "colab": {},
    "colab_type": "code",
    "id": "dxIWPL6QpyQ5"
   },
   "outputs": [
    {
     "name": "stdout",
     "output_type": "stream",
     "text": [
      "Help on built-in function sorted in module builtins:\n",
      "\n",
      "sorted(iterable, /, *, key=None, reverse=False)\n",
      "    Return a new list containing all items from the iterable in ascending order.\n",
      "    \n",
      "    A custom key function can be supplied to customize the sort order, and the\n",
      "    reverse flag can be set to request the result in descending order.\n",
      "\n"
     ]
    }
   ],
   "source": [
    "# MC\n",
    "\n",
    "help(sorted)"
   ]
  },
  {
   "cell_type": "code",
   "execution_count": 132,
   "metadata": {
    "colab": {},
    "colab_type": "code",
    "id": "GqANtT7spyQ6"
   },
   "outputs": [
    {
     "data": {
      "text/plain": [
       "[(1, 2, 3, 4), (40, 1, 1), (-1, 5, 5, 5, 5, 55, 5, 5), (1000, 2)]"
      ]
     },
     "execution_count": 132,
     "metadata": {},
     "output_type": "execute_result"
    }
   ],
   "source": [
    "def total(item):\n",
    "    return sum(item)\n",
    "\n",
    "sorted(tuples, key=total)"
   ]
  },
  {
   "cell_type": "markdown",
   "metadata": {
    "colab_type": "text",
    "id": "39IwG2QMpyQ7"
   },
   "source": [
    "The nameless lambda function enables us to do this in a more clean way."
   ]
  },
  {
   "cell_type": "code",
   "execution_count": 136,
   "metadata": {
    "colab": {},
    "colab_type": "code",
    "id": "TPuhw_RUpyQ7"
   },
   "outputs": [
    {
     "data": {
      "text/plain": [
       "[(-1, 5, 5, 5, 5, 55, 5, 5), (40, 1, 1), (1, 2, 3, 4), (1000, 2)]"
      ]
     },
     "execution_count": 136,
     "metadata": {},
     "output_type": "execute_result"
    }
   ],
   "source": [
    "# MC\n",
    "\n",
    "sorted(tuples, key=lambda x: min(x))"
   ]
  },
  {
   "cell_type": "markdown",
   "metadata": {
    "colab_type": "text",
    "id": "CDUv9FuIpyQ8"
   },
   "source": [
    "We can also filter based on the **last item**, which is indicated by [-1]"
   ]
  },
  {
   "cell_type": "code",
   "execution_count": 137,
   "metadata": {
    "colab": {},
    "colab_type": "code",
    "id": "VGa-TmmTpyQ8"
   },
   "outputs": [
    {
     "data": {
      "text/plain": [
       "[(40, 1, 1), (1000, 2), (1, 2, 3, 4), (-1, 5, 5, 5, 5, 55, 5, 5)]"
      ]
     },
     "execution_count": 137,
     "metadata": {},
     "output_type": "execute_result"
    }
   ],
   "source": [
    "# MC\n",
    "\n",
    "sorted(tuples, key=lambda x: x[-1])"
   ]
  },
  {
   "cell_type": "markdown",
   "metadata": {
    "colab_type": "text",
    "id": "AQhaIZt7pyQ9"
   },
   "source": [
    "The **filter()** function applies a filter function on the list. The outcome of the filter function is a boolean. \n",
    "\n",
    "Let's filter out the even numbers."
   ]
  },
  {
   "cell_type": "code",
   "execution_count": 138,
   "metadata": {},
   "outputs": [
    {
     "name": "stdout",
     "output_type": "stream",
     "text": [
      "Help on class filter in module builtins:\n",
      "\n",
      "class filter(object)\n",
      " |  filter(function or None, iterable) --> filter object\n",
      " |  \n",
      " |  Return an iterator yielding those items of iterable for which function(item)\n",
      " |  is true. If function is None, return the items that are true.\n",
      " |  \n",
      " |  Methods defined here:\n",
      " |  \n",
      " |  __getattribute__(self, name, /)\n",
      " |      Return getattr(self, name).\n",
      " |  \n",
      " |  __iter__(self, /)\n",
      " |      Implement iter(self).\n",
      " |  \n",
      " |  __next__(self, /)\n",
      " |      Implement next(self).\n",
      " |  \n",
      " |  __reduce__(...)\n",
      " |      Return state information for pickling.\n",
      " |  \n",
      " |  ----------------------------------------------------------------------\n",
      " |  Static methods defined here:\n",
      " |  \n",
      " |  __new__(*args, **kwargs) from builtins.type\n",
      " |      Create and return a new object.  See help(type) for accurate signature.\n",
      "\n"
     ]
    }
   ],
   "source": [
    "help(filter)"
   ]
  },
  {
   "cell_type": "code",
   "execution_count": 139,
   "metadata": {
    "colab": {},
    "colab_type": "code",
    "id": "XFfnpXA0pyQ9"
   },
   "outputs": [
    {
     "data": {
      "text/plain": [
       "<filter at 0x7fc478182e50>"
      ]
     },
     "execution_count": 139,
     "metadata": {},
     "output_type": "execute_result"
    }
   ],
   "source": [
    "# MC\n",
    "\n",
    "numbers = [1,2,3,4,5]\n",
    "filter(lambda x: x%2==0, numbers)"
   ]
  },
  {
   "cell_type": "markdown",
   "metadata": {
    "colab_type": "text",
    "id": "ta-Fq0zspyQ-"
   },
   "source": [
    "We got a filter object. To see the result we need to cast it to list."
   ]
  },
  {
   "cell_type": "code",
   "execution_count": 141,
   "metadata": {
    "colab": {},
    "colab_type": "code",
    "id": "ARKSEnijpyQ-"
   },
   "outputs": [
    {
     "data": {
      "text/plain": [
       "[1, 3, 5]"
      ]
     },
     "execution_count": 141,
     "metadata": {},
     "output_type": "execute_result"
    }
   ],
   "source": [
    "# MC\n",
    "\n",
    "list(filter(lambda x: x%2!=0, numbers))"
   ]
  },
  {
   "cell_type": "markdown",
   "metadata": {
    "colab_type": "text",
    "id": "UcIKu7wApyQ_"
   },
   "source": [
    "And now apply a mapping using **map()** to take the power of 3"
   ]
  },
  {
   "cell_type": "code",
   "execution_count": 23,
   "metadata": {
    "colab": {},
    "colab_type": "code",
    "id": "p_Pjc_5npyRA"
   },
   "outputs": [
    {
     "data": {
      "text/plain": [
       "[1, 4, 9, 16, 25]"
      ]
     },
     "execution_count": 23,
     "metadata": {},
     "output_type": "execute_result"
    }
   ],
   "source": [
    "# MC\n",
    "\n",
    "def power_2(x):\n",
    "    return x**2\n",
    "\n",
    "list(map(lambda x: x**2, numbers))"
   ]
  },
  {
   "cell_type": "code",
   "execution_count": 142,
   "metadata": {
    "colab": {},
    "colab_type": "code",
    "id": "5TdVa0lvpyRA"
   },
   "outputs": [
    {
     "data": {
      "text/plain": [
       "[4, 16]"
      ]
     },
     "execution_count": 142,
     "metadata": {},
     "output_type": "execute_result"
    }
   ],
   "source": [
    "# MC\n",
    "\n",
    "list(map(lambda x: x**2, filter(lambda x: x%2==0, numbers)))"
   ]
  },
  {
   "cell_type": "markdown",
   "metadata": {
    "colab_type": "text",
    "id": "beQf12RspyRB"
   },
   "source": [
    "### Summary - List comprehension and lambda"
   ]
  },
  {
   "cell_type": "markdown",
   "metadata": {
    "colab_type": "text",
    "id": "CHSw7GE0pyRD"
   },
   "source": [
    "> #### list comprehension\n",
    "A compact way to process all or part of the elements in a sequence and return a list with the results.\n",
    "```python\n",
    "numbers = [1,2,3,4,5]\n",
    "newlist = [n for n in numbers]\n",
    "newlist = [n for n in numbers if n%2==0]\n",
    "newlist = [n**2 for n in numbers if n%2==0]\n",
    "```"
   ]
  },
  {
   "cell_type": "markdown",
   "metadata": {
    "colab_type": "text",
    "id": "CCRczFpFpyRE"
   },
   "source": [
    "> #### lambda\n",
    "An anonymous inline function consisting of a single expression which is evaluated when the function is called. The syntax to create a lambda function is lambda [parameters]: expression\n",
    "```python\n",
    "sorted(numbers, key=lambda x: sum(x))\n",
    "filter(lambda x: x%2==0, numbers)\n",
    "map(lambda x: x**2, numbers)\n",
    "```"
   ]
  },
  {
   "cell_type": "markdown",
   "metadata": {
    "colab_type": "text",
    "id": "dMxwMEimpyRE",
    "toc-hr-collapsed": false
   },
   "source": [
    "### RUN ME\n",
    "\n",
    "Please run the below code snippet. It is required for running tests for your solution."
   ]
  },
  {
   "cell_type": "code",
   "execution_count": 145,
   "metadata": {
    "colab": {},
    "colab_type": "code",
    "id": "mrOgrvAQpyRF"
   },
   "outputs": [],
   "source": [
    "def test(got, expected):\n",
    "    max_width_print = min([int(79/3), \n",
    "                           len(repr(got)) + 10, \n",
    "                           len(repr(expected)) + 10])\n",
    "    \n",
    "    if got == expected:\n",
    "        prefix = ' OK '.center(max_width_print, '=')\n",
    "    else:\n",
    "        prefix = ' FAIL '.center(max_width_print, '=')\n",
    "    print(('%s\\n     got: %s \\nexpected: %s' % (prefix, repr(got), repr(expected))), \n",
    "          end = '\\n\\n')"
   ]
  },
  {
   "cell_type": "code",
   "execution_count": 146,
   "metadata": {
    "colab": {},
    "colab_type": "code",
    "id": "e2nFEkmCpyRF"
   },
   "outputs": [
    {
     "name": "stdout",
     "output_type": "stream",
     "text": [
      "==== FAIL ===\n",
      "     got: 'a' \n",
      "expected: 'ab'\n",
      "\n",
      "===== OK ====\n",
      "     got: 'a' \n",
      "expected: 'a'\n",
      "\n"
     ]
    }
   ],
   "source": [
    "test('a', 'ab')\n",
    "test('a', 'a')"
   ]
  },
  {
   "cell_type": "markdown",
   "metadata": {
    "colab_type": "text",
    "id": "CIw4wqjppyRG",
    "toc-hr-collapsed": false
   },
   "source": [
    "### Exercises - List comprehension and lambda"
   ]
  },
  {
   "cell_type": "markdown",
   "metadata": {
    "colab_type": "text",
    "id": "yTT49A7MpyRG"
   },
   "source": [
    "#### Exercise 1 - Negative ints\n",
    "\n",
    "Write a list comprehension to create a new list that contains only the negative numbers as integers and store it as newlist."
   ]
  },
  {
   "cell_type": "code",
   "execution_count": 147,
   "metadata": {
    "colab": {},
    "colab_type": "code",
    "id": "_DHS9ilapyRG"
   },
   "outputs": [
    {
     "name": "stdout",
     "output_type": "stream",
     "text": [
      "negative_ints\n",
      "=========== OK ===========\n",
      "     got: [-203, -68, -12] \n",
      "expected: [-203, -68, -12]\n",
      "\n"
     ]
    }
   ],
   "source": [
    "numbers = [34.6, -203.4, 44.9, -68.3, -12.2, 44.6, 12.7]\n",
    "\n",
    "newlist = [int(n) for n in numbers if n<0]\n",
    "\n",
    "# TEST\n",
    "print(\"negative_ints\")\n",
    "test(newlist, [-203, -68, -12])"
   ]
  },
  {
   "cell_type": "code",
   "execution_count": null,
   "metadata": {
    "colab": {},
    "colab_type": "code",
    "id": "yTjdZppLpyRH"
   },
   "outputs": [],
   "source": [
    "# MC\n",
    "\n",
    "numbers = [34.6, -203.4, 44.9, -68.3, -12.2, 44.6, 12.7]\n",
    "\n",
    "newlist = [int(n) for n in numbers if n < 0]\n",
    "\n",
    "# TEST\n",
    "print(\"negative_ints\")\n",
    "test(newlist, [-203, -68, -12])"
   ]
  },
  {
   "cell_type": "markdown",
   "metadata": {
    "colab_type": "text",
    "id": "BS5cZjzmpyRI"
   },
   "source": [
    "#### Exercise 2 - Power odds\n",
    "\n",
    "Write one line of Python that takes this list and makes a new list that only has the odd elements and power it with 3.\n",
    "\n",
    "Hints: x**3"
   ]
  },
  {
   "cell_type": "code",
   "execution_count": null,
   "metadata": {
    "colab": {},
    "colab_type": "code",
    "id": "Res-PqpRpyRI"
   },
   "outputs": [],
   "source": [
    "numbers = [1, 4, 9, 16, 25, 36, 49, 64, 81, 100]\n",
    "\n",
    "result = ##\n",
    "\n",
    "print(\"power_odds\")\n",
    "test(result, [1, 729, 15625, 117649, 531441])"
   ]
  },
  {
   "cell_type": "code",
   "execution_count": null,
   "metadata": {
    "colab": {},
    "colab_type": "code",
    "id": "jQ_H6PU-pyRJ"
   },
   "outputs": [],
   "source": [
    "# MC\n",
    "\n",
    "numbers = [1, 4, 9, 16, 25, 36, 49, 64, 81, 100]\n",
    "\n",
    "result = [n**3 for n in numbers if n%2!=0]\n",
    "\n",
    "print(\"power_odds\")\n",
    "test(result, [1, 729, 15625, 117649, 531441])"
   ]
  },
  {
   "cell_type": "markdown",
   "metadata": {
    "colab_type": "text",
    "id": "c6F0aNtZpyRK"
   },
   "source": [
    "#### Exercise 3 - Word lengths\n",
    "\n",
    "Write a list comprehsion to determine the length of each word except 'the' and store as word_lengths"
   ]
  },
  {
   "cell_type": "code",
   "execution_count": 148,
   "metadata": {
    "colab": {},
    "colab_type": "code",
    "id": "_7UDoWtApyRL"
   },
   "outputs": [
    {
     "name": "stdout",
     "output_type": "stream",
     "text": [
      "\n",
      "=========== OK ===========\n",
      "     got: [5, 5, 3, 5, 4, 4, 3] \n",
      "expected: [5, 5, 3, 5, 4, 4, 3]\n",
      "\n"
     ]
    }
   ],
   "source": [
    "sentence = \"the quick brown fox jumps over the lazy dog\"\n",
    "words = sentence.split()\n",
    "\n",
    "## your code\n",
    "word_lengths =  [len(word) for word in words if word != 'the']\n",
    "\n",
    "# TEST\n",
    "print()\n",
    "test(word_lengths, [5, 5, 3, 5, 4, 4, 3])"
   ]
  },
  {
   "cell_type": "code",
   "execution_count": null,
   "metadata": {
    "colab": {},
    "colab_type": "code",
    "id": "O-WChU3IpyRM"
   },
   "outputs": [],
   "source": [
    "# MC\n",
    "\n",
    "sentence = \"the quick brown fox jumps over the lazy dog\"\n",
    "\n",
    "words = sentence.split()\n",
    "word_lengths = [len(w) for w in words if w != \"the\"]\n",
    "\n",
    "# TEST\n",
    "print(\"words_lengths\")\n",
    "test(word_lengths, [5, 5, 3, 5, 4, 4, 3])"
   ]
  },
  {
   "cell_type": "markdown",
   "metadata": {
    "colab_type": "text",
    "id": "SM22RcZCpyRM"
   },
   "source": [
    "#### Exercise 4 - Celsius to Fahrenheit\n",
    "\n",
    "Convert the following list of temperatures in Celsius to Fahrenheit. Round the results to 2 decimals.\n",
    "\n",
    "Fahrenheit = 9/5*Celsius + 32"
   ]
  },
  {
   "cell_type": "code",
   "execution_count": null,
   "metadata": {
    "colab": {},
    "colab_type": "code",
    "id": "_CzND1a6pyRN"
   },
   "outputs": [],
   "source": [
    "celsius = [43.6, 67.3, 43.6, 56.4]\n",
    "fahrenheit = ## your code here\n",
    "\n",
    "# TEST\n",
    "print(\"celsius_to_fahrenheit\")\n",
    "test(fahrenheit, [110.48, 153.14, 110.48, 133.52])"
   ]
  },
  {
   "cell_type": "code",
   "execution_count": null,
   "metadata": {
    "colab": {},
    "colab_type": "code",
    "id": "yzUsLGjBpyRN"
   },
   "outputs": [],
   "source": [
    "# MC\n",
    "\n",
    "celsius = [43.6, 67.3, 43.6, 56.4]\n",
    "fahrenheit = [round((9/5)*c + 32, 2)  for c in celsius]\n",
    "\n",
    "# TEST\n",
    "print(\"celsius_to_fahrenheit\")\n",
    "test(fahrenheit, [110.48, 153.14, 110.48, 133.52])"
   ]
  },
  {
   "cell_type": "markdown",
   "metadata": {
    "colab_type": "text",
    "id": "tjldlPrbpyRO"
   },
   "source": [
    "#### Exercise 5 - Square odds lambda\n",
    "\n",
    "Write a <u>lambda function</u> that squares number for all odd numbers from 1 to 100\n",
    "\n",
    "Hints: filter(), map(), list()"
   ]
  },
  {
   "cell_type": "code",
   "execution_count": null,
   "metadata": {
    "colab": {},
    "colab_type": "code",
    "id": "9OsB-AxHpyRO"
   },
   "outputs": [],
   "source": [
    "numbers = list(range(1,100+1))\n",
    "\n",
    "answer = \n",
    "\n",
    "\n",
    "# TEST\n",
    "print(\"square_odds_lambda\")\n",
    "test_answer = [1, 9, 25, 49, 81, 121, 169, 225, 289, 361, 441, 529, 625, 729, 841, 961, 1089, 1225, 1369, 1521, 1681, 1849, 2025, 2209, 2401, 2601, 2809, 3025, 3249, 3481, 3721, 3969, 4225, 4489, 4761, 5041, 5329, 5625, 5929, 6241, 6561, 6889, 7225, 7569, 7921, 8281, 8649, 9025, 9409, 9801]\n",
    "test(answer, test_answer)"
   ]
  },
  {
   "cell_type": "code",
   "execution_count": null,
   "metadata": {
    "colab": {},
    "colab_type": "code",
    "id": "fEiU3Z3FpyRP"
   },
   "outputs": [],
   "source": [
    "# MC\n",
    "\n",
    "numbers = list(range(1,100+1))\n",
    "\n",
    "answer = list(map(lambda x: x**2,filter(lambda x: x%2!=0, numbers)))\n",
    "\n",
    "\n",
    "# TEST\n",
    "print(\"square_odds_lambda\")\n",
    "test_answer = [1, 9, 25, 49, 81, 121, 169, 225, 289, 361, 441, 529, 625, 729, 841, 961, 1089, 1225, 1369, 1521, 1681, 1849, 2025, 2209, 2401, 2601, 2809, 3025, 3249, 3481, 3721, 3969, 4225, 4489, 4761, 5041, 5329, 5625, 5929, 6241, 6561, 6889, 7225, 7569, 7921, 8281, 8649, 9025, 9409, 9801]\n",
    "test(answer, test_answer)"
   ]
  },
  {
   "cell_type": "markdown",
   "metadata": {
    "colab_type": "text",
    "id": "pwtzivE1pyRP"
   },
   "source": [
    "####  Exercise 6 - Square odds\n",
    "\n",
    "Write a list comprehension that square number for all odd numbers from 1 to 100\n",
    "\n",
    "Hints: range(1,100)"
   ]
  },
  {
   "cell_type": "code",
   "execution_count": null,
   "metadata": {
    "colab": {},
    "colab_type": "code",
    "id": "FN9vy0VypyRP"
   },
   "outputs": [],
   "source": [
    "answer = ## your code here\n",
    "\n",
    "# TEST\n",
    "test(answer, [1, 9, 25, 49, 81, 121, 169, 225, 289, 361, 441, 529, 625, 729, 841, \n",
    "              961, 1089, 1225, 1369, 1521, 1681, 1849, 2025, 2209, 2401, 2601, 2809, \n",
    "              3025, 3249, 3481, 3721, 3969, 4225, 4489, 4761, 5041, 5329, 5625, 5929, 6241, 6561, 6889, \n",
    "              7225, 7569, 7921, 8281, 8649, 9025, 9409, 9801])"
   ]
  },
  {
   "cell_type": "code",
   "execution_count": null,
   "metadata": {
    "colab": {},
    "colab_type": "code",
    "id": "iEbgg96wpyRQ"
   },
   "outputs": [],
   "source": [
    "# MC\n",
    "\n",
    "answer = [n**2 for n in range(1,101) if n%2!=0]\n",
    "\n",
    "# TEST\n",
    "test(answer, [1, 9, 25, 49, 81, 121, 169, 225, 289, 361, 441, 529, 625, 729, 841, \n",
    "              961, 1089, 1225, 1369, 1521, 1681, 1849, 2025, 2209, 2401, 2601, 2809, \n",
    "              3025, 3249, 3481, 3721, 3969, 4225, 4489, 4761, 5041, 5329, 5625, 5929, 6241, 6561, 6889, \n",
    "              7225, 7569, 7921, 8281, 8649, 9025, 9409, 9801])"
   ]
  },
  {
   "cell_type": "markdown",
   "metadata": {
    "colab_type": "text",
    "id": "ksyO8zFRpyRR"
   },
   "source": [
    "#### Exercise 7 - Extract A names lambda \n",
    "\n",
    "Write a lambda function to extract names that begin with 'A'"
   ]
  },
  {
   "cell_type": "code",
   "execution_count": 150,
   "metadata": {
    "colab": {},
    "colab_type": "code",
    "id": "3EwPlSoRpyRR"
   },
   "outputs": [
    {
     "name": "stdout",
     "output_type": "stream",
     "text": [
      "=========== OK ==========\n",
      "     got: ['Anne', 'Amy'] \n",
      "expected: ['Anne', 'Amy']\n",
      "\n"
     ]
    }
   ],
   "source": [
    "names = ['Anne', 'Amy', 'Bob', 'David', 'Carrie', 'Barbara', 'Zach']\n",
    "answer = list(filter(lambda x:x[0]=='A', names))\n",
    "\n",
    "# TEST\n",
    "test(answer, ['Anne', 'Amy'])"
   ]
  },
  {
   "cell_type": "code",
   "execution_count": null,
   "metadata": {
    "colab": {},
    "colab_type": "code",
    "id": "_a91oH_SpyRS"
   },
   "outputs": [],
   "source": [
    "# MC\n",
    "\n",
    "names = ['Anne', 'Amy', 'Bob', 'David', 'Carrie', 'Barbara', 'Zach']\n",
    "answer = list(filter(lambda x: x.startswith(\"A\"), names))\n",
    "\n",
    "# TEST\n",
    "print(\"extract_a_names_lambda\")\n",
    "test(answer, ['Anne', 'Amy'])"
   ]
  },
  {
   "cell_type": "markdown",
   "metadata": {
    "colab_type": "text",
    "id": "RdJeiJHHpyRU"
   },
   "source": [
    "#### Exercise 8 - Extract B names lc\n",
    "\n",
    "Write a list comprehension to extract the names that begin with 'B'"
   ]
  },
  {
   "cell_type": "code",
   "execution_count": 151,
   "metadata": {
    "colab": {},
    "colab_type": "code",
    "id": "jKi5DoQGpyRV"
   },
   "outputs": [
    {
     "name": "stdout",
     "output_type": "stream",
     "text": [
      "extract_b_names_lc\n",
      "=========== OK ===========\n",
      "     got: ['Bob', 'Barbara'] \n",
      "expected: ['Bob', 'Barbara']\n",
      "\n"
     ]
    }
   ],
   "source": [
    "names = ['Anne', 'Amy', 'Bob', 'David', 'Carrie', 'Barbara', 'Zach']\n",
    "answer = list(filter(lambda x: x.startswith(\"B\"), names))\n",
    "\n",
    "\n",
    "# TEST\n",
    "print(\"extract_b_names_lc\")\n",
    "test(answer, ['Bob', 'Barbara'])"
   ]
  },
  {
   "cell_type": "code",
   "execution_count": null,
   "metadata": {
    "colab": {},
    "colab_type": "code",
    "id": "xDfbwdH2pyRW"
   },
   "outputs": [],
   "source": [
    "# MC\n",
    "\n",
    "names = ['Anne', 'Amy', 'Bob', 'David', 'Carrie', 'Barbara', 'Zach']\n",
    "answer = [n for n in names if n.startswith(\"B\")]\n",
    "\n",
    "# TEST\n",
    "print(\"extract_b_names_lc\")\n",
    "test(answer, ['Bob', 'Barbara'])"
   ]
  },
  {
   "cell_type": "markdown",
   "metadata": {
    "colab_type": "text",
    "id": "2DbTKfF0pyRW"
   },
   "source": [
    "#### Exercise 9 - Sort last\n",
    "\n",
    "Given a list of non-empty tuples, return a list sorted in increasing\n",
    "order by the last element in each tuple. <br/>\n",
    "e.g. [(1, 7), (1, 3), (3, 4, 5), (2, 2)] yields\n",
    "[(2, 2), (1, 3), (3, 4, 5), (1, 7)] <br/>\n",
    "\n",
    "Hint: use a custom key= function to extract the last element form each tuple."
   ]
  },
  {
   "cell_type": "code",
   "execution_count": null,
   "metadata": {
    "colab": {},
    "colab_type": "code",
    "id": "mVenUUGrpyRX"
   },
   "outputs": [],
   "source": [
    "#output: [(2, 1), (3, 2), (1, 3)]\n",
    "list1 = [(1, 3), (3, 2), (2, 1)]\n",
    "\n",
    "#output: [(3, 1), (1, 2), (2, 3)]\n",
    "list2 = [(2, 3), (1, 2), (3, 1)]\n",
    "\n",
    "#output: [(2, 2), (1, 3), (3, 4, 5), (1, 7)]\n",
    "list3 = [(1, 7), (1, 3), (3, 4, 5), (2, 2)]\n",
    "\n",
    "def sort_last(tuples):\n",
    "    ## your code here\n",
    "\n",
    "\n",
    "# TEST\n",
    "test(sort_last(list1), [(2, 1), (3, 2), (1, 3)])\n",
    "test(sort_last(list2), [(3, 1), (1, 2), (2, 3)])\n",
    "test(sort_last(list3), [(2, 2), (1, 3), (3, 4, 5), (1, 7)])"
   ]
  },
  {
   "cell_type": "code",
   "execution_count": null,
   "metadata": {
    "colab": {},
    "colab_type": "code",
    "id": "KfNqNvMnpyRZ"
   },
   "outputs": [],
   "source": [
    "# MC\n",
    "\n",
    "#output: [(2, 1), (3, 2), (1, 3)]\n",
    "list1 = [(1, 3), (3, 2), (2, 1)]\n",
    "\n",
    "#output: [(3, 1), (1, 2), (2, 3)]\n",
    "list2 = [(2, 3), (1, 2), (3, 1)]\n",
    "\n",
    "#output: [(2, 2), (1, 3), (3, 4, 5), (1, 7)]\n",
    "list3 = [(1, 7), (1, 3), (3, 4, 5), (2, 2)]\n",
    "\n",
    "def sort_last(tuples):\n",
    "    return sorted(tuples, key=lambda x: x[-1])\n",
    "\n",
    "# TEST\n",
    "print(\"sort_last\")\n",
    "test(sort_last(list1), [(2, 1), (3, 2), (1, 3)])\n",
    "test(sort_last(list2), [(3, 1), (1, 2), (2, 3)])\n",
    "test(sort_last(list3), [(2, 2), (1, 3), (3, 4, 5), (1, 7)])"
   ]
  },
  {
   "cell_type": "markdown",
   "metadata": {
    "colab_type": "text",
    "id": "DDXOXolPpyRa"
   },
   "source": [
    "#### Exercise 10 - Coordinates\n",
    "\n",
    "Convert the following for loop code to list comprehension\n",
    "\n",
    "Hint: double list comprehension"
   ]
  },
  {
   "cell_type": "code",
   "execution_count": null,
   "metadata": {
    "colab": {},
    "colab_type": "code",
    "id": "Kn8UiSZXpyRb"
   },
   "outputs": [],
   "source": [
    "coords = []\n",
    "for x in range(4):\n",
    "    for y in range(2):\n",
    "        coordinate = (x, y)\n",
    "        coords.append(coordinate)\n",
    "print(coords)"
   ]
  },
  {
   "cell_type": "code",
   "execution_count": null,
   "metadata": {
    "colab": {},
    "colab_type": "code",
    "id": "SmZcg56XpyRb"
   },
   "outputs": [],
   "source": [
    "coords_lc = ## your code here\n",
    "\n",
    "# TEST\n",
    "print(\"coordinates\") \n",
    "test(coords_lc, [(0, 0), (0, 1), (1, 0), (1, 1), (2, 0), (2, 1), (3, 0), (3, 1)])"
   ]
  },
  {
   "cell_type": "code",
   "execution_count": 154,
   "metadata": {
    "colab": {},
    "colab_type": "code",
    "id": "nnuGD9N7pyRc"
   },
   "outputs": [
    {
     "name": "stdout",
     "output_type": "stream",
     "text": [
      "coordinates\n",
      "========== FAIL ==========\n",
      "     got: [(1, 5, 6), (1, 5, 7), (1, 5, 8), (1, 6, 6), (1, 6, 7), (1, 6, 8), (1, 7, 6), (1, 7, 7), (1, 7, 8), (2, 5, 6), (2, 5, 7), (2, 5, 8), (2, 6, 6), (2, 6, 7), (2, 6, 8), (2, 7, 6), (2, 7, 7), (2, 7, 8), (4, 5, 6), (4, 5, 7), (4, 5, 8), (4, 6, 6), (4, 6, 7), (4, 6, 8), (4, 7, 6), (4, 7, 7), (4, 7, 8)] \n",
      "expected: [(0, 0), (0, 1), (1, 0), (1, 1), (2, 0), (2, 1), (3, 0), (3, 1)]\n",
      "\n"
     ]
    }
   ],
   "source": [
    "# MC\n",
    "\n",
    "coords_lc = [(x,y,z) for x in [1,2,4] for y in [5,6,7] for z in [6,7,8]]\n",
    " \n",
    "# TEST\n",
    "print(\"coordinates\") \n",
    "test(coords_lc, [(0, 0), (0, 1), (1, 0), (1, 1), (2, 0), (2, 1), (3, 0), (3, 1)])"
   ]
  },
  {
   "cell_type": "code",
   "execution_count": null,
   "metadata": {},
   "outputs": [],
   "source": []
  }
 ],
 "metadata": {
  "colab": {
   "name": "Python_Day2_MC.ipynb",
   "provenance": [],
   "version": "0.3.2"
  },
  "kernelspec": {
   "display_name": "Python 3 (ipykernel)",
   "language": "python",
   "name": "python3"
  },
  "language_info": {
   "codemirror_mode": {
    "name": "ipython",
    "version": 3
   },
   "file_extension": ".py",
   "mimetype": "text/x-python",
   "name": "python",
   "nbconvert_exporter": "python",
   "pygments_lexer": "ipython3",
   "version": "3.9.7"
  }
 },
 "nbformat": 4,
 "nbformat_minor": 4
}
